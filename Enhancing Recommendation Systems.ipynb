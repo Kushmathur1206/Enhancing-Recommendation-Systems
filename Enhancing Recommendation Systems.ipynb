{
  "cells": [
    {
      "cell_type": "markdown",
      "metadata": {
        "id": "CvkOCF80qK2g"
      },
      "source": [
        "# Enhancing Recommendation Systems: A Comparative Analysis of Multimodal Feature Representations"
      ]
    },
    {
      "cell_type": "code",
      "execution_count": null,
      "metadata": {
        "id": "w0NTbljDW-TR"
      },
      "outputs": [],
      "source": [
        "import os\n",
        "os.environ[\"CUDA_VISIBLE_DEVICES\"]=\"0\"\n",
        "os.environ[\"CUDA_LAUNCH_BLOCKING\"]=\"0\""
      ]
    },
    {
      "cell_type": "code",
      "execution_count": null,
      "metadata": {
        "id": "h57AdGt_X40p"
      },
      "outputs": [],
      "source": [
        "import torch\n",
        "import random\n",
        "import numpy as np\n",
        "import pandas as pd\n",
        "from glob import glob\n",
        "from tqdm import tqdm\n",
        "from numpy.ma import masked_where"
      ]
    },
    {
      "cell_type": "code",
      "execution_count": null,
      "metadata": {
        "colab": {
          "base_uri": "https://localhost:8080/"
        },
        "id": "EEvZeEoQYGtC",
        "outputId": "1d7a8d42-7955-4774-8cf7-cd4245956165"
      },
      "outputs": [
        {
          "name": "stdout",
          "output_type": "stream",
          "text": [
            "Collecting torchsampler\n",
            "  Using cached torchsampler-0.1.2-py3-none-any.whl (5.6 kB)\n",
            "Requirement already satisfied: torch>=1.3 in /usr/local/lib/python3.10/dist-packages (from torchsampler) (2.2.1+cu121)\n",
            "Requirement already satisfied: torchvision>=0.5 in /usr/local/lib/python3.10/dist-packages (from torchsampler) (0.17.1+cu121)\n",
            "Requirement already satisfied: pandas in /usr/local/lib/python3.10/dist-packages (from torchsampler) (2.0.3)\n",
            "Requirement already satisfied: filelock in /usr/local/lib/python3.10/dist-packages (from torch>=1.3->torchsampler) (3.13.4)\n",
            "Requirement already satisfied: typing-extensions>=4.8.0 in /usr/local/lib/python3.10/dist-packages (from torch>=1.3->torchsampler) (4.11.0)\n",
            "Requirement already satisfied: sympy in /usr/local/lib/python3.10/dist-packages (from torch>=1.3->torchsampler) (1.12)\n",
            "Requirement already satisfied: networkx in /usr/local/lib/python3.10/dist-packages (from torch>=1.3->torchsampler) (3.3)\n",
            "Requirement already satisfied: jinja2 in /usr/local/lib/python3.10/dist-packages (from torch>=1.3->torchsampler) (3.1.3)\n",
            "Requirement already satisfied: fsspec in /usr/local/lib/python3.10/dist-packages (from torch>=1.3->torchsampler) (2023.6.0)\n",
            "Collecting nvidia-cuda-nvrtc-cu12==12.1.105 (from torch>=1.3->torchsampler)\n",
            "  Using cached nvidia_cuda_nvrtc_cu12-12.1.105-py3-none-manylinux1_x86_64.whl (23.7 MB)\n",
            "Collecting nvidia-cuda-runtime-cu12==12.1.105 (from torch>=1.3->torchsampler)\n",
            "  Using cached nvidia_cuda_runtime_cu12-12.1.105-py3-none-manylinux1_x86_64.whl (823 kB)\n",
            "Collecting nvidia-cuda-cupti-cu12==12.1.105 (from torch>=1.3->torchsampler)\n",
            "  Using cached nvidia_cuda_cupti_cu12-12.1.105-py3-none-manylinux1_x86_64.whl (14.1 MB)\n",
            "Collecting nvidia-cudnn-cu12==8.9.2.26 (from torch>=1.3->torchsampler)\n",
            "  Using cached nvidia_cudnn_cu12-8.9.2.26-py3-none-manylinux1_x86_64.whl (731.7 MB)\n",
            "Collecting nvidia-cublas-cu12==12.1.3.1 (from torch>=1.3->torchsampler)\n",
            "  Using cached nvidia_cublas_cu12-12.1.3.1-py3-none-manylinux1_x86_64.whl (410.6 MB)\n",
            "Collecting nvidia-cufft-cu12==11.0.2.54 (from torch>=1.3->torchsampler)\n",
            "  Using cached nvidia_cufft_cu12-11.0.2.54-py3-none-manylinux1_x86_64.whl (121.6 MB)\n",
            "Collecting nvidia-curand-cu12==10.3.2.106 (from torch>=1.3->torchsampler)\n",
            "  Using cached nvidia_curand_cu12-10.3.2.106-py3-none-manylinux1_x86_64.whl (56.5 MB)\n",
            "Collecting nvidia-cusolver-cu12==11.4.5.107 (from torch>=1.3->torchsampler)\n",
            "  Using cached nvidia_cusolver_cu12-11.4.5.107-py3-none-manylinux1_x86_64.whl (124.2 MB)\n",
            "Collecting nvidia-cusparse-cu12==12.1.0.106 (from torch>=1.3->torchsampler)\n",
            "  Using cached nvidia_cusparse_cu12-12.1.0.106-py3-none-manylinux1_x86_64.whl (196.0 MB)\n",
            "Collecting nvidia-nccl-cu12==2.19.3 (from torch>=1.3->torchsampler)\n",
            "  Using cached nvidia_nccl_cu12-2.19.3-py3-none-manylinux1_x86_64.whl (166.0 MB)\n",
            "Requirement already satisfied: nvidia-nvtx-cu12==12.1.105 in /usr/local/lib/python3.10/dist-packages (from torch>=1.3->torchsampler) (12.1.105)\n",
            "Requirement already satisfied: triton==2.2.0 in /usr/local/lib/python3.10/dist-packages (from torch>=1.3->torchsampler) (2.2.0)\n",
            "Requirement already satisfied: nvidia-nvjitlink-cu12 in /usr/local/lib/python3.10/dist-packages (from nvidia-cusolver-cu12==11.4.5.107->torch>=1.3->torchsampler) (12.4.127)\n",
            "Requirement already satisfied: numpy in /usr/local/lib/python3.10/dist-packages (from torchvision>=0.5->torchsampler) (1.25.2)\n",
            "Requirement already satisfied: pillow!=8.3.*,>=5.3.0 in /usr/local/lib/python3.10/dist-packages (from torchvision>=0.5->torchsampler) (9.4.0)\n",
            "Requirement already satisfied: python-dateutil>=2.8.2 in /usr/local/lib/python3.10/dist-packages (from pandas->torchsampler) (2.8.2)\n",
            "Requirement already satisfied: pytz>=2020.1 in /usr/local/lib/python3.10/dist-packages (from pandas->torchsampler) (2023.4)\n",
            "Requirement already satisfied: tzdata>=2022.1 in /usr/local/lib/python3.10/dist-packages (from pandas->torchsampler) (2024.1)\n",
            "Requirement already satisfied: six>=1.5 in /usr/local/lib/python3.10/dist-packages (from python-dateutil>=2.8.2->pandas->torchsampler) (1.16.0)\n",
            "Requirement already satisfied: MarkupSafe>=2.0 in /usr/local/lib/python3.10/dist-packages (from jinja2->torch>=1.3->torchsampler) (2.1.5)\n",
            "Requirement already satisfied: mpmath>=0.19 in /usr/local/lib/python3.10/dist-packages (from sympy->torch>=1.3->torchsampler) (1.3.0)\n",
            "Installing collected packages: nvidia-nccl-cu12, nvidia-cusparse-cu12, nvidia-curand-cu12, nvidia-cufft-cu12, nvidia-cuda-runtime-cu12, nvidia-cuda-nvrtc-cu12, nvidia-cuda-cupti-cu12, nvidia-cublas-cu12, nvidia-cusolver-cu12, nvidia-cudnn-cu12, torchsampler\n",
            "Successfully installed nvidia-cublas-cu12-12.1.3.1 nvidia-cuda-cupti-cu12-12.1.105 nvidia-cuda-nvrtc-cu12-12.1.105 nvidia-cuda-runtime-cu12-12.1.105 nvidia-cudnn-cu12-8.9.2.26 nvidia-cufft-cu12-11.0.2.54 nvidia-curand-cu12-10.3.2.106 nvidia-cusolver-cu12-11.4.5.107 nvidia-cusparse-cu12-12.1.0.106 nvidia-nccl-cu12-2.19.3 torchsampler-0.1.2\n"
          ]
        }
      ],
      "source": [
        "!pip install torchsampler"
      ]
    },
    {
      "cell_type": "code",
      "execution_count": null,
      "metadata": {
        "id": "HzapwZvfX4x_"
      },
      "outputs": [],
      "source": [
        "from sklearn.preprocessing import normalize\n",
        "from torch.utils.data import Dataset, DataLoader\n",
        "from torchsampler import ImbalancedDatasetSampler\n",
        "from sklearn.metrics.pairwise import cosine_similarity\n",
        "from sklearn.metrics import confusion_matrix, classification_report\n",
        "from sklearn.metrics import f1_score, precision_score, recall_score"
      ]
    },
    {
      "cell_type": "code",
      "execution_count": null,
      "metadata": {
        "id": "oZ8EUN2DX4vf"
      },
      "outputs": [],
      "source": [
        "items = pd.read_csv(\"items.csv\")\n",
        "\n",
        "r_cols = ['user_id', 'movie_id', 'rating', 'unix_timestamp']\n",
        "ratings = pd.read_csv('u1.base', sep='\\t', names=r_cols,encoding='latin-1')"
      ]
    },
    {
      "cell_type": "code",
      "execution_count": null,
      "metadata": {
        "id": "wmCfcEaQX4st"
      },
      "outputs": [],
      "source": [
        "n_users = 943\n",
        "n_items = 1682"
      ]
    },
    {
      "cell_type": "code",
      "execution_count": null,
      "metadata": {
        "id": "uX5aAi0bX4p5"
      },
      "outputs": [],
      "source": [
        "data_matrix = np.zeros((n_users, n_items))\n",
        "for line in ratings.itertuples():\n",
        "    data_matrix[line[1]-1, line[2]-1] = line[3]"
      ]
    },
    {
      "cell_type": "code",
      "execution_count": null,
      "metadata": {
        "id": "yX17P99_X4m3"
      },
      "outputs": [],
      "source": [
        "data_matrix_emp = data_matrix.copy()\n",
        "data_matrix_emp[data_matrix < 4] = 0\n",
        "data_matrix_emp[data_matrix >= 4]= 1"
      ]
    },
    {
      "cell_type": "code",
      "execution_count": null,
      "metadata": {
        "id": "dYfhMXzeX4j7"
      },
      "outputs": [],
      "source": [
        "train_indices = list(zip(*(np.where(data_matrix != 0))))"
      ]
    },
    {
      "cell_type": "code",
      "execution_count": null,
      "metadata": {
        "colab": {
          "base_uri": "https://localhost:8080/"
        },
        "id": "-GLrBRK3X4hD",
        "outputId": "1121fc54-e718-4ad0-ad8d-26561788c8b2"
      },
      "outputs": [
        {
          "data": {
            "text/plain": [
              "False"
            ]
          },
          "execution_count": 14,
          "metadata": {},
          "output_type": "execute_result"
        }
      ],
      "source": [
        "torch.cuda.is_available()"
      ]
    },
    {
      "cell_type": "code",
      "execution_count": null,
      "metadata": {
        "colab": {
          "base_uri": "https://localhost:8080/",
          "height": 36
        },
        "id": "3EUVq5TSX4eK",
        "outputId": "5cf4c3cd-3e89-4475-a3fe-b7f708462576"
      },
      "outputs": [
        {
          "data": {
            "application/vnd.google.colaboratory.intrinsic+json": {
              "type": "string"
            },
            "text/plain": [
              "'2.2.1+cu121'"
            ]
          },
          "execution_count": 15,
          "metadata": {},
          "output_type": "execute_result"
        }
      ],
      "source": [
        "torch.__version__"
      ]
    },
    {
      "cell_type": "code",
      "execution_count": null,
      "metadata": {
        "id": "NQvXN8zIX4bR"
      },
      "outputs": [],
      "source": [
        "items_csv = \"items.csv\"\n",
        "train_ratings = \"u1.base\"\n",
        "test_ratings = \"u1.test\"\n",
        "\n",
        "item_path = \"\"\n",
        "ROW = 30\n",
        "BATCH = 2000"
      ]
    },
    {
      "cell_type": "code",
      "execution_count": null,
      "metadata": {
        "id": "fGD1DOgYX4Yh"
      },
      "outputs": [],
      "source": [
        "device = torch.device(\"cuda:0\" if torch.cuda.is_available() else \"cpu\")"
      ]
    },
    {
      "cell_type": "code",
      "execution_count": null,
      "metadata": {
        "id": "BX22IkBnX4V7"
      },
      "outputs": [],
      "source": [
        "class MovielensDataset(Dataset):\n",
        "    def __init__(self, ratings = train_ratings, item_path = item_path, device = device):\n",
        "        self.item_path = item_path\n",
        "        self.video_embeddings = pd.read_csv(item_path + \"embeddings(video).csv\").to_numpy()\n",
        "        self.audio_embeddings = pd.read_csv(item_path + \"embeddings(audiio).csv\").to_numpy()\n",
        "        self.meta_embeddings = pd.read_csv(item_path + \"embeddings(meta).csv\").to_numpy()\n",
        "        self.text_embeddings = pd.read_csv(item_path + \"embeddings(text).csv\").to_numpy()\n",
        "        self.ratings = pd.read_csv(ratings, sep='\\t',\n",
        "                                   names=['user_id', 'movie_id', 'rating', 'unix_timestamp'],encoding='latin-1')\n",
        "        self.indices = None\n",
        "        self.device = device\n",
        "        self.data = None\n",
        "        self.n_users = None\n",
        "        self.n_items = None\n",
        "        self.fill_ratings()\n",
        "        self.embeddings()\n",
        "\n",
        "    def fill_ratings(self, threshold=4):\n",
        "        self.n_users = self.ratings.user_id.unique().shape[0]\n",
        "        self.n_items = self.ratings.movie_id.unique().shape[0]\n",
        "\n",
        "        self.data = np.zeros((n_users, n_items))\n",
        "        for line in self.ratings.itertuples():\n",
        "            self.data[line[1]-1, line[2]-1] = line[3]\n",
        "\n",
        "        self.data_emp = np.where(np.logical_and(self.data > 3,\n",
        "                            np.random.random_sample(self.data.shape) <= 0.2), 1, 0)\n",
        "        self.indices = list(zip(*(np.where(self.data != 0))))\n",
        "\n",
        "    def embeddings(self):\n",
        "        print(self.video_embeddings.shape)\n",
        "        self.audio_embeddings = normalize(self.audio_embeddings, axis = 0)\n",
        "        self.video_embeddings = normalize(self.video_embeddings, axis = 0)\n",
        "        self.user_embeddings = np.divide(np.dot(self.data_emp, self.meta_embeddings),\n",
        "                                         self.data_emp.sum(axis = 1)[:, None] + 0.001)\n",
        "#         self.user_embeddings = data_matrix\n",
        "        self.item_embeddings = data_matrix.T\n",
        "        self.video_embedding_size = self.video_embeddings.shape[1]\n",
        "        self.audio_embedding_size = self.audio_embeddings.shape[1]\n",
        "        self.text_embedding_size = self.text_embeddings.shape[1]\n",
        "        self.user_embedding_size = self.user_embeddings.shape[1]\n",
        "        self.item_embedding_size = self.item_embeddings.shape[1]\n",
        "        self.meta_embedding_size = self.meta_embeddings.shape[1]\n",
        "\n",
        "    def __len__(self):\n",
        "        return(len(self.indices))\n",
        "\n",
        "    def __getitem__(self, idx):\n",
        "        user = self.indices[idx][0]\n",
        "        item = self.indices[idx][1]\n",
        "\n",
        "#         xu = self.user_embeddings(torch.LongTensor([user])).squeeze().to(self.device)\n",
        "        xu = torch.from_numpy(self.user_embeddings[user]).to(self.device)\n",
        "        xa = torch.from_numpy(self.audio_embeddings[item]).to(self.device)\n",
        "        xv = torch.from_numpy(self.video_embeddings[item]).to(self.device)\n",
        "        xt = torch.from_numpy(self.text_embeddings[item]).to(self.device)\n",
        "        xi = torch.from_numpy(self.item_embeddings[item]).to(self.device)\n",
        "        xm = torch.from_numpy(self.meta_embeddings[item]).to(self.device)\n",
        "\n",
        "        y = self.data[user][item]\n",
        "        return(xu.float(), [xv.float(), xa.float(), xt.float(), xi.float(), xm.float()], int(y))"
      ]
    },
    {
      "cell_type": "code",
      "execution_count": null,
      "metadata": {
        "colab": {
          "base_uri": "https://localhost:8080/"
        },
        "id": "i5pAM4PbX4Q5",
        "outputId": "b06dd058-ab8b-4291-907b-7618d2dc69db"
      },
      "outputs": [
        {
          "name": "stdout",
          "output_type": "stream",
          "text": [
            "(1682, 1024)\n",
            "(1682, 1024)\n"
          ]
        }
      ],
      "source": [
        "train_dataset = MovielensDataset(ratings = train_ratings)\n",
        "test_dataset = MovielensDataset(ratings = test_ratings)"
      ]
    },
    {
      "cell_type": "code",
      "execution_count": null,
      "metadata": {
        "colab": {
          "base_uri": "https://localhost:8080/"
        },
        "id": "mf-_NlbsX4OX",
        "outputId": "ec064315-c976-4210-baa4-3300c88b3920"
      },
      "outputs": [
        {
          "name": "stderr",
          "output_type": "stream",
          "text": [
            "0it [00:00, ?it/s]"
          ]
        },
        {
          "name": "stdout",
          "output_type": "stream",
          "text": [
            "2000\n"
          ]
        },
        {
          "name": "stderr",
          "output_type": "stream",
          "text": [
            "\n"
          ]
        }
      ],
      "source": [
        "trainloader = DataLoader(train_dataset, batch_size = BATCH, shuffle = True)\n",
        "testloader = DataLoader(test_dataset, batch_size = BATCH, shuffle = False)\n",
        "\n",
        "for i, data in tqdm(enumerate(trainloader)):\n",
        "                #self.train()\n",
        "                x1, x2, y = data\n",
        "                print(len(x2[0]))\n",
        "                break"
      ]
    },
    {
      "cell_type": "code",
      "execution_count": null,
      "metadata": {
        "id": "uj_vgTdfY7EL"
      },
      "outputs": [],
      "source": [
        "from tqdm import tqdm\n",
        "import torch.nn as nn\n",
        "import torch.optim as optim\n",
        "import torch.nn.functional as F\n",
        "from collections import OrderedDict"
      ]
    },
    {
      "cell_type": "code",
      "execution_count": null,
      "metadata": {
        "id": "h3853yfPY7Bq"
      },
      "outputs": [],
      "source": [
        "weight = np.array([np.count_nonzero(train_dataset.data == i) for i in range(1, 6)])\n",
        "weight = weight.max() / weight\n",
        "weight = torch.Tensor(weight).to(device)"
      ]
    },
    {
      "cell_type": "code",
      "execution_count": null,
      "metadata": {
        "id": "I6D7HCVkY6-_"
      },
      "outputs": [],
      "source": [
        "def weighted_mse_loss(pred, target, weight=weight):\n",
        "    target = target.long()\n",
        "    weight = weight[target - 1].to(pred.dtype)\n",
        "    loss = (pred - target.to(pred.dtype)).pow(2)\n",
        "    return ((weight * loss).mean(), loss.mean())"
      ]
    },
    {
      "cell_type": "code",
      "execution_count": null,
      "metadata": {
        "id": "A3RZ_6fFY68c"
      },
      "outputs": [],
      "source": [
        "class SiameseNet(nn.Module):\n",
        "    def __init__(self, device = device, channel = 84):\n",
        "        super(SiameseNet, self).__init__()\n",
        "        self.encoder_user = nn.Sequential(OrderedDict([\n",
        "            ('linr1', nn.Linear(train_dataset.user_embedding_size, 1024)),\n",
        "            ('relu1', nn.LeakyReLU()),\n",
        "            ('linr2', nn.Linear(1024, channel)),\n",
        "            ('relu2', nn.LeakyReLU()),\n",
        "        ]))\n",
        "\n",
        "        self.encoder_item = nn.Sequential(OrderedDict([\n",
        "            ('linr1', nn.Linear(train_dataset.item_embedding_size, 256)),\n",
        "            ('relu1', nn.LeakyReLU()),\n",
        "            ('linr2', nn.Linear(256, 300)),\n",
        "            ('relu2', nn.LeakyReLU()),\n",
        "        ]))\n",
        "\n",
        "        self.encoder_video = nn.Sequential(OrderedDict([\n",
        "            ('linr1', nn.Linear(train_dataset.video_embedding_size, 1600)),\n",
        "            ('relu1', nn.LeakyReLU()),\n",
        "            ('linr2', nn.Linear(1600, 300)),\n",
        "            ('relu2', nn.LeakyReLU()),\n",
        "#             ('linr3', nn.Linear(1000, 500)),\n",
        "#             ('relu3', nn.LeakyReLU()),\n",
        "# #             ('norm2', nn.BatchNorm1d(500)),\n",
        "#             ('linr4', nn.Linear(500, 300)),\n",
        "#             ('relu4', nn.LeakyReLU()),\n",
        "        ]))\n",
        "\n",
        "        self.encoder_audio = nn.Sequential(OrderedDict([\n",
        "            ('linr1', nn.Linear(train_dataset.audio_embedding_size, 600)),\n",
        "            ('relu1', nn.LeakyReLU()),\n",
        "            ('linr4', nn.Linear(600, 300)),\n",
        "            ('relu4', nn.LeakyReLU()),\n",
        "        ]))\n",
        "\n",
        "        self.encoder_text = nn.Sequential(OrderedDict([\n",
        "            ('linr1', nn.Linear(train_dataset.text_embedding_size, 256)),\n",
        "            ('relu1', nn.LeakyReLU()),\n",
        "            ('linr2', nn.Linear(256, 300)),\n",
        "            ('relu2', nn.LeakyReLU()),\n",
        "        ]))\n",
        "\n",
        "        self.encoder_meta = nn.Sequential(OrderedDict([\n",
        "            ('linr1', nn.Linear(train_dataset.meta_embedding_size, 1600)),\n",
        "            ('relu1', nn.LeakyReLU()),\n",
        "#             ('norm1', nn.BatchNorm1d(1600)),\n",
        "            ('linr2', nn.Linear(1600, 300)),\n",
        "            ('relu2', nn.LeakyReLU()),\n",
        "#             ('linr3', nn.Linear(1000, 500)),\n",
        "#             ('relu3', nn.LeakyReLU()),\n",
        "#             ('linr4', nn.Linear(500, 300)),\n",
        "#             ('relu4', nn.LeakyReLU()),\n",
        "        ]))\n",
        "\n",
        "        self.fusion = nn.Sequential(OrderedDict([\n",
        "            ('conv1', nn.Conv2d(1, 1, (20, 20), stride=(2, 2))),\n",
        "            ('relu1', nn.LeakyReLU()),\n",
        "            ('conv2', nn.Conv2d(1, 1, (5, 50), stride=(1, 1))),\n",
        "            ('relu2', nn.LeakyReLU()),\n",
        "        ]))\n",
        "\n",
        "        self.siamese = nn.Sequential(OrderedDict([\n",
        "            ('linr1', nn.Linear(channel, 200)),\n",
        "            ('relu1', nn.LeakyReLU()),\n",
        "            ('linr2', nn.Linear(200, 256)),\n",
        "            ('relu2', nn.LeakyReLU()),\n",
        "            ('linr3', nn.Linear(256, 100)),\n",
        "            ('relu3', nn.LeakyReLU()),\n",
        "        ]))\n",
        "\n",
        "        self.ffn = nn.Sequential(OrderedDict([\n",
        "            ('linr1', nn.Linear(300, 164)),\n",
        "            ('actv1', nn.ReLU()),\n",
        "            ('linr2', nn.Linear(164, 1)),\n",
        "#             ('actv2', nn.ReLU()),\n",
        "#             ('linr3', nn.Linear(50, 1)),\n",
        "        ]))\n",
        "\n",
        "        self.device = device\n",
        "        self.encoder_user.apply(self.init_weights)\n",
        "        self.encoder_item.apply(self.init_weights)\n",
        "        self.encoder_video.apply(self.init_weights)\n",
        "        self.encoder_audio.apply(self.init_weights)\n",
        "        self.encoder_text.apply(self.init_weights)\n",
        "        self.encoder_meta.apply(self.init_weights)\n",
        "        self.siamese.apply(self.init_weights)\n",
        "        self.ffn.apply(self.init_weights)\n",
        "\n",
        "    def init_weights(self, m):\n",
        "        if isinstance(m, nn.Linear):\n",
        "            nn.init.kaiming_normal_(m.weight)\n",
        "            m.bias.data.fill_(0.01)\n",
        "\n",
        "    def exp(self, q, k, v):\n",
        "        z = torch.bmm(q, k.permute(0, 2, 1))\n",
        "        z = F.normalize(z, p = 10, dim = 1)\n",
        "        z = torch.softmax(z, 1)\n",
        "        z = torch.bmm(z, v)\n",
        "        return(z)\n",
        "\n",
        "    def forward(self, x1, x2):\n",
        "        # Modality-encoders\n",
        "        outu = self.encoder_user(x1)\n",
        "        outr = self.encoder_item(x2[3])\n",
        "        outv = torch.split(self.encoder_video(x2[0]), [100, 100, 100], 1)\n",
        "        outa = torch.split(self.encoder_audio(x2[1]), [100, 100, 100], 1)\n",
        "        outt = torch.split(self.encoder_text(x2[2]), 100, 1)\n",
        "        outm = torch.split(self.encoder_meta(x2[4]), [100, 100, 100], 1)\n",
        "\n",
        "        # Attention\n",
        "        q_t = outt[0].unsqueeze(1).repeat(1, ROW, 1)\n",
        "        k_t = outt[1].unsqueeze(1).repeat(1, ROW, 1)\n",
        "        v_t = outt[2].unsqueeze(1).repeat(1, ROW, 1)\n",
        "\n",
        "        q_a = outa[0].unsqueeze(1).repeat(1, ROW, 1)\n",
        "        k_a = outa[1].unsqueeze(1).repeat(1, ROW, 1)\n",
        "        v_a = outa[2].unsqueeze(1).repeat(1, ROW, 1)\n",
        "\n",
        "        q_v = outv[0].unsqueeze(1).repeat(1, ROW, 1)\n",
        "        k_v = outv[1].unsqueeze(1).repeat(1, ROW, 1)\n",
        "        v_v = outv[2].unsqueeze(1).repeat(1, ROW, 1)\n",
        "\n",
        "        q_m = outm[0].unsqueeze(1).repeat(1, ROW, 1)\n",
        "        k_m = outm[1].unsqueeze(1).repeat(1, ROW, 1)\n",
        "        v_m = outm[2].unsqueeze(1).repeat(1, ROW, 1)\n",
        "\n",
        "        # Self-Attention\n",
        "        st = self.exp(q_t, k_t, v_t)\n",
        "        sm = self.exp(q_m, k_m, v_m)\n",
        "        sa = self.exp(q_a, k_a, v_a)\n",
        "        sv = self.exp(q_v, k_v, v_v)\n",
        "\n",
        "        # Inter-Modal Attention\n",
        "        ita = self.exp(q_a, k_t, v_a)\n",
        "        imv = self.exp(q_v, k_m, v_v)\n",
        "        itm = self.exp(q_m, k_t, v_m)\n",
        "\n",
        "        # Forward\n",
        "        ma = torch.mean(torch.stack([sa, ita]), 0)\n",
        "        mv = torch.mean(torch.stack([sv, imv]), 0)\n",
        "        sda = itm\n",
        "        se = torch.mul(ma, mv)\n",
        "        outi = torch.cat((sda, se), axis = 2)#.reshape(-1, ROW * 1200)\n",
        "        outi = self.fusion(outi.unsqueeze(1))\n",
        "        out1 = self.siamese(outu)\n",
        "        out2 = self.siamese(outi.reshape(BATCH, -1))\n",
        "        diff = torch.cat((out1, out2, outm[2]), axis=1)\n",
        "        out = self.ffn(diff)\n",
        "        return(out, out1, out2)\n",
        "\n",
        "    def fit(self, trainloader = trainloader,\n",
        "            testloader = testloader, epochs = 1):\n",
        "        self.criterion_rate = weighted_mse_loss\n",
        "        self.criterion_embd = nn.CosineEmbeddingLoss()\n",
        "        self.optimizer = optim.Adam(self.parameters(), lr = 1e-4)\n",
        "\n",
        "        train_loss = []\n",
        "        train_f1 = []\n",
        "        test_loss = []\n",
        "        test_f1 = []\n",
        "        for epoch in range(epochs):\n",
        "            running_loss = 0.0\n",
        "            running_loss_1 = 0.0\n",
        "\n",
        "            for i, data in tqdm(enumerate(trainloader)):\n",
        "                self.train()\n",
        "                x1, x2, y = data\n",
        "                y_flt = y.type(torch.FloatTensor).to(device)\n",
        "                y_lng = torch.div(y, 4, rounding_mode=\"floor\").to(device)\n",
        "                self.optimizer.zero_grad()\n",
        "                reg, outu, outi = self.forward(x1, x2)\n",
        "                loss_1, loss_ = self.criterion_rate(reg.squeeze(), y_flt)\n",
        "                loss_2 = self.criterion_embd(outu, outi, y_lng * 2 - 1)\n",
        "                loss = loss_1 + loss_2\n",
        "                loss.backward()\n",
        "                self.optimizer.step()\n",
        "\n",
        "                running_loss_1 += torch.sqrt(loss_)\n",
        "                running_loss += loss\n",
        "            vl, vp, vr, vf, tp, tr, tf = self.evaluate()\n",
        "            print('Epoch-%d: Loss = %.3f\\nTrain RMSE = %.3f||Train Precision = %.3f||Train Recall = %.3f\\nTest RMSE = %.3f || Test Precision = %.3f|| Test Recall = %.3f'%\n",
        "                  (epoch + 1, running_loss / i, running_loss_1 / i,\n",
        "                   tp, tr, vl, vp, vr))\n",
        "            train_loss.append((running_loss_1 / i).cpu().detach().numpy())\n",
        "            test_loss.append(vl.cpu().detach().numpy())\n",
        "            train_f1.append(tf)\n",
        "            test_f1.append(vf)\n",
        "        return(train_loss, test_loss, train_f1, test_f1)\n",
        "\n",
        "    def evaluate(self, k = 3.5):\n",
        "        self.eval()\n",
        "        with torch.no_grad():\n",
        "            valdata = next(iter(testloader))\n",
        "            x1, x2, y = valdata\n",
        "            y_flt = y.type(torch.FloatTensor).to(device)\n",
        "            y_lng = torch.div(y, 4, rounding_mode=\"floor\").to(device)\n",
        "            otpt = self.forward(x1, x2)\n",
        "            pred = (otpt[0] > k).float()\n",
        "            vl = torch.sqrt(self.criterion_rate(otpt[0].squeeze(), y_flt)[1])\n",
        "            vp = precision_score(y_lng.cpu(), pred.cpu(), zero_division = 0)\n",
        "            vr = recall_score(y_lng.cpu(), pred.cpu(), zero_division = 0)\n",
        "            vf = f1_score(y_lng.cpu(), pred.cpu(), zero_division = 0)\n",
        "            print(classification_report(y_lng.cpu(), pred.cpu(),\n",
        "                    target_names = [\"0\", \"1\"], zero_division = 0))\n",
        "\n",
        "            traindata = next(iter(trainloader))\n",
        "            x1, x2, y = traindata\n",
        "            y_flt = y.type(torch.FloatTensor).to(device)\n",
        "            y_lng = torch.div(y, 4, rounding_mode=\"floor\").to(device)\n",
        "            otpt = self.forward(x1, x2)\n",
        "            pred = (otpt[0] > k).float()\n",
        "            tp = precision_score(y_lng.cpu(), pred.cpu(), zero_division = 0)\n",
        "            tr = recall_score(y_lng.cpu(), pred.cpu(), zero_division = 0)\n",
        "            tf = f1_score(y_lng.cpu(), pred.cpu(), zero_division = 0)\n",
        "        return(vl, vp*100, vr*100, vf*100, tp*100, tr*100, tf*100)"
      ]
    },
    {
      "cell_type": "code",
      "execution_count": null,
      "metadata": {
        "id": "8cXc71i6ldhE"
      },
      "outputs": [],
      "source": []
    },
    {
      "cell_type": "code",
      "execution_count": null,
      "metadata": {
        "colab": {
          "base_uri": "https://localhost:8080/"
        },
        "id": "nyJld2BLY65w",
        "outputId": "330da793-0579-43c5-8c77-b0ac9de22fc2"
      },
      "outputs": [
        {
          "data": {
            "text/plain": [
              "SiameseNet(\n",
              "  (encoder_user): Sequential(\n",
              "    (linr1): Linear(in_features=1220, out_features=1024, bias=True)\n",
              "    (relu1): LeakyReLU(negative_slope=0.01)\n",
              "    (linr2): Linear(in_features=1024, out_features=84, bias=True)\n",
              "    (relu2): LeakyReLU(negative_slope=0.01)\n",
              "  )\n",
              "  (encoder_item): Sequential(\n",
              "    (linr1): Linear(in_features=943, out_features=256, bias=True)\n",
              "    (relu1): LeakyReLU(negative_slope=0.01)\n",
              "    (linr2): Linear(in_features=256, out_features=300, bias=True)\n",
              "    (relu2): LeakyReLU(negative_slope=0.01)\n",
              "  )\n",
              "  (encoder_video): Sequential(\n",
              "    (linr1): Linear(in_features=1024, out_features=1600, bias=True)\n",
              "    (relu1): LeakyReLU(negative_slope=0.01)\n",
              "    (linr2): Linear(in_features=1600, out_features=300, bias=True)\n",
              "    (relu2): LeakyReLU(negative_slope=0.01)\n",
              "  )\n",
              "  (encoder_audio): Sequential(\n",
              "    (linr1): Linear(in_features=1024, out_features=600, bias=True)\n",
              "    (relu1): LeakyReLU(negative_slope=0.01)\n",
              "    (linr4): Linear(in_features=600, out_features=300, bias=True)\n",
              "    (relu4): LeakyReLU(negative_slope=0.01)\n",
              "  )\n",
              "  (encoder_text): Sequential(\n",
              "    (linr1): Linear(in_features=384, out_features=256, bias=True)\n",
              "    (relu1): LeakyReLU(negative_slope=0.01)\n",
              "    (linr2): Linear(in_features=256, out_features=300, bias=True)\n",
              "    (relu2): LeakyReLU(negative_slope=0.01)\n",
              "  )\n",
              "  (encoder_meta): Sequential(\n",
              "    (linr1): Linear(in_features=1220, out_features=1600, bias=True)\n",
              "    (relu1): LeakyReLU(negative_slope=0.01)\n",
              "    (linr2): Linear(in_features=1600, out_features=300, bias=True)\n",
              "    (relu2): LeakyReLU(negative_slope=0.01)\n",
              "  )\n",
              "  (fusion): Sequential(\n",
              "    (conv1): Conv2d(1, 1, kernel_size=(20, 20), stride=(2, 2))\n",
              "    (relu1): LeakyReLU(negative_slope=0.01)\n",
              "    (conv2): Conv2d(1, 1, kernel_size=(5, 50), stride=(1, 1))\n",
              "    (relu2): LeakyReLU(negative_slope=0.01)\n",
              "  )\n",
              "  (siamese): Sequential(\n",
              "    (linr1): Linear(in_features=84, out_features=200, bias=True)\n",
              "    (relu1): LeakyReLU(negative_slope=0.01)\n",
              "    (linr2): Linear(in_features=200, out_features=256, bias=True)\n",
              "    (relu2): LeakyReLU(negative_slope=0.01)\n",
              "    (linr3): Linear(in_features=256, out_features=100, bias=True)\n",
              "    (relu3): LeakyReLU(negative_slope=0.01)\n",
              "  )\n",
              "  (ffn): Sequential(\n",
              "    (linr1): Linear(in_features=300, out_features=164, bias=True)\n",
              "    (actv1): ReLU()\n",
              "    (linr2): Linear(in_features=164, out_features=1, bias=True)\n",
              "  )\n",
              ")"
            ]
          },
          "execution_count": 25,
          "metadata": {},
          "output_type": "execute_result"
        }
      ],
      "source": [
        "sm_net = SiameseNet()\n",
        "sm_net.to(device)"
      ]
    },
    {
      "cell_type": "code",
      "execution_count": null,
      "metadata": {
        "colab": {
          "base_uri": "https://localhost:8080/"
        },
        "id": "7G4c7omYY63F",
        "outputId": "033b0da4-e827-4d1d-def2-10bff763adae"
      },
      "outputs": [
        {
          "name": "stderr",
          "output_type": "stream",
          "text": [
            "40it [00:50,  1.26s/it]\n"
          ]
        },
        {
          "name": "stdout",
          "output_type": "stream",
          "text": [
            "              precision    recall  f1-score   support\n",
            "\n",
            "           0       0.43      1.00      0.60       865\n",
            "           1       0.71      0.00      0.01      1135\n",
            "\n",
            "    accuracy                           0.43      2000\n",
            "   macro avg       0.57      0.50      0.31      2000\n",
            "weighted avg       0.59      0.43      0.27      2000\n",
            "\n",
            "Epoch-1: Loss = 7.477\n",
            "Train RMSE = 1.973||Train Precision = 81.818||Train Recall = 0.840\n",
            "Test RMSE = 1.584 || Test Precision = 71.429|| Test Recall = 0.441\n"
          ]
        }
      ],
      "source": [
        "train_loss, test_loss, train_f1, test_f1 = sm_net.fit()"
      ]
    },
    {
      "cell_type": "code",
      "execution_count": null,
      "metadata": {
        "id": "frk75f6wZXrr"
      },
      "outputs": [],
      "source": [
        "torch.save(sm_net, \"./attention.pth\")"
      ]
    },
    {
      "cell_type": "code",
      "execution_count": null,
      "metadata": {
        "colab": {
          "base_uri": "https://localhost:8080/"
        },
        "id": "Yo17IVvOZXoS",
        "outputId": "ca74439c-5fec-4961-8cda-fe636bda9f77"
      },
      "outputs": [
        {
          "name": "stdout",
          "output_type": "stream",
          "text": [
            "              precision    recall  f1-score   support\n",
            "\n",
            "           0       0.43      1.00      0.60       865\n",
            "           1       0.71      0.00      0.01      1135\n",
            "\n",
            "    accuracy                           0.43      2000\n",
            "   macro avg       0.57      0.50      0.31      2000\n",
            "weighted avg       0.59      0.43      0.27      2000\n",
            "\n"
          ]
        },
        {
          "data": {
            "text/plain": [
              "(tensor(1.5837, device='cuda:0'),\n",
              " 71.42857142857143,\n",
              " 0.4405286343612335,\n",
              " 0.8756567425569177,\n",
              " 71.42857142857143,\n",
              " 0.4549590536851683,\n",
              " 0.9041591320072331)"
            ]
          },
          "execution_count": 24,
          "metadata": {},
          "output_type": "execute_result"
        }
      ],
      "source": [
        "sm_net.evaluate(k=3.5)"
      ]
    },
    {
      "cell_type": "code",
      "execution_count": null,
      "metadata": {
        "colab": {
          "base_uri": "https://localhost:8080/",
          "height": 516
        },
        "id": "qUVf-tV5ZXmN",
        "outputId": "3de89f7f-db74-479b-9333-72842ed8157c"
      },
      "outputs": [
        {
          "name": "stderr",
          "output_type": "stream",
          "text": [
            "<ipython-input-25-abf663b56279>:7: UserWarning: You have mixed positional and keyword arguments, some input may be discarded.\n",
            "  fig.legend([ax, ax2], labels = [\"Train Loss\", \"Test Loss\"], loc = \"upper right\")\n"
          ]
        },
        {
          "data": {
            "image/png": "[encoded data removed]",
            "text/plain": [
              "<Figure size 640x480 with 2 Axes>"
            ]
          },
          "metadata": {},
          "output_type": "display_data"
        }
      ],
      "source": [
        "import matplotlib.pyplot as plt\n",
        "\n",
        "fig, ax = plt.subplots()\n",
        "ax2 = ax.twinx()\n",
        "ax.plot(train_loss[20:], label = \"Train Loss\", color = \"orange\")\n",
        "ax2.plot(test_loss[20:], label = \"Test Loss\")\n",
        "fig.legend([ax, ax2], labels = [\"Train Loss\", \"Test Loss\"], loc = \"upper right\")\n",
        "plt.show()"
      ]
    },
    {
      "cell_type": "code",
      "execution_count": null,
      "metadata": {
        "id": "PoWzTWKxZXjg"
      },
      "outputs": [],
      "source": [
        "import matplotlib.pyplot as plt\n",
        "import torch"
      ]
    },
    {
      "cell_type": "code",
      "execution_count": null,
      "metadata": {
        "id": "7k678VINZXg1"
      },
      "outputs": [],
      "source": [
        "sm_net = torch.load(\"./attention.pth\")"
      ]
    },
    {
      "cell_type": "code",
      "execution_count": null,
      "metadata": {
        "colab": {
          "base_uri": "https://localhost:8080/",
          "height": 1000
        },
        "id": "qpOuveUOZXeG",
        "outputId": "98f5ec9d-2e8c-4795-ed8d-ad596b252064"
      },
      "outputs": [
        {
          "name": "stdout",
          "output_type": "stream",
          "text": [
            "              precision    recall  f1-score   support\n",
            "\n",
            "           0       0.44      0.73      0.55       865\n",
            "           1       0.59      0.30      0.40      1135\n",
            "\n",
            "    accuracy                           0.49      2000\n",
            "   macro avg       0.52      0.52      0.48      2000\n",
            "weighted avg       0.53      0.49      0.47      2000\n",
            "\n",
            "              precision    recall  f1-score   support\n",
            "\n",
            "           0       0.44      0.83      0.58       865\n",
            "           1       0.62      0.21      0.31      1135\n",
            "\n",
            "    accuracy                           0.48      2000\n",
            "   macro avg       0.53      0.52      0.44      2000\n",
            "weighted avg       0.54      0.48      0.43      2000\n",
            "\n",
            "              precision    recall  f1-score   support\n",
            "\n",
            "           0       0.44      0.91      0.59       865\n",
            "           1       0.63      0.12      0.20      1135\n",
            "\n",
            "    accuracy                           0.46      2000\n",
            "   macro avg       0.54      0.51      0.40      2000\n",
            "weighted avg       0.55      0.46      0.37      2000\n",
            "\n",
            "              precision    recall  f1-score   support\n",
            "\n",
            "           0       0.44      0.97      0.60       865\n",
            "           1       0.68      0.05      0.10      1135\n",
            "\n",
            "    accuracy                           0.45      2000\n",
            "   macro avg       0.56      0.51      0.35      2000\n",
            "weighted avg       0.58      0.45      0.32      2000\n",
            "\n",
            "              precision    recall  f1-score   support\n",
            "\n",
            "           0       0.43      0.98      0.60       865\n",
            "           1       0.58      0.02      0.03      1135\n",
            "\n",
            "    accuracy                           0.43      2000\n",
            "   macro avg       0.50      0.50      0.32      2000\n",
            "weighted avg       0.51      0.43      0.28      2000\n",
            "\n",
            "              precision    recall  f1-score   support\n",
            "\n",
            "           0       0.43      1.00      0.60       865\n",
            "           1       0.71      0.00      0.01      1135\n",
            "\n",
            "    accuracy                           0.43      2000\n",
            "   macro avg       0.57      0.50      0.31      2000\n",
            "weighted avg       0.59      0.43      0.27      2000\n",
            "\n",
            "              precision    recall  f1-score   support\n",
            "\n",
            "           0       0.43      1.00      0.60       865\n",
            "           1       0.75      0.00      0.01      1135\n",
            "\n",
            "    accuracy                           0.43      2000\n",
            "   macro avg       0.59      0.50      0.30      2000\n",
            "weighted avg       0.61      0.43      0.26      2000\n",
            "\n",
            "              precision    recall  f1-score   support\n",
            "\n",
            "           0       0.43      1.00      0.60       865\n",
            "           1       0.00      0.00      0.00      1135\n",
            "\n",
            "    accuracy                           0.43      2000\n",
            "   macro avg       0.22      0.50      0.30      2000\n",
            "weighted avg       0.19      0.43      0.26      2000\n",
            "\n",
            "              precision    recall  f1-score   support\n",
            "\n",
            "           0       0.43      1.00      0.60       865\n",
            "           1       0.00      0.00      0.00      1135\n",
            "\n",
            "    accuracy                           0.43      2000\n",
            "   macro avg       0.22      0.50      0.30      2000\n",
            "weighted avg       0.19      0.43      0.26      2000\n",
            "\n",
            "              precision    recall  f1-score   support\n",
            "\n",
            "           0       0.43      1.00      0.60       865\n",
            "           1       0.00      0.00      0.00      1135\n",
            "\n",
            "    accuracy                           0.43      2000\n",
            "   macro avg       0.22      0.50      0.30      2000\n",
            "weighted avg       0.19      0.43      0.26      2000\n",
            "\n"
          ]
        },
        {
          "data": {
            "image/png": "[encoded data removed]",
            "text/plain": [
              "<Figure size 640x480 with 1 Axes>"
            ]
          },
          "metadata": {},
          "output_type": "display_data"
        }
      ],
      "source": [
        "prs = []\n",
        "rec = []\n",
        "f1 = []\n",
        "loss = []\n",
        "\n",
        "for i in np.arange(3, 4, 0.1):\n",
        "    l, p, r, f, _, _, _ = sm_net.evaluate(i)\n",
        "    prs.append(p)\n",
        "    rec.append(r)\n",
        "    f1.append(f)\n",
        "    loss.append(l)\n",
        "\n",
        "plt.plot(prs, label = \"Test Precision\")\n",
        "plt.plot(rec, label = \"Test Recall\")\n",
        "plt.plot(f1, label = \"Test F1\")\n",
        "\n",
        "plt.legend()\n",
        "plt.show()"
      ]
    },
    {
      "cell_type": "code",
      "execution_count": null,
      "metadata": {
        "id": "XG7lJP5_rhio"
      },
      "outputs": [],
      "source": []
    },
    {
      "cell_type": "code",
      "execution_count": null,
      "metadata": {
        "id": "S_7pZACDrhAb"
      },
      "outputs": [],
      "source": []
    },
    {
      "cell_type": "markdown",
      "metadata": {
        "id": "Sm6_EwZ0miMo"
      },
      "source": [
        "# **2(Meta+Audio)**"
      ]
    },
    {
      "cell_type": "code",
      "execution_count": null,
      "metadata": {
        "id": "w1qY3DbtZXbM"
      },
      "outputs": [],
      "source": [
        "import torch\n",
        "import torch.nn as nn\n",
        "import torch.optim as optim\n",
        "import torch.nn.functional as F\n",
        "from sklearn.metrics import classification_report, precision_score, recall_score, f1_score\n",
        "from collections import OrderedDict\n",
        "from tqdm import tqdm\n",
        "\n",
        "class SiameseNet1(nn.Module):\n",
        "    def __init__(self, device=device, channel=84):\n",
        "        super(SiameseNet1, self).__init__()\n",
        "        self.encoder_user = nn.Sequential(OrderedDict([\n",
        "            ('linr1', nn.Linear(train_dataset.user_embedding_size, 1024)),\n",
        "            ('relu1', nn.LeakyReLU()),\n",
        "            ('linr2', nn.Linear(1024, channel)),\n",
        "            ('relu2', nn.LeakyReLU()),\n",
        "        ]))\n",
        "\n",
        "        self.encoder_item = nn.Sequential(OrderedDict([\n",
        "            ('linr1', nn.Linear(train_dataset.item_embedding_size, 256)),\n",
        "            ('relu1', nn.LeakyReLU()),\n",
        "            ('linr2', nn.Linear(256, 300)),\n",
        "            ('relu2', nn.LeakyReLU()),\n",
        "        ]))\n",
        "\n",
        "\n",
        "\n",
        "        self.encoder_audio = nn.Sequential(OrderedDict([\n",
        "            ('linr1', nn.Linear(train_dataset.audio_embedding_size, 600)),\n",
        "            ('relu1', nn.LeakyReLU()),\n",
        "            ('linr4', nn.Linear(600, 300)),\n",
        "            ('relu4', nn.LeakyReLU()),\n",
        "        ]))\n",
        "\n",
        "\n",
        "        self.encoder_meta = nn.Sequential(OrderedDict([\n",
        "            ('linr1', nn.Linear(train_dataset.meta_embedding_size, 1600)),\n",
        "            ('relu1', nn.LeakyReLU()),\n",
        "            ('linr2', nn.Linear(1600, 300)),\n",
        "            ('relu2', nn.LeakyReLU()),\n",
        "        ]))\n",
        "\n",
        "        self.fusion = nn.Sequential(OrderedDict([\n",
        "            ('conv1', nn.Conv2d(1, 1, (20, 20), stride=(2, 2))),\n",
        "            ('relu1', nn.LeakyReLU()),\n",
        "            ('conv2', nn.Conv2d(1, 1, (5, 50), stride=(1, 1))),\n",
        "            ('relu2', nn.LeakyReLU()),\n",
        "        ]))\n",
        "\n",
        "        self.siamese = nn.Sequential(OrderedDict([\n",
        "            ('linr1', nn.Linear(channel, 200)),\n",
        "            ('relu1', nn.LeakyReLU()),\n",
        "            ('linr2', nn.Linear(200, 256)),\n",
        "            ('relu2', nn.LeakyReLU()),\n",
        "            ('linr3', nn.Linear(256, 100)),\n",
        "            ('relu3', nn.LeakyReLU()),\n",
        "        ]))\n",
        "\n",
        "        self.ffn = nn.Sequential(OrderedDict([\n",
        "            ('linr1', nn.Linear(300, 164)),\n",
        "            ('actv1', nn.ReLU()),\n",
        "            ('linr2', nn.Linear(164, 1)),\n",
        "        ]))\n",
        "\n",
        "        self.device = device\n",
        "        self.encoder_user.apply(self.init_weights)\n",
        "        self.encoder_item.apply(self.init_weights)\n",
        "        self.encoder_audio.apply(self.init_weights)\n",
        "        self.encoder_meta.apply(self.init_weights)\n",
        "        self.siamese.apply(self.init_weights)\n",
        "        self.ffn.apply(self.init_weights)\n",
        "\n",
        "    def init_weights(self, m):\n",
        "        if isinstance(m, nn.Linear):\n",
        "            nn.init.kaiming_normal_(m.weight)\n",
        "            m.bias.data.fill_(0.01)\n",
        "\n",
        "    def exp(self, q, k, v):\n",
        "        z = torch.bmm(q, k.permute(0, 2, 1))\n",
        "        z = F.normalize(z, p=10, dim=1)\n",
        "        z = torch.softmax(z, 1)\n",
        "        z = torch.bmm(z, v)\n",
        "        return z\n",
        "\n",
        "    def forward(self, x1, x2):\n",
        "        # Modality-encoders\n",
        "        outu = self.encoder_user(x1)\n",
        "        outr = self.encoder_item(x2[3])\n",
        "        outa = torch.split(self.encoder_audio(x2[1]), [100, 100, 100], 1)\n",
        "        outm = torch.split(self.encoder_meta(x2[4]), [100, 100, 100], 1)\n",
        "\n",
        "        # Attention\n",
        "\n",
        "        q_a = outa[0].unsqueeze(1).repeat(1, ROW, 1)\n",
        "        k_a = outa[1].unsqueeze(1).repeat(1, ROW, 1)\n",
        "        v_a = outa[2].unsqueeze(1).repeat(1, ROW, 1)\n",
        "\n",
        "\n",
        "        q_m = outm[0].unsqueeze(1).repeat(1, ROW, 1)\n",
        "        k_m = outm[1].unsqueeze(1).repeat(1, ROW, 1)\n",
        "        v_m = outm[2].unsqueeze(1).repeat(1, ROW, 1)\n",
        "\n",
        "        # Self-Attention\n",
        "        sm = self.exp(q_m, k_m, v_m)\n",
        "        sa = self.exp(q_a, k_a, v_a)\n",
        "\n",
        "        # Inter-Modal Attention\n",
        "        ita = self.exp(q_a, k_a, v_a)\n",
        "        # imv = self.exp(q_v, k_m, v_v)\n",
        "        itm = self.exp(q_m, k_m, v_m)\n",
        "\n",
        "        # Forward\n",
        "        ma = torch.mean(torch.stack([sa, ita]), 0)\n",
        "        mv = torch.mean(torch.stack([sm, itm]), 0)\n",
        "        sda = itm\n",
        "        se = torch.mul(ma, mv)\n",
        "        outi = torch.cat((sda, se), axis=2)\n",
        "        outi = self.fusion(outi.unsqueeze(1))\n",
        "        out1 = self.siamese(outu)\n",
        "        out2 = self.siamese(outi.reshape(BATCH, -1))\n",
        "        diff = torch.cat((out1, out2, outm[2]), axis=1)\n",
        "        out = self.ffn(diff)\n",
        "        return out, out1, out2\n",
        "\n",
        "    def fit(self, trainloader=trainloader, testloader=testloader, epochs=1):\n",
        "        self.criterion_rate = weighted_mse_loss\n",
        "        self.criterion_embd = nn.CosineEmbeddingLoss()\n",
        "        self.optimizer = optim.Adam(self.parameters(), lr=1e-4)\n",
        "\n",
        "        train_loss = []\n",
        "        train_f1 = []\n",
        "        test_loss = []\n",
        "        test_f1 = []\n",
        "        for epoch in range(epochs):\n",
        "            running_loss = 0.0\n",
        "            running_loss_1 = 0.0\n",
        "\n",
        "            for i, data in tqdm(enumerate(trainloader)):\n",
        "                self.train()\n",
        "                x1, x2, y = data\n",
        "                y_flt = y.type(torch.FloatTensor).to(device)\n",
        "                y_lng = torch.div(y, 4, rounding_mode=\"floor\").to(device)\n",
        "                self.optimizer.zero_grad()\n",
        "                reg, outu, outi = self.forward(x1, x2)\n",
        "                loss_1, loss_ = self.criterion_rate(reg.squeeze(), y_flt)\n",
        "                loss_2 = self.criterion_embd(outu, outi, y_lng * 2 - 1)\n",
        "                loss = loss_1 + loss_2\n",
        "                loss.backward()\n",
        "                self.optimizer.step()\n",
        "\n",
        "                running_loss_1 += torch.sqrt(loss_)\n",
        "                running_loss += loss\n",
        "            vl, vp, vr, vf, tp, tr, tf = self.evaluate()\n",
        "            print('Epoch-%d: Loss = %.3f\\nTrain RMSE = %.3f||Train Precision = %.3f||Train Recall = %.3f\\nTest RMSE = %.3f || Test Precision = %.3f|| Test Recall = %.3f'%\n",
        "                  (epoch + 1, running_loss / i, running_loss_1 / i,\n",
        "                   tp, tr, vl, vp, vr))\n",
        "            train_loss.append((running_loss_1 / i).cpu().detach().numpy())\n",
        "            test_loss.append(vl.cpu().detach().numpy())\n",
        "            train_f1.append(tf)\n",
        "            test_f1.append(vf)\n",
        "        return train_loss, test_loss, train_f1, test_f1\n",
        "\n",
        "    def evaluate(self, k=3.5):\n",
        "        self.eval()\n",
        "        with torch.no_grad():\n",
        "            valdata = next(iter(testloader))\n",
        "            x1, x2, y = valdata\n",
        "            y_flt = y.type(torch.FloatTensor).to(device)\n",
        "            y_lng = torch.div(y, 4, rounding_mode=\"floor\").to(device)\n",
        "            otpt = self.forward(x1, x2)\n",
        "            pred = (otpt[0] > k).float()\n",
        "            vl = torch.sqrt(self.criterion_rate(otpt[0].squeeze(), y_flt)[1])\n",
        "            vp = precision_score(y_lng.cpu(), pred.cpu(), zero_division=0)\n",
        "            vr = recall_score(y_lng.cpu(), pred.cpu(), zero_division=0)\n",
        "            vf = f1_score(y_lng.cpu(), pred.cpu(), zero_division=0)\n",
        "            print(classification_report(y_lng.cpu(), pred.cpu(),\n",
        "                    target_names=[\"0\", \"1\"], zero_division=0))\n",
        "\n",
        "            traindata = next(iter(trainloader))\n",
        "            x1, x2, y = traindata\n",
        "            y_flt = y.type(torch.FloatTensor).to(device)\n",
        "            y_lng = torch.div(y, 4, rounding_mode=\"floor\").to(device)\n",
        "            otpt = self.forward(x1, x2)\n",
        "            pred = (otpt[0] > k).float()\n",
        "            tp = precision_score(y_lng.cpu(), pred.cpu(), zero_division=0)\n",
        "            tr = recall_score(y_lng.cpu(), pred.cpu(), zero_division=0)\n",
        "            tf = f1_score(y_lng.cpu(), pred.cpu(), zero_division=0)\n",
        "        return vl, vp*100, vr*100, vf*100, tp*100, tr*100, tf*100\n",
        "\n",
        "# Update the changes in this code\n"
      ]
    },
    {
      "cell_type": "code",
      "execution_count": null,
      "metadata": {
        "colab": {
          "base_uri": "https://localhost:8080/"
        },
        "id": "1ETamE6bp7az",
        "outputId": "231327a0-a153-4af6-a9cd-a1a71269cac7"
      },
      "outputs": [
        {
          "data": {
            "text/plain": [
              "SiameseNet1(\n",
              "  (encoder_user): Sequential(\n",
              "    (linr1): Linear(in_features=1220, out_features=1024, bias=True)\n",
              "    (relu1): LeakyReLU(negative_slope=0.01)\n",
              "    (linr2): Linear(in_features=1024, out_features=84, bias=True)\n",
              "    (relu2): LeakyReLU(negative_slope=0.01)\n",
              "  )\n",
              "  (encoder_item): Sequential(\n",
              "    (linr1): Linear(in_features=943, out_features=256, bias=True)\n",
              "    (relu1): LeakyReLU(negative_slope=0.01)\n",
              "    (linr2): Linear(in_features=256, out_features=300, bias=True)\n",
              "    (relu2): LeakyReLU(negative_slope=0.01)\n",
              "  )\n",
              "  (encoder_audio): Sequential(\n",
              "    (linr1): Linear(in_features=1024, out_features=600, bias=True)\n",
              "    (relu1): LeakyReLU(negative_slope=0.01)\n",
              "    (linr4): Linear(in_features=600, out_features=300, bias=True)\n",
              "    (relu4): LeakyReLU(negative_slope=0.01)\n",
              "  )\n",
              "  (encoder_meta): Sequential(\n",
              "    (linr1): Linear(in_features=1220, out_features=1600, bias=True)\n",
              "    (relu1): LeakyReLU(negative_slope=0.01)\n",
              "    (linr2): Linear(in_features=1600, out_features=300, bias=True)\n",
              "    (relu2): LeakyReLU(negative_slope=0.01)\n",
              "  )\n",
              "  (fusion): Sequential(\n",
              "    (conv1): Conv2d(1, 1, kernel_size=(20, 20), stride=(2, 2))\n",
              "    (relu1): LeakyReLU(negative_slope=0.01)\n",
              "    (conv2): Conv2d(1, 1, kernel_size=(5, 50), stride=(1, 1))\n",
              "    (relu2): LeakyReLU(negative_slope=0.01)\n",
              "  )\n",
              "  (siamese): Sequential(\n",
              "    (linr1): Linear(in_features=84, out_features=200, bias=True)\n",
              "    (relu1): LeakyReLU(negative_slope=0.01)\n",
              "    (linr2): Linear(in_features=200, out_features=256, bias=True)\n",
              "    (relu2): LeakyReLU(negative_slope=0.01)\n",
              "    (linr3): Linear(in_features=256, out_features=100, bias=True)\n",
              "    (relu3): LeakyReLU(negative_slope=0.01)\n",
              "  )\n",
              "  (ffn): Sequential(\n",
              "    (linr1): Linear(in_features=300, out_features=164, bias=True)\n",
              "    (actv1): ReLU()\n",
              "    (linr2): Linear(in_features=164, out_features=1, bias=True)\n",
              "  )\n",
              ")"
            ]
          },
          "execution_count": 30,
          "metadata": {},
          "output_type": "execute_result"
        }
      ],
      "source": [
        "sm_net = SiameseNet1()\n",
        "sm_net.to(device)"
      ]
    },
    {
      "cell_type": "code",
      "execution_count": null,
      "metadata": {
        "colab": {
          "base_uri": "https://localhost:8080/"
        },
        "id": "vkE5IFaUpGX2",
        "outputId": "4be72d0a-987e-4678-95bf-05a9cfb460dd"
      },
      "outputs": [
        {
          "name": "stderr",
          "output_type": "stream",
          "text": [
            "40it [00:31,  1.26it/s]\n"
          ]
        },
        {
          "name": "stdout",
          "output_type": "stream",
          "text": [
            "              precision    recall  f1-score   support\n",
            "\n",
            "           0       0.44      0.97      0.60       865\n",
            "           1       0.71      0.06      0.11      1135\n",
            "\n",
            "    accuracy                           0.45      2000\n",
            "   macro avg       0.58      0.51      0.36      2000\n",
            "weighted avg       0.60      0.45      0.33      2000\n",
            "\n",
            "Epoch-1: Loss = 8.713\n",
            "Train RMSE = 2.186||Train Precision = 71.667||Train Recall = 4.060\n",
            "Test RMSE = 1.554 || Test Precision = 71.429|| Test Recall = 6.167\n"
          ]
        }
      ],
      "source": [
        "train_loss, test_loss, train_f1, test_f1 = sm_net.fit()"
      ]
    },
    {
      "cell_type": "code",
      "execution_count": null,
      "metadata": {
        "id": "SNXhUU2vpGUP"
      },
      "outputs": [],
      "source": [
        "torch.save(sm_net, \"./attention.pth\")"
      ]
    },
    {
      "cell_type": "code",
      "execution_count": null,
      "metadata": {
        "colab": {
          "base_uri": "https://localhost:8080/"
        },
        "id": "d9aFNP10pGSc",
        "outputId": "33449498-1815-45a7-a2df-47a08d442403"
      },
      "outputs": [
        {
          "name": "stdout",
          "output_type": "stream",
          "text": [
            "              precision    recall  f1-score   support\n",
            "\n",
            "           0       0.44      0.97      0.60       865\n",
            "           1       0.71      0.06      0.11      1135\n",
            "\n",
            "    accuracy                           0.45      2000\n",
            "   macro avg       0.58      0.51      0.36      2000\n",
            "weighted avg       0.60      0.45      0.33      2000\n",
            "\n"
          ]
        },
        {
          "data": {
            "text/plain": [
              "(tensor(1.5541, device='cuda:0'),\n",
              " 71.42857142857143,\n",
              " 6.167400881057269,\n",
              " 11.3544201135442,\n",
              " 66.66666666666666,\n",
              " 2.8119507908611596,\n",
              " 5.396290050590218)"
            ]
          },
          "execution_count": 33,
          "metadata": {},
          "output_type": "execute_result"
        }
      ],
      "source": [
        "sm_net.evaluate(k=3.5)"
      ]
    },
    {
      "cell_type": "code",
      "execution_count": null,
      "metadata": {
        "colab": {
          "base_uri": "https://localhost:8080/",
          "height": 516
        },
        "id": "4eWk_C3GpGQG",
        "outputId": "527c3364-b689-406c-d4a5-535344c29454"
      },
      "outputs": [
        {
          "name": "stderr",
          "output_type": "stream",
          "text": [
            "<ipython-input-34-abf663b56279>:7: UserWarning: You have mixed positional and keyword arguments, some input may be discarded.\n",
            "  fig.legend([ax, ax2], labels = [\"Train Loss\", \"Test Loss\"], loc = \"upper right\")\n"
          ]
        },
        {
          "data": {
            "image/png": "[encoded data removed]",
            "text/plain": [
              "<Figure size 640x480 with 2 Axes>"
            ]
          },
          "metadata": {},
          "output_type": "display_data"
        }
      ],
      "source": [
        "import matplotlib.pyplot as plt\n",
        "\n",
        "fig, ax = plt.subplots()\n",
        "ax2 = ax.twinx()\n",
        "ax.plot(train_loss[20:], label = \"Train Loss\", color = \"orange\")\n",
        "ax2.plot(test_loss[20:], label = \"Test Loss\")\n",
        "fig.legend([ax, ax2], labels = [\"Train Loss\", \"Test Loss\"], loc = \"upper right\")\n",
        "plt.show()"
      ]
    },
    {
      "cell_type": "code",
      "execution_count": null,
      "metadata": {
        "id": "w3ffp7iUpGNo"
      },
      "outputs": [],
      "source": [
        "sm_net = torch.load(\"./attention.pth\")"
      ]
    },
    {
      "cell_type": "code",
      "execution_count": null,
      "metadata": {
        "colab": {
          "base_uri": "https://localhost:8080/",
          "height": 1000
        },
        "id": "Sw-Y76GgpGLR",
        "outputId": "3a07fe75-083f-48a2-ecbf-dfc45bf16e85"
      },
      "outputs": [
        {
          "name": "stdout",
          "output_type": "stream",
          "text": [
            "              precision    recall  f1-score   support\n",
            "\n",
            "           0       0.45      0.54      0.49       865\n",
            "           1       0.59      0.49      0.54      1135\n",
            "\n",
            "    accuracy                           0.51      2000\n",
            "   macro avg       0.52      0.52      0.51      2000\n",
            "weighted avg       0.53      0.51      0.52      2000\n",
            "\n",
            "              precision    recall  f1-score   support\n",
            "\n",
            "           0       0.46      0.66      0.54       865\n",
            "           1       0.61      0.39      0.48      1135\n",
            "\n",
            "    accuracy                           0.51      2000\n",
            "   macro avg       0.53      0.53      0.51      2000\n",
            "weighted avg       0.54      0.51      0.51      2000\n",
            "\n",
            "              precision    recall  f1-score   support\n",
            "\n",
            "           0       0.45      0.77      0.57       865\n",
            "           1       0.62      0.28      0.38      1135\n",
            "\n",
            "    accuracy                           0.49      2000\n",
            "   macro avg       0.53      0.53      0.48      2000\n",
            "weighted avg       0.54      0.49      0.46      2000\n",
            "\n",
            "              precision    recall  f1-score   support\n",
            "\n",
            "           0       0.44      0.85      0.59       865\n",
            "           1       0.63      0.19      0.29      1135\n",
            "\n",
            "    accuracy                           0.48      2000\n",
            "   macro avg       0.54      0.52      0.44      2000\n",
            "weighted avg       0.55      0.48      0.42      2000\n",
            "\n",
            "              precision    recall  f1-score   support\n",
            "\n",
            "           0       0.44      0.93      0.60       865\n",
            "           1       0.67      0.11      0.19      1135\n",
            "\n",
            "    accuracy                           0.47      2000\n",
            "   macro avg       0.56      0.52      0.40      2000\n",
            "weighted avg       0.57      0.47      0.37      2000\n",
            "\n",
            "              precision    recall  f1-score   support\n",
            "\n",
            "           0       0.44      0.97      0.60       865\n",
            "           1       0.71      0.06      0.11      1135\n",
            "\n",
            "    accuracy                           0.45      2000\n",
            "   macro avg       0.58      0.51      0.36      2000\n",
            "weighted avg       0.60      0.45      0.33      2000\n",
            "\n",
            "              precision    recall  f1-score   support\n",
            "\n",
            "           0       0.44      0.98      0.60       865\n",
            "           1       0.69      0.03      0.05      1135\n",
            "\n",
            "    accuracy                           0.44      2000\n",
            "   macro avg       0.56      0.51      0.33      2000\n",
            "weighted avg       0.58      0.44      0.29      2000\n",
            "\n",
            "              precision    recall  f1-score   support\n",
            "\n",
            "           0       0.43      0.99      0.60       865\n",
            "           1       0.53      0.01      0.01      1135\n",
            "\n",
            "    accuracy                           0.43      2000\n",
            "   macro avg       0.48      0.50      0.31      2000\n",
            "weighted avg       0.49      0.43      0.27      2000\n",
            "\n",
            "              precision    recall  f1-score   support\n",
            "\n",
            "           0       0.43      1.00      0.60       865\n",
            "           1       1.00      0.00      0.01      1135\n",
            "\n",
            "    accuracy                           0.43      2000\n",
            "   macro avg       0.72      0.50      0.30      2000\n",
            "weighted avg       0.75      0.43      0.26      2000\n",
            "\n",
            "              precision    recall  f1-score   support\n",
            "\n",
            "           0       0.43      1.00      0.60       865\n",
            "           1       1.00      0.00      0.00      1135\n",
            "\n",
            "    accuracy                           0.43      2000\n",
            "   macro avg       0.72      0.50      0.30      2000\n",
            "weighted avg       0.75      0.43      0.26      2000\n",
            "\n"
          ]
        },
        {
          "data": {
            "image/png": "[encoded data removed]",
            "text/plain": [
              "<Figure size 640x480 with 1 Axes>"
            ]
          },
          "metadata": {},
          "output_type": "display_data"
        }
      ],
      "source": [
        "prs = []\n",
        "rec = []\n",
        "f1 = []\n",
        "loss = []\n",
        "\n",
        "for i in np.arange(3, 4, 0.1):\n",
        "    l, p, r, f, _, _, _ = sm_net.evaluate(i)\n",
        "    prs.append(p)\n",
        "    rec.append(r)\n",
        "    f1.append(f)\n",
        "    loss.append(l)\n",
        "\n",
        "plt.plot(prs, label = \"Test Precision\")\n",
        "plt.plot(rec, label = \"Test Recall\")\n",
        "plt.plot(f1, label = \"Test F1\")\n",
        "\n",
        "plt.legend()\n",
        "plt.show()"
      ]
    },
    {
      "cell_type": "code",
      "execution_count": null,
      "metadata": {
        "id": "1bqLELr6pGI0"
      },
      "outputs": [],
      "source": []
    },
    {
      "cell_type": "code",
      "execution_count": null,
      "metadata": {
        "id": "ITXRIr56pGGq"
      },
      "outputs": [],
      "source": []
    },
    {
      "cell_type": "markdown",
      "metadata": {
        "id": "pAUkHI3YqlJC"
      },
      "source": [
        "# **3 (Meta+Text)**"
      ]
    },
    {
      "cell_type": "code",
      "execution_count": null,
      "metadata": {
        "id": "MENfOwgFpGEP"
      },
      "outputs": [],
      "source": [
        "class SiameseNet2(nn.Module):\n",
        "    def __init__(self, device=device, channel=84):\n",
        "        super(SiameseNet2, self).__init__()\n",
        "        self.encoder_user = nn.Sequential(OrderedDict([\n",
        "            ('linr1', nn.Linear(train_dataset.user_embedding_size, 1024)),\n",
        "            ('relu1', nn.LeakyReLU()),\n",
        "            ('linr2', nn.Linear(1024, channel)),\n",
        "            ('relu2', nn.LeakyReLU()),\n",
        "        ]))\n",
        "\n",
        "        self.encoder_item = nn.Sequential(OrderedDict([\n",
        "            ('linr1', nn.Linear(train_dataset.item_embedding_size, 256)),\n",
        "            ('relu1', nn.LeakyReLU()),\n",
        "            ('linr2', nn.Linear(256, 300)),\n",
        "            ('relu2', nn.LeakyReLU()),\n",
        "        ]))\n",
        "\n",
        "        #self.encoder_video = nn.Sequential(OrderedDict([\n",
        "        #    ('linr1', nn.Linear(train_dataset.video_embedding_size, 1600)),\n",
        "        #    ('relu1', nn.LeakyReLU()),\n",
        "        #    ('linr2', nn.Linear(1600, 300)),\n",
        "        #    ('relu2', nn.LeakyReLU()),\n",
        "        #]))\n",
        "\n",
        "        #self.encoder_audio = nn.Sequential(OrderedDict([\n",
        "        #    ('linr1', nn.Linear(train_dataset.audio_embedding_size, 600)),\n",
        "        #    ('relu1', nn.LeakyReLU()),\n",
        "        #    ('linr4', nn.Linear(600, 300)),\n",
        "        #    ('relu4', nn.LeakyReLU()),\n",
        "        #]))\n",
        "\n",
        "        self.encoder_text = nn.Sequential(OrderedDict([\n",
        "            ('linr1', nn.Linear(train_dataset.text_embedding_size, 256)),\n",
        "            ('relu1', nn.LeakyReLU()),\n",
        "            ('linr2', nn.Linear(256, 300)),\n",
        "            ('relu2', nn.LeakyReLU()),\n",
        "        ]))\n",
        "\n",
        "        self.encoder_meta = nn.Sequential(OrderedDict([\n",
        "            ('linr1', nn.Linear(train_dataset.meta_embedding_size, 1600)),\n",
        "            ('relu1', nn.LeakyReLU()),\n",
        "            ('linr2', nn.Linear(1600, 300)),\n",
        "            ('relu2', nn.LeakyReLU()),\n",
        "        ]))\n",
        "\n",
        "        self.fusion = nn.Sequential(OrderedDict([\n",
        "            ('conv1', nn.Conv2d(1, 1, (20, 20), stride=(2, 2))),\n",
        "            ('relu1', nn.LeakyReLU()),\n",
        "            ('conv2', nn.Conv2d(1, 1, (5, 50), stride=(1, 1))),\n",
        "            ('relu2', nn.LeakyReLU()),\n",
        "        ]))\n",
        "\n",
        "        self.siamese = nn.Sequential(OrderedDict([\n",
        "            ('linr1', nn.Linear(channel, 200)),\n",
        "            ('relu1', nn.LeakyReLU()),\n",
        "            ('linr2', nn.Linear(200, 256)),\n",
        "            ('relu2', nn.LeakyReLU()),\n",
        "            ('linr3', nn.Linear(256, 100)),\n",
        "            ('relu3', nn.LeakyReLU()),\n",
        "        ]))\n",
        "\n",
        "        self.ffn = nn.Sequential(OrderedDict([\n",
        "            ('linr1', nn.Linear(300, 164)),\n",
        "            ('actv1', nn.ReLU()),\n",
        "            ('linr2', nn.Linear(164, 1)),\n",
        "        ]))\n",
        "\n",
        "        self.device = device\n",
        "        self.encoder_user.apply(self.init_weights)\n",
        "        self.encoder_item.apply(self.init_weights)\n",
        "        #self.encoder_video.apply(self.init_weights)\n",
        "        #self.encoder_audio.apply(self.init_weights)\n",
        "        self.encoder_text.apply(self.init_weights)\n",
        "        self.encoder_meta.apply(self.init_weights)\n",
        "        self.siamese.apply(self.init_weights)\n",
        "        self.ffn.apply(self.init_weights)\n",
        "\n",
        "    def init_weights(self, m):\n",
        "        if isinstance(m, nn.Linear):\n",
        "            nn.init.kaiming_normal_(m.weight)\n",
        "            m.bias.data.fill_(0.01)\n",
        "\n",
        "    def exp(self, q, k, v):\n",
        "        z = torch.bmm(q, k.permute(0, 2, 1))\n",
        "        z = F.normalize(z, p=10, dim=1)\n",
        "        z = torch.softmax(z, 1)\n",
        "        z = torch.bmm(z, v)\n",
        "        return z\n",
        "\n",
        "    def forward(self, x1, x2):\n",
        "        # Modality-encoders\n",
        "        outu = self.encoder_user(x1)\n",
        "        outr = self.encoder_item(x2[3])\n",
        "        #outv = torch.split(self.encoder_video(x2[0]), [100, 100, 100], 1)\n",
        "        #outa = torch.split(self.encoder_audio(x2[1]), [100, 100, 100], 1)\n",
        "        outt = torch.split(self.encoder_text(x2[2]), 100, 1)\n",
        "        outm = torch.split(self.encoder_meta(x2[4]), [100, 100, 100], 1)\n",
        "\n",
        "        # Attention\n",
        "        q_t = outt[0].unsqueeze(1).repeat(1, ROW, 1)\n",
        "        k_t = outt[1].unsqueeze(1).repeat(1, ROW, 1)\n",
        "        v_t = outt[2].unsqueeze(1).repeat(1, ROW, 1)\n",
        "\n",
        "        #q_a = outa[0].unsqueeze(1).repeat(1, ROW, 1)\n",
        "        #k_a = outa[1].unsqueeze(1).repeat(1, ROW, 1)\n",
        "        #v_a = outa[2].unsqueeze(1).repeat(1, ROW, 1)\n",
        "\n",
        "        #q_v = outv[0].unsqueeze(1).repeat(1, ROW, 1)\n",
        "        #k_v = outv[1].unsqueeze(1).repeat(1, ROW, 1)\n",
        "        #v_v = outv[2].unsqueeze(1).repeat(1, ROW, 1)\n",
        "\n",
        "        q_m = outm[0].unsqueeze(1).repeat(1, ROW, 1)\n",
        "        k_m = outm[1].unsqueeze(1).repeat(1, ROW, 1)\n",
        "        v_m = outm[2].unsqueeze(1).repeat(1, ROW, 1)\n",
        "\n",
        "        # Self-Attention\n",
        "        st = self.exp(q_t, k_t, v_t)\n",
        "        sm = self.exp(q_m, k_m, v_m)\n",
        "        #sa = self.exp(q_a, k_a, v_a)\n",
        "        #sv = self.exp(q_v, k_v, v_v)\n",
        "\n",
        "        # Inter-Modal Attention\n",
        "        itv = self.exp(q_t, k_m, v_t)  # Attention between video and text\n",
        "        ima = self.exp(q_m, k_t, v_m)  # Attention between meta and audio\n",
        "\n",
        "        # Forward\n",
        "        ma = torch.mean(torch.stack([st, ima]), 0)\n",
        "        mv = torch.mean(torch.stack([sm, itv]), 0)\n",
        "        sda = sm\n",
        "        se = torch.mul(ma, mv)\n",
        "        outi = torch.cat((sda, se), axis=2)\n",
        "        outi = self.fusion(outi.unsqueeze(1))\n",
        "        out1 = self.siamese(outu)\n",
        "        out2 = self.siamese(outi.reshape(BATCH, -1))\n",
        "        diff = torch.cat((out1, out2, outm[2]), axis=1)\n",
        "        out = self.ffn(diff)\n",
        "        return out, out1, out2\n",
        "\n",
        "    def fit(self, trainloader=trainloader, testloader=testloader, epochs=1):\n",
        "        self.criterion_rate = weighted_mse_loss\n",
        "        self.criterion_embd = nn.CosineEmbeddingLoss()\n",
        "        self.optimizer = optim.Adam(self.parameters(), lr=1e-4)\n",
        "\n",
        "        train_loss = []\n",
        "        train_f1 = []\n",
        "        test_loss = []\n",
        "        test_f1 = []\n",
        "        for epoch in range(epochs):\n",
        "            running_loss = 0.0\n",
        "            running_loss_1 = 0.0\n",
        "\n",
        "            for i, data in tqdm(enumerate(trainloader)):\n",
        "                self.train()\n",
        "                x1, x2, y = data\n",
        "                y_flt = y.type(torch.FloatTensor).to(device)\n",
        "                y_lng = torch.div(y, 4, rounding_mode=\"floor\").to(device)\n",
        "                self.optimizer.zero_grad()\n",
        "                reg, outu, outi = self.forward(x1, x2)\n",
        "                loss_1, loss_ = self.criterion_rate(reg.squeeze(), y_flt)\n",
        "                loss_2 = self.criterion_embd(outu, outi, y_lng * 2 - 1)\n",
        "                loss = loss_1 + loss_2\n",
        "                loss.backward()\n",
        "                self.optimizer.step()\n",
        "\n",
        "                running_loss_1 += torch.sqrt(loss_)\n",
        "                running_loss += loss\n",
        "            vl, vp, vr, vf, tp, tr, tf = self.evaluate()\n",
        "            print('Epoch-%d: Loss = %.3f\\nTrain RMSE = %.3f||Train Precision = %.3f||Train Recall = %.3f\\nTest RMSE = %.3f || Test Precision = %.3f|| Test Recall = %.3f'%\n",
        "                  (epoch + 1, running_loss / i, running_loss_1 / i,\n",
        "                   tp, tr, vl, vp, vr))\n",
        "            train_loss.append((running_loss_1 / i).cpu().detach().numpy())\n",
        "            test_loss.append(vl.cpu().detach().numpy())\n",
        "            train_f1.append(tf)\n",
        "            test_f1.append(vf)\n",
        "        return train_loss, test_loss, train_f1, test_f1\n",
        "\n",
        "    def evaluate(self, k=3.5):\n",
        "        self.eval()\n",
        "        with torch.no_grad():\n",
        "            valdata = next(iter(testloader))\n",
        "            x1, x2, y = valdata\n",
        "            y_flt = y.type(torch.FloatTensor).to(device)\n",
        "            y_lng = torch.div(y, 4, rounding_mode=\"floor\").to(device)\n",
        "            otpt = self.forward(x1, x2)\n",
        "            pred = (otpt[0] > k).float()\n",
        "            vl = torch.sqrt(self.criterion_rate(otpt[0].squeeze(), y_flt)[1])\n",
        "            vp = precision_score(y_lng.cpu(), pred.cpu(), zero_division=0)\n",
        "            vr = recall_score(y_lng.cpu(), pred.cpu(), zero_division=0)\n",
        "            vf = f1_score(y_lng.cpu(), pred.cpu(), zero_division=0)\n",
        "            print(classification_report(y_lng.cpu(), pred.cpu(),\n",
        "                    target_names=[\"0\", \"1\"], zero_division=0))\n",
        "\n",
        "            traindata = next(iter(trainloader))\n",
        "            x1, x2, y = traindata\n",
        "            y_flt = y.type(torch.FloatTensor).to(device)\n",
        "            y_lng = torch.div(y, 4, rounding_mode=\"floor\").to(device)\n",
        "            otpt = self.forward(x1, x2)\n",
        "            pred = (otpt[0] > k).float()\n",
        "            tp = precision_score(y_lng.cpu(), pred.cpu(), zero_division=0)\n",
        "            tr = recall_score(y_lng.cpu(), pred.cpu(), zero_division=0)\n",
        "            tf = f1_score(y_lng.cpu(), pred.cpu(), zero_division=0)\n",
        "        return vl, vp*100, vr*100, vf*100, tp*100, tr*100, tf*100\n"
      ]
    },
    {
      "cell_type": "code",
      "execution_count": null,
      "metadata": {
        "colab": {
          "base_uri": "https://localhost:8080/"
        },
        "id": "4M21HXi7Zp-i",
        "outputId": "c542aec0-b663-4434-bef1-ce3621772e20"
      },
      "outputs": [
        {
          "data": {
            "text/plain": [
              "SiameseNet2(\n",
              "  (encoder_user): Sequential(\n",
              "    (linr1): Linear(in_features=1220, out_features=1024, bias=True)\n",
              "    (relu1): LeakyReLU(negative_slope=0.01)\n",
              "    (linr2): Linear(in_features=1024, out_features=84, bias=True)\n",
              "    (relu2): LeakyReLU(negative_slope=0.01)\n",
              "  )\n",
              "  (encoder_item): Sequential(\n",
              "    (linr1): Linear(in_features=943, out_features=256, bias=True)\n",
              "    (relu1): LeakyReLU(negative_slope=0.01)\n",
              "    (linr2): Linear(in_features=256, out_features=300, bias=True)\n",
              "    (relu2): LeakyReLU(negative_slope=0.01)\n",
              "  )\n",
              "  (encoder_text): Sequential(\n",
              "    (linr1): Linear(in_features=384, out_features=256, bias=True)\n",
              "    (relu1): LeakyReLU(negative_slope=0.01)\n",
              "    (linr2): Linear(in_features=256, out_features=300, bias=True)\n",
              "    (relu2): LeakyReLU(negative_slope=0.01)\n",
              "  )\n",
              "  (encoder_meta): Sequential(\n",
              "    (linr1): Linear(in_features=1220, out_features=1600, bias=True)\n",
              "    (relu1): LeakyReLU(negative_slope=0.01)\n",
              "    (linr2): Linear(in_features=1600, out_features=300, bias=True)\n",
              "    (relu2): LeakyReLU(negative_slope=0.01)\n",
              "  )\n",
              "  (fusion): Sequential(\n",
              "    (conv1): Conv2d(1, 1, kernel_size=(20, 20), stride=(2, 2))\n",
              "    (relu1): LeakyReLU(negative_slope=0.01)\n",
              "    (conv2): Conv2d(1, 1, kernel_size=(5, 50), stride=(1, 1))\n",
              "    (relu2): LeakyReLU(negative_slope=0.01)\n",
              "  )\n",
              "  (siamese): Sequential(\n",
              "    (linr1): Linear(in_features=84, out_features=200, bias=True)\n",
              "    (relu1): LeakyReLU(negative_slope=0.01)\n",
              "    (linr2): Linear(in_features=200, out_features=256, bias=True)\n",
              "    (relu2): LeakyReLU(negative_slope=0.01)\n",
              "    (linr3): Linear(in_features=256, out_features=100, bias=True)\n",
              "    (relu3): LeakyReLU(negative_slope=0.01)\n",
              "  )\n",
              "  (ffn): Sequential(\n",
              "    (linr1): Linear(in_features=300, out_features=164, bias=True)\n",
              "    (actv1): ReLU()\n",
              "    (linr2): Linear(in_features=164, out_features=1, bias=True)\n",
              "  )\n",
              ")"
            ]
          },
          "execution_count": 38,
          "metadata": {},
          "output_type": "execute_result"
        }
      ],
      "source": [
        "sm_net = SiameseNet2()\n",
        "sm_net.to(device)"
      ]
    },
    {
      "cell_type": "code",
      "execution_count": null,
      "metadata": {
        "colab": {
          "base_uri": "https://localhost:8080/"
        },
        "id": "9Ch3e9e6pGB5",
        "outputId": "6b276153-9f70-4021-f6d1-afa78567d10b"
      },
      "outputs": [
        {
          "name": "stderr",
          "output_type": "stream",
          "text": [
            "40it [00:33,  1.21it/s]\n"
          ]
        },
        {
          "name": "stdout",
          "output_type": "stream",
          "text": [
            "              precision    recall  f1-score   support\n",
            "\n",
            "           0       0.44      0.93      0.60       865\n",
            "           1       0.64      0.10      0.17      1135\n",
            "\n",
            "    accuracy                           0.46      2000\n",
            "   macro avg       0.54      0.51      0.38      2000\n",
            "weighted avg       0.55      0.46      0.35      2000\n",
            "\n",
            "Epoch-1: Loss = 9.147\n",
            "Train RMSE = 2.262||Train Precision = 59.016||Train Recall = 6.389\n",
            "Test RMSE = 1.578 || Test Precision = 63.953|| Test Recall = 9.692\n"
          ]
        }
      ],
      "source": [
        "train_loss, test_loss, train_f1, test_f1 = sm_net.fit()"
      ]
    },
    {
      "cell_type": "code",
      "execution_count": null,
      "metadata": {
        "id": "y42M93EMpF_a"
      },
      "outputs": [],
      "source": [
        "# torch.save(sm_net, \"./attention.pth\")"
      ]
    },
    {
      "cell_type": "code",
      "execution_count": null,
      "metadata": {
        "colab": {
          "base_uri": "https://localhost:8080/"
        },
        "id": "GpWKQmWtpF9X",
        "outputId": "be6eb306-28d6-4c5d-cad0-2241647aca82"
      },
      "outputs": [
        {
          "name": "stdout",
          "output_type": "stream",
          "text": [
            "              precision    recall  f1-score   support\n",
            "\n",
            "           0       0.44      0.93      0.60       865\n",
            "           1       0.64      0.10      0.17      1135\n",
            "\n",
            "    accuracy                           0.46      2000\n",
            "   macro avg       0.54      0.51      0.38      2000\n",
            "weighted avg       0.55      0.46      0.35      2000\n",
            "\n"
          ]
        },
        {
          "data": {
            "text/plain": [
              "(tensor(1.5781, device='cuda:0'),\n",
              " 63.95348837209303,\n",
              " 9.691629955947137,\n",
              " 16.832440703902066,\n",
              " 60.76923076923077,\n",
              " 7.149321266968325,\n",
              " 12.793522267206479)"
            ]
          },
          "execution_count": 41,
          "metadata": {},
          "output_type": "execute_result"
        }
      ],
      "source": [
        "sm_net.evaluate(k=3.5)"
      ]
    },
    {
      "cell_type": "code",
      "execution_count": null,
      "metadata": {
        "colab": {
          "base_uri": "https://localhost:8080/",
          "height": 516
        },
        "id": "sRnWjbSCmTnY",
        "outputId": "8ce5bfba-6763-4566-ffa6-0f197cac4833"
      },
      "outputs": [
        {
          "name": "stderr",
          "output_type": "stream",
          "text": [
            "<ipython-input-42-abf663b56279>:7: UserWarning: You have mixed positional and keyword arguments, some input may be discarded.\n",
            "  fig.legend([ax, ax2], labels = [\"Train Loss\", \"Test Loss\"], loc = \"upper right\")\n"
          ]
        },
        {
          "data": {
            "image/png": "[encoded data removed]",
            "text/plain": [
              "<Figure size 640x480 with 2 Axes>"
            ]
          },
          "metadata": {},
          "output_type": "display_data"
        }
      ],
      "source": [
        "import matplotlib.pyplot as plt\n",
        "\n",
        "fig, ax = plt.subplots()\n",
        "ax2 = ax.twinx()\n",
        "ax.plot(train_loss[20:], label = \"Train Loss\", color = \"orange\")\n",
        "ax2.plot(test_loss[20:], label = \"Test Loss\")\n",
        "fig.legend([ax, ax2], labels = [\"Train Loss\", \"Test Loss\"], loc = \"upper right\")\n",
        "plt.show()"
      ]
    },
    {
      "cell_type": "code",
      "execution_count": null,
      "metadata": {
        "id": "YkHSK6zPtAzE"
      },
      "outputs": [],
      "source": [
        "# sm_net = torch.load(\"./attention.pth\")"
      ]
    },
    {
      "cell_type": "code",
      "execution_count": null,
      "metadata": {
        "colab": {
          "base_uri": "https://localhost:8080/",
          "height": 1000
        },
        "id": "RQifDsPrtAvh",
        "outputId": "4908c5b3-4b86-4d5d-bc64-66508a9c4f4e"
      },
      "outputs": [
        {
          "name": "stdout",
          "output_type": "stream",
          "text": [
            "              precision    recall  f1-score   support\n",
            "\n",
            "           0       0.45      0.47      0.46       865\n",
            "           1       0.58      0.56      0.57      1135\n",
            "\n",
            "    accuracy                           0.52      2000\n",
            "   macro avg       0.52      0.52      0.51      2000\n",
            "weighted avg       0.52      0.52      0.52      2000\n",
            "\n",
            "              precision    recall  f1-score   support\n",
            "\n",
            "           0       0.45      0.60      0.51       865\n",
            "           1       0.59      0.45      0.51      1135\n",
            "\n",
            "    accuracy                           0.51      2000\n",
            "   macro avg       0.52      0.52      0.51      2000\n",
            "weighted avg       0.53      0.51      0.51      2000\n",
            "\n",
            "              precision    recall  f1-score   support\n",
            "\n",
            "           0       0.45      0.69      0.54       865\n",
            "           1       0.60      0.35      0.44      1135\n",
            "\n",
            "    accuracy                           0.50      2000\n",
            "   macro avg       0.52      0.52      0.49      2000\n",
            "weighted avg       0.53      0.50      0.48      2000\n",
            "\n",
            "              precision    recall  f1-score   support\n",
            "\n",
            "           0       0.44      0.79      0.57       865\n",
            "           1       0.60      0.25      0.35      1135\n",
            "\n",
            "    accuracy                           0.48      2000\n",
            "   macro avg       0.52      0.52      0.46      2000\n",
            "weighted avg       0.53      0.48      0.44      2000\n",
            "\n",
            "              precision    recall  f1-score   support\n",
            "\n",
            "           0       0.44      0.88      0.59       865\n",
            "           1       0.64      0.17      0.26      1135\n",
            "\n",
            "    accuracy                           0.47      2000\n",
            "   macro avg       0.54      0.52      0.43      2000\n",
            "weighted avg       0.55      0.47      0.41      2000\n",
            "\n",
            "              precision    recall  f1-score   support\n",
            "\n",
            "           0       0.44      0.93      0.60       865\n",
            "           1       0.64      0.10      0.17      1135\n",
            "\n",
            "    accuracy                           0.46      2000\n",
            "   macro avg       0.54      0.51      0.38      2000\n",
            "weighted avg       0.55      0.46      0.35      2000\n",
            "\n",
            "              precision    recall  f1-score   support\n",
            "\n",
            "           0       0.44      0.97      0.60       865\n",
            "           1       0.67      0.05      0.10      1135\n",
            "\n",
            "    accuracy                           0.45      2000\n",
            "   macro avg       0.55      0.51      0.35      2000\n",
            "weighted avg       0.57      0.45      0.32      2000\n",
            "\n",
            "              precision    recall  f1-score   support\n",
            "\n",
            "           0       0.44      0.99      0.61       865\n",
            "           1       0.78      0.03      0.05      1135\n",
            "\n",
            "    accuracy                           0.44      2000\n",
            "   macro avg       0.61      0.51      0.33      2000\n",
            "weighted avg       0.63      0.44      0.29      2000\n",
            "\n",
            "              precision    recall  f1-score   support\n",
            "\n",
            "           0       0.43      1.00      0.60       865\n",
            "           1       0.73      0.01      0.02      1135\n",
            "\n",
            "    accuracy                           0.44      2000\n",
            "   macro avg       0.58      0.50      0.31      2000\n",
            "weighted avg       0.60      0.44      0.27      2000\n",
            "\n",
            "              precision    recall  f1-score   support\n",
            "\n",
            "           0       0.43      1.00      0.60       865\n",
            "           1       0.50      0.00      0.01      1135\n",
            "\n",
            "    accuracy                           0.43      2000\n",
            "   macro avg       0.47      0.50      0.30      2000\n",
            "weighted avg       0.47      0.43      0.26      2000\n",
            "\n"
          ]
        },
        {
          "data": {
            "image/png": "[encoded data removed]",
            "text/plain": [
              "<Figure size 640x480 with 1 Axes>"
            ]
          },
          "metadata": {},
          "output_type": "display_data"
        }
      ],
      "source": [
        "prs = []\n",
        "rec = []\n",
        "f1 = []\n",
        "loss = []\n",
        "\n",
        "for i in np.arange(3, 4, 0.1):\n",
        "    l, p, r, f, _, _, _ = sm_net.evaluate(i)\n",
        "    prs.append(p)\n",
        "    rec.append(r)\n",
        "    f1.append(f)\n",
        "    loss.append(l)\n",
        "\n",
        "plt.plot(prs, label = \"Test Precision\")\n",
        "plt.plot(rec, label = \"Test Recall\")\n",
        "plt.plot(f1, label = \"Test F1\")\n",
        "\n",
        "plt.legend()\n",
        "plt.show()"
      ]
    },
    {
      "cell_type": "code",
      "execution_count": null,
      "metadata": {
        "id": "ui8Stkz_tAsw"
      },
      "outputs": [],
      "source": []
    },
    {
      "cell_type": "code",
      "execution_count": null,
      "metadata": {
        "id": "LtrEiyzEtAhT"
      },
      "outputs": [],
      "source": []
    },
    {
      "cell_type": "markdown",
      "metadata": {
        "id": "vN9axd1qte53"
      },
      "source": [
        "# **4(Meta + Video)**"
      ]
    },
    {
      "cell_type": "code",
      "execution_count": null,
      "metadata": {
        "id": "IgOk13UhtAd8"
      },
      "outputs": [],
      "source": [
        "class SiameseNet3(nn.Module):\n",
        "    def __init__(self, device=device, channel=84):\n",
        "        super(SiameseNet3, self).__init__()\n",
        "        self.encoder_user = nn.Sequential(OrderedDict([\n",
        "            ('linr1', nn.Linear(train_dataset.user_embedding_size, 1024)),\n",
        "            ('relu1', nn.LeakyReLU()),\n",
        "            ('linr2', nn.Linear(1024, channel)),\n",
        "            ('relu2', nn.LeakyReLU()),\n",
        "        ]))\n",
        "\n",
        "        self.encoder_item = nn.Sequential(OrderedDict([\n",
        "            ('linr1', nn.Linear(train_dataset.item_embedding_size, 256)),\n",
        "            ('relu1', nn.LeakyReLU()),\n",
        "            ('linr2', nn.Linear(256, 300)),\n",
        "            ('relu2', nn.LeakyReLU()),\n",
        "        ]))\n",
        "\n",
        "        self.encoder_video = nn.Sequential(OrderedDict([\n",
        "            ('linr1', nn.Linear(train_dataset.video_embedding_size, 1600)),\n",
        "            ('relu1', nn.LeakyReLU()),\n",
        "            ('linr2', nn.Linear(1600, 300)),\n",
        "            ('relu2', nn.LeakyReLU()),\n",
        "        ]))\n",
        "\n",
        "        #self.encoder_audio = nn.Sequential(OrderedDict([\n",
        "        #    ('linr1', nn.Linear(train_dataset.audio_embedding_size, 600)),\n",
        "        #    ('relu1', nn.LeakyReLU()),\n",
        "        #    ('linr4', nn.Linear(600, 300)),\n",
        "        #    ('relu4', nn.LeakyReLU()),\n",
        "        #]))\n",
        "\n",
        "        #self.encoder_text = nn.Sequential(OrderedDict([\n",
        "        #    ('linr1', nn.Linear(train_dataset.text_embedding_size, 256)),\n",
        "        #    ('relu1', nn.LeakyReLU()),\n",
        "        #    ('linr2', nn.Linear(256, 300)),\n",
        "        #    ('relu2', nn.LeakyReLU()),\n",
        "        #]))\n",
        "\n",
        "        self.encoder_meta = nn.Sequential(OrderedDict([\n",
        "            ('linr1', nn.Linear(train_dataset.meta_embedding_size, 1600)),\n",
        "            ('relu1', nn.LeakyReLU()),\n",
        "            ('linr2', nn.Linear(1600, 300)),\n",
        "            ('relu2', nn.LeakyReLU()),\n",
        "        ]))\n",
        "\n",
        "        self.fusion = nn.Sequential(OrderedDict([\n",
        "            ('conv1', nn.Conv2d(1, 1, (20, 20), stride=(2, 2))),\n",
        "            ('relu1', nn.LeakyReLU()),\n",
        "            ('conv2', nn.Conv2d(1, 1, (5, 50), stride=(1, 1))),\n",
        "            ('relu2', nn.LeakyReLU()),\n",
        "        ]))\n",
        "\n",
        "        self.siamese = nn.Sequential(OrderedDict([\n",
        "            ('linr1', nn.Linear(channel, 200)),\n",
        "            ('relu1', nn.LeakyReLU()),\n",
        "            ('linr2', nn.Linear(200, 256)),\n",
        "            ('relu2', nn.LeakyReLU()),\n",
        "            ('linr3', nn.Linear(256, 100)),\n",
        "            ('relu3', nn.LeakyReLU()),\n",
        "        ]))\n",
        "\n",
        "        self.ffn = nn.Sequential(OrderedDict([\n",
        "            ('linr1', nn.Linear(300, 164)),\n",
        "            ('actv1', nn.ReLU()),\n",
        "            ('linr2', nn.Linear(164, 1)),\n",
        "        ]))\n",
        "\n",
        "        self.device = device\n",
        "        self.encoder_user.apply(self.init_weights)\n",
        "        self.encoder_item.apply(self.init_weights)\n",
        "        self.encoder_video.apply(self.init_weights)\n",
        "        #self.encoder_audio.apply(self.init_weights)\n",
        "        #self.encoder_text.apply(self.init_weights)\n",
        "        self.encoder_meta.apply(self.init_weights)\n",
        "        self.siamese.apply(self.init_weights)\n",
        "        self.ffn.apply(self.init_weights)\n",
        "\n",
        "    def init_weights(self, m):\n",
        "        if isinstance(m, nn.Linear):\n",
        "            nn.init.kaiming_normal_(m.weight)\n",
        "            m.bias.data.fill_(0.01)\n",
        "\n",
        "    def exp(self, q, k, v):\n",
        "        z = torch.bmm(q, k.permute(0, 2, 1))\n",
        "        z = F.normalize(z, p=10, dim=1)\n",
        "        z = torch.softmax(z, 1)\n",
        "        z = torch.bmm(z, v)\n",
        "        return z\n",
        "\n",
        "    def forward(self, x1, x2):\n",
        "        # Modality-encoders\n",
        "        outu = self.encoder_user(x1)\n",
        "        outr = self.encoder_item(x2[3])\n",
        "        outv = torch.split(self.encoder_video(x2[0]), [100, 100, 100], 1)\n",
        "        #outa = torch.split(self.encoder_audio(x2[1]), [100, 100, 100], 1)\n",
        "        #outt = torch.split(self.encoder_text(x2[2]), 100, 1)\n",
        "        outm = torch.split(self.encoder_meta(x2[4]), [100, 100, 100], 1)\n",
        "\n",
        "        # Attention\n",
        "        #q_t = outt[0].unsqueeze(1).repeat(1, ROW, 1)\n",
        "        #k_t = outt[1].unsqueeze(1).repeat(1, ROW, 1)\n",
        "        #v_t = outt[2].unsqueeze(1).repeat(1, ROW, 1)\n",
        "\n",
        "        #q_a = outa[0].unsqueeze(1).repeat(1, ROW, 1)\n",
        "        #k_a = outa[1].unsqueeze(1).repeat(1, ROW, 1)\n",
        "        #v_a = outa[2].unsqueeze(1).repeat(1, ROW, 1)\n",
        "\n",
        "        q_v = outv[0].unsqueeze(1).repeat(1, ROW, 1)\n",
        "        k_v = outv[1].unsqueeze(1).repeat(1, ROW, 1)\n",
        "        v_v = outv[2].unsqueeze(1).repeat(1, ROW, 1)\n",
        "\n",
        "        q_m = outm[0].unsqueeze(1).repeat(1, ROW, 1)\n",
        "        k_m = outm[1].unsqueeze(1).repeat(1, ROW, 1)\n",
        "        v_m = outm[2].unsqueeze(1).repeat(1, ROW, 1)\n",
        "\n",
        "        # Self-Attention\n",
        "        #st = self.exp(q_t, k_t, v_t)\n",
        "        sm = self.exp(q_m, k_m, v_m)\n",
        "        #sa = self.exp(q_a, k_a, v_a)\n",
        "        sv = self.exp(q_v, k_v, v_v)\n",
        "\n",
        "        # Inter-Modal Attention\n",
        "        itv = self.exp(q_v, k_m, v_v)  # Attention between video and text\n",
        "        ima = self.exp(q_m, k_v, v_m)  # Attention between meta and audio\n",
        "\n",
        "        # Forward\n",
        "        ma = torch.mean(torch.stack([sv, ima]), 0)\n",
        "        mv = torch.mean(torch.stack([sm, itv]), 0)\n",
        "        sda = sm\n",
        "        se = torch.mul(ma, mv)\n",
        "        outi = torch.cat((sda, se), axis=2)\n",
        "        outi = self.fusion(outi.unsqueeze(1))\n",
        "        out1 = self.siamese(outu)\n",
        "        out2 = self.siamese(outi.reshape(BATCH, -1))\n",
        "        diff = torch.cat((out1, out2, outm[2]), axis=1)\n",
        "        out = self.ffn(diff)\n",
        "        return out, out1, out2\n",
        "\n",
        "    def fit(self, trainloader=trainloader, testloader=testloader, epochs=1):\n",
        "        self.criterion_rate = weighted_mse_loss\n",
        "        self.criterion_embd = nn.CosineEmbeddingLoss()\n",
        "        self.optimizer = optim.Adam(self.parameters(), lr=1e-4)\n",
        "\n",
        "        train_loss = []\n",
        "        train_f1 = []\n",
        "        test_loss = []\n",
        "        test_f1 = []\n",
        "        for epoch in range(epochs):\n",
        "            running_loss = 0.0\n",
        "            running_loss_1 = 0.0\n",
        "\n",
        "            for i, data in tqdm(enumerate(trainloader)):\n",
        "                self.train()\n",
        "                x1, x2, y = data\n",
        "                y_flt = y.type(torch.FloatTensor).to(device)\n",
        "                y_lng = torch.div(y, 4, rounding_mode=\"floor\").to(device)\n",
        "                self.optimizer.zero_grad()\n",
        "                reg, outu, outi = self.forward(x1, x2)\n",
        "                loss_1, loss_ = self.criterion_rate(reg.squeeze(), y_flt)\n",
        "                loss_2 = self.criterion_embd(outu, outi, y_lng * 2 - 1)\n",
        "                loss = loss_1 + loss_2\n",
        "                loss.backward()\n",
        "                self.optimizer.step()\n",
        "\n",
        "                running_loss_1 += torch.sqrt(loss_)\n",
        "                running_loss += loss\n",
        "            vl, vp, vr, vf, tp, tr, tf = self.evaluate()\n",
        "            print('Epoch-%d: Loss = %.3f\\nTrain RMSE = %.3f||Train Precision = %.3f||Train Recall = %.3f\\nTest RMSE = %.3f || Test Precision = %.3f|| Test Recall = %.3f'%\n",
        "                  (epoch + 1, running_loss / i, running_loss_1 / i,\n",
        "                   tp, tr, vl, vp, vr))\n",
        "            train_loss.append((running_loss_1 / i).cpu().detach().numpy())\n",
        "            test_loss.append(vl.cpu().detach().numpy())\n",
        "            train_f1.append(tf)\n",
        "            test_f1.append(vf)\n",
        "        return train_loss, test_loss, train_f1, test_f1\n",
        "\n",
        "    def evaluate(self, k=3.5):\n",
        "        self.eval()\n",
        "        with torch.no_grad():\n",
        "            valdata = next(iter(testloader))\n",
        "            x1, x2, y = valdata\n",
        "            y_flt = y.type(torch.FloatTensor).to(device)\n",
        "            y_lng = torch.div(y, 4, rounding_mode=\"floor\").to(device)\n",
        "            otpt = self.forward(x1, x2)\n",
        "            pred = (otpt[0] > k).float()\n",
        "            vl = torch.sqrt(self.criterion_rate(otpt[0].squeeze(), y_flt)[1])\n",
        "            vp = precision_score(y_lng.cpu(), pred.cpu(), zero_division=0)\n",
        "            vr = recall_score(y_lng.cpu(), pred.cpu(), zero_division=0)\n",
        "            vf = f1_score(y_lng.cpu(), pred.cpu(), zero_division=0)\n",
        "            print(classification_report(y_lng.cpu(), pred.cpu(),\n",
        "                    target_names=[\"0\", \"1\"], zero_division=0))\n",
        "\n",
        "            traindata = next(iter(trainloader))\n",
        "            x1, x2, y = traindata\n",
        "            y_flt = y.type(torch.FloatTensor).to(device)\n",
        "            y_lng = torch.div(y, 4, rounding_mode=\"floor\").to(device)\n",
        "            otpt = self.forward(x1, x2)\n",
        "            pred = (otpt[0] > k).float()\n",
        "            tp = precision_score(y_lng.cpu(), pred.cpu(), zero_division=0)\n",
        "            tr = recall_score(y_lng.cpu(), pred.cpu(), zero_division=0)\n",
        "            tf = f1_score(y_lng.cpu(), pred.cpu(), zero_division=0)\n",
        "        return vl, vp*100, vr*100, vf*100, tp*100, tr*100, tf*100\n"
      ]
    },
    {
      "cell_type": "code",
      "execution_count": null,
      "metadata": {
        "colab": {
          "base_uri": "https://localhost:8080/"
        },
        "id": "Yt3JUOrgZ96Z",
        "outputId": "4176a6df-354d-4b30-a62e-1d467950e74a"
      },
      "outputs": [
        {
          "data": {
            "text/plain": [
              "SiameseNet3(\n",
              "  (encoder_user): Sequential(\n",
              "    (linr1): Linear(in_features=1220, out_features=1024, bias=True)\n",
              "    (relu1): LeakyReLU(negative_slope=0.01)\n",
              "    (linr2): Linear(in_features=1024, out_features=84, bias=True)\n",
              "    (relu2): LeakyReLU(negative_slope=0.01)\n",
              "  )\n",
              "  (encoder_item): Sequential(\n",
              "    (linr1): Linear(in_features=943, out_features=256, bias=True)\n",
              "    (relu1): LeakyReLU(negative_slope=0.01)\n",
              "    (linr2): Linear(in_features=256, out_features=300, bias=True)\n",
              "    (relu2): LeakyReLU(negative_slope=0.01)\n",
              "  )\n",
              "  (encoder_video): Sequential(\n",
              "    (linr1): Linear(in_features=1024, out_features=1600, bias=True)\n",
              "    (relu1): LeakyReLU(negative_slope=0.01)\n",
              "    (linr2): Linear(in_features=1600, out_features=300, bias=True)\n",
              "    (relu2): LeakyReLU(negative_slope=0.01)\n",
              "  )\n",
              "  (encoder_meta): Sequential(\n",
              "    (linr1): Linear(in_features=1220, out_features=1600, bias=True)\n",
              "    (relu1): LeakyReLU(negative_slope=0.01)\n",
              "    (linr2): Linear(in_features=1600, out_features=300, bias=True)\n",
              "    (relu2): LeakyReLU(negative_slope=0.01)\n",
              "  )\n",
              "  (fusion): Sequential(\n",
              "    (conv1): Conv2d(1, 1, kernel_size=(20, 20), stride=(2, 2))\n",
              "    (relu1): LeakyReLU(negative_slope=0.01)\n",
              "    (conv2): Conv2d(1, 1, kernel_size=(5, 50), stride=(1, 1))\n",
              "    (relu2): LeakyReLU(negative_slope=0.01)\n",
              "  )\n",
              "  (siamese): Sequential(\n",
              "    (linr1): Linear(in_features=84, out_features=200, bias=True)\n",
              "    (relu1): LeakyReLU(negative_slope=0.01)\n",
              "    (linr2): Linear(in_features=200, out_features=256, bias=True)\n",
              "    (relu2): LeakyReLU(negative_slope=0.01)\n",
              "    (linr3): Linear(in_features=256, out_features=100, bias=True)\n",
              "    (relu3): LeakyReLU(negative_slope=0.01)\n",
              "  )\n",
              "  (ffn): Sequential(\n",
              "    (linr1): Linear(in_features=300, out_features=164, bias=True)\n",
              "    (actv1): ReLU()\n",
              "    (linr2): Linear(in_features=164, out_features=1, bias=True)\n",
              "  )\n",
              ")"
            ]
          },
          "execution_count": 46,
          "metadata": {},
          "output_type": "execute_result"
        }
      ],
      "source": [
        "sm_net = SiameseNet3()\n",
        "sm_net.to(device)"
      ]
    },
    {
      "cell_type": "code",
      "execution_count": null,
      "metadata": {
        "colab": {
          "base_uri": "https://localhost:8080/"
        },
        "id": "vrCQvQOmtAb2",
        "outputId": "198a6ac6-49e2-4885-a7db-b788040bfc8c"
      },
      "outputs": [
        {
          "name": "stderr",
          "output_type": "stream",
          "text": [
            "40it [00:32,  1.22it/s]\n"
          ]
        },
        {
          "name": "stdout",
          "output_type": "stream",
          "text": [
            "              precision    recall  f1-score   support\n",
            "\n",
            "           0       0.43      0.97      0.60       865\n",
            "           1       0.61      0.03      0.07      1135\n",
            "\n",
            "    accuracy                           0.44      2000\n",
            "   macro avg       0.52      0.50      0.33      2000\n",
            "weighted avg       0.53      0.44      0.30      2000\n",
            "\n",
            "Epoch-1: Loss = 8.840\n",
            "Train RMSE = 2.176||Train Precision = 76.190||Train Recall = 1.504\n",
            "Test RMSE = 1.563 || Test Precision = 60.938|| Test Recall = 3.436\n"
          ]
        }
      ],
      "source": [
        "train_loss, test_loss, train_f1, test_f1 = sm_net.fit()"
      ]
    },
    {
      "cell_type": "code",
      "execution_count": null,
      "metadata": {
        "colab": {
          "base_uri": "https://localhost:8080/"
        },
        "id": "MPwNyzTPtAZT",
        "outputId": "0d2d1656-8786-4aca-abd0-6e2e32ac043f"
      },
      "outputs": [
        {
          "name": "stdout",
          "output_type": "stream",
          "text": [
            "              precision    recall  f1-score   support\n",
            "\n",
            "           0       0.43      0.97      0.60       865\n",
            "           1       0.61      0.03      0.07      1135\n",
            "\n",
            "    accuracy                           0.44      2000\n",
            "   macro avg       0.52      0.50      0.33      2000\n",
            "weighted avg       0.53      0.44      0.30      2000\n",
            "\n"
          ]
        },
        {
          "data": {
            "text/plain": [
              "(tensor(1.5626, device='cuda:0'),\n",
              " 60.9375,\n",
              " 3.4361233480176208,\n",
              " 6.505421184320266,\n",
              " 56.41025641025641,\n",
              " 2.033271719038817,\n",
              " 3.9250669045495097)"
            ]
          },
          "execution_count": 48,
          "metadata": {},
          "output_type": "execute_result"
        }
      ],
      "source": [
        "sm_net.evaluate(k=3.5)"
      ]
    },
    {
      "cell_type": "code",
      "execution_count": null,
      "metadata": {
        "colab": {
          "base_uri": "https://localhost:8080/",
          "height": 516
        },
        "id": "Oxys1ZEyt5hs",
        "outputId": "7694b2e6-e541-4080-f762-bff9b1e4602a"
      },
      "outputs": [
        {
          "name": "stderr",
          "output_type": "stream",
          "text": [
            "<ipython-input-49-abf663b56279>:7: UserWarning: You have mixed positional and keyword arguments, some input may be discarded.\n",
            "  fig.legend([ax, ax2], labels = [\"Train Loss\", \"Test Loss\"], loc = \"upper right\")\n"
          ]
        },
        {
          "data": {
            "image/png": "[encoded data removed]",
            "text/plain": [
              "<Figure size 640x480 with 2 Axes>"
            ]
          },
          "metadata": {},
          "output_type": "display_data"
        }
      ],
      "source": [
        "import matplotlib.pyplot as plt\n",
        "\n",
        "fig, ax = plt.subplots()\n",
        "ax2 = ax.twinx()\n",
        "ax.plot(train_loss[20:], label = \"Train Loss\", color = \"orange\")\n",
        "ax2.plot(test_loss[20:], label = \"Test Loss\")\n",
        "fig.legend([ax, ax2], labels = [\"Train Loss\", \"Test Loss\"], loc = \"upper right\")\n",
        "plt.show()"
      ]
    },
    {
      "cell_type": "code",
      "execution_count": null,
      "metadata": {
        "colab": {
          "base_uri": "https://localhost:8080/",
          "height": 1000
        },
        "id": "VKWFqlDOt6I6",
        "outputId": "cd4e428d-8861-431e-fcf1-99f15bfea9c6"
      },
      "outputs": [
        {
          "name": "stdout",
          "output_type": "stream",
          "text": [
            "              precision    recall  f1-score   support\n",
            "\n",
            "           0       0.43      0.57      0.49       865\n",
            "           1       0.56      0.42      0.48      1135\n",
            "\n",
            "    accuracy                           0.49      2000\n",
            "   macro avg       0.50      0.50      0.49      2000\n",
            "weighted avg       0.51      0.49      0.48      2000\n",
            "\n",
            "              precision    recall  f1-score   support\n",
            "\n",
            "           0       0.43      0.68      0.53       865\n",
            "           1       0.56      0.30      0.39      1135\n",
            "\n",
            "    accuracy                           0.47      2000\n",
            "   macro avg       0.49      0.49      0.46      2000\n",
            "weighted avg       0.50      0.47      0.45      2000\n",
            "\n",
            "              precision    recall  f1-score   support\n",
            "\n",
            "           0       0.43      0.80      0.56       865\n",
            "           1       0.58      0.20      0.30      1135\n",
            "\n",
            "    accuracy                           0.46      2000\n",
            "   macro avg       0.50      0.50      0.43      2000\n",
            "weighted avg       0.51      0.46      0.41      2000\n",
            "\n",
            "              precision    recall  f1-score   support\n",
            "\n",
            "           0       0.43      0.88      0.58       865\n",
            "           1       0.59      0.12      0.20      1135\n",
            "\n",
            "    accuracy                           0.45      2000\n",
            "   macro avg       0.51      0.50      0.39      2000\n",
            "weighted avg       0.52      0.45      0.37      2000\n",
            "\n",
            "              precision    recall  f1-score   support\n",
            "\n",
            "           0       0.43      0.94      0.59       865\n",
            "           1       0.60      0.07      0.13      1135\n",
            "\n",
            "    accuracy                           0.45      2000\n",
            "   macro avg       0.52      0.50      0.36      2000\n",
            "weighted avg       0.53      0.45      0.33      2000\n",
            "\n",
            "              precision    recall  f1-score   support\n",
            "\n",
            "           0       0.43      0.97      0.60       865\n",
            "           1       0.61      0.03      0.07      1135\n",
            "\n",
            "    accuracy                           0.44      2000\n",
            "   macro avg       0.52      0.50      0.33      2000\n",
            "weighted avg       0.53      0.44      0.30      2000\n",
            "\n",
            "              precision    recall  f1-score   support\n",
            "\n",
            "           0       0.43      0.98      0.60       865\n",
            "           1       0.56      0.02      0.03      1135\n",
            "\n",
            "    accuracy                           0.43      2000\n",
            "   macro avg       0.50      0.50      0.32      2000\n",
            "weighted avg       0.50      0.43      0.28      2000\n",
            "\n",
            "              precision    recall  f1-score   support\n",
            "\n",
            "           0       0.43      1.00      0.60       865\n",
            "           1       0.60      0.01      0.01      1135\n",
            "\n",
            "    accuracy                           0.43      2000\n",
            "   macro avg       0.52      0.50      0.31      2000\n",
            "weighted avg       0.53      0.43      0.27      2000\n",
            "\n",
            "              precision    recall  f1-score   support\n",
            "\n",
            "           0       0.43      1.00      0.60       865\n",
            "           1       0.80      0.00      0.01      1135\n",
            "\n",
            "    accuracy                           0.43      2000\n",
            "   macro avg       0.62      0.50      0.31      2000\n",
            "weighted avg       0.64      0.43      0.27      2000\n",
            "\n",
            "              precision    recall  f1-score   support\n",
            "\n",
            "           0       0.43      1.00      0.60       865\n",
            "           1       1.00      0.00      0.01      1135\n",
            "\n",
            "    accuracy                           0.43      2000\n",
            "   macro avg       0.72      0.50      0.30      2000\n",
            "weighted avg       0.75      0.43      0.26      2000\n",
            "\n"
          ]
        },
        {
          "data": {
            "image/png": "[encoded data removed]",
            "text/plain": [
              "<Figure size 640x480 with 1 Axes>"
            ]
          },
          "metadata": {},
          "output_type": "display_data"
        }
      ],
      "source": [
        "prs = []\n",
        "rec = []\n",
        "f1 = []\n",
        "loss = []\n",
        "\n",
        "for i in np.arange(3, 4, 0.1):\n",
        "    l, p, r, f, _, _, _ = sm_net.evaluate(i)\n",
        "    prs.append(p)\n",
        "    rec.append(r)\n",
        "    f1.append(f)\n",
        "    loss.append(l)\n",
        "\n",
        "plt.plot(prs, label = \"Test Precision\")\n",
        "plt.plot(rec, label = \"Test Recall\")\n",
        "plt.plot(f1, label = \"Test F1\")\n",
        "\n",
        "plt.legend()\n",
        "plt.show()"
      ]
    },
    {
      "cell_type": "code",
      "execution_count": null,
      "metadata": {
        "id": "kFMt6ORQt6Ff"
      },
      "outputs": [],
      "source": []
    },
    {
      "cell_type": "markdown",
      "metadata": {
        "id": "h3aal14mnFNh"
      },
      "source": [
        "# **(Text + Audio)**"
      ]
    },
    {
      "cell_type": "code",
      "execution_count": null,
      "metadata": {
        "id": "4vH3b7snt6DY"
      },
      "outputs": [],
      "source": [
        "class SiameseNet4(nn.Module):\n",
        "    def __init__(self, device = device, channel = 84):\n",
        "        super(SiameseNet4, self).__init__()\n",
        "        self.encoder_user = nn.Sequential(OrderedDict([\n",
        "            ('linr1', nn.Linear(train_dataset.user_embedding_size, 1024)),\n",
        "            ('relu1', nn.LeakyReLU()),\n",
        "            ('linr2', nn.Linear(1024, channel)),\n",
        "            ('relu2', nn.LeakyReLU()),\n",
        "        ]))\n",
        "\n",
        "        self.encoder_item = nn.Sequential(OrderedDict([\n",
        "            ('linr1', nn.Linear(train_dataset.item_embedding_size, 256)),\n",
        "            ('relu1', nn.LeakyReLU()),\n",
        "            ('linr2', nn.Linear(256, 300)),\n",
        "            ('relu2', nn.LeakyReLU()),\n",
        "        ]))\n",
        "\n",
        "        #self.encoder_video = nn.Sequential(OrderedDict([\n",
        "            #('linr1', nn.Linear(train_dataset.video_embedding_size, 1600)),\n",
        "            #('relu1', nn.LeakyReLU()),\n",
        "            #('linr2', nn.Linear(1600, 300)),\n",
        "            #('relu2', nn.LeakyReLU()),\n",
        "#             ('linr3', nn.Linear(1000, 500)),\n",
        "#             ('relu3', nn.LeakyReLU()),\n",
        "# #             ('norm2', nn.BatchNorm1d(500)),\n",
        "#             ('linr4', nn.Linear(500, 300)),\n",
        "#             ('relu4', nn.LeakyReLU()),\n",
        "        #]))\n",
        "\n",
        "        self.encoder_audio = nn.Sequential(OrderedDict([\n",
        "            ('linr1', nn.Linear(train_dataset.audio_embedding_size, 600)),\n",
        "            ('relu1', nn.LeakyReLU()),\n",
        "            ('linr4', nn.Linear(600, 300)),\n",
        "            ('relu4', nn.LeakyReLU()),\n",
        "        ]))\n",
        "\n",
        "        self.encoder_text = nn.Sequential(OrderedDict([\n",
        "            ('linr1', nn.Linear(train_dataset.text_embedding_size, 256)),\n",
        "            ('relu1', nn.LeakyReLU()),\n",
        "            ('linr2', nn.Linear(256, 300)),\n",
        "            ('relu2', nn.LeakyReLU()),\n",
        "        ]))\n",
        "\n",
        "        #self.encoder_meta = nn.Sequential(OrderedDict([\n",
        "         #   ('linr1', nn.Linear(train_dataset.meta_embedding_size, 1600)),\n",
        "          #  ('relu1', nn.LeakyReLU()),\n",
        "#             ('norm1', nn.BatchNorm1d(1600)),\n",
        "          #  ('linr2', nn.Linear(1600, 300)),\n",
        "           # ('relu2', nn.LeakyReLU()),\n",
        "#             ('linr3', nn.Linear(1000, 500)),\n",
        "#             ('relu3', nn.LeakyReLU()),\n",
        "#             ('linr4', nn.Linear(500, 300)),\n",
        "#             ('relu4', nn.LeakyReLU()),\n",
        "        #]))\n",
        "\n",
        "        self.fusion = nn.Sequential(OrderedDict([\n",
        "            ('conv1', nn.Conv2d(1, 1, (20, 20), stride=(2, 2))),\n",
        "            ('relu1', nn.LeakyReLU()),\n",
        "            ('conv2', nn.Conv2d(1, 1, (5, 50), stride=(1, 1))),\n",
        "            ('relu2', nn.LeakyReLU()),\n",
        "        ]))\n",
        "\n",
        "        self.siamese = nn.Sequential(OrderedDict([\n",
        "            ('linr1', nn.Linear(channel, 200)),\n",
        "            ('relu1', nn.LeakyReLU()),\n",
        "            ('linr2', nn.Linear(200, 256)),\n",
        "            ('relu2', nn.LeakyReLU()),\n",
        "            ('linr3', nn.Linear(256, 100)),\n",
        "            ('relu3', nn.LeakyReLU()),\n",
        "        ]))\n",
        "\n",
        "        self.ffn = nn.Sequential(OrderedDict([\n",
        "            ('linr1', nn.Linear(300, 164)),\n",
        "            ('actv1', nn.ReLU()),\n",
        "            ('linr2', nn.Linear(164, 1)),\n",
        "#             ('actv2', nn.ReLU()),\n",
        "#             ('linr3', nn.Linear(50, 1)),\n",
        "        ]))\n",
        "\n",
        "        self.device = device\n",
        "        self.encoder_user.apply(self.init_weights)\n",
        "        self.encoder_item.apply(self.init_weights)\n",
        "        #self.encoder_video.apply(self.init_weights)\n",
        "        self.encoder_audio.apply(self.init_weights)\n",
        "        self.encoder_text.apply(self.init_weights)\n",
        "        #self.encoder_meta.apply(self.init_weights)\n",
        "        self.siamese.apply(self.init_weights)\n",
        "        self.ffn.apply(self.init_weights)\n",
        "\n",
        "    def init_weights(self, m):\n",
        "        if isinstance(m, nn.Linear):\n",
        "            nn.init.kaiming_normal_(m.weight)\n",
        "            m.bias.data.fill_(0.01)\n",
        "\n",
        "    def exp(self, q, k, v):\n",
        "        z = torch.bmm(q, k.permute(0, 2, 1))\n",
        "        z = F.normalize(z, p = 10, dim = 1)\n",
        "        z = torch.softmax(z, 1)\n",
        "        z = torch.bmm(z, v)\n",
        "        return(z)\n",
        "\n",
        "    def forward(self, x1, x2):\n",
        "        # Modality-encoders\n",
        "        outu = self.encoder_user(x1)\n",
        "        outr = self.encoder_item(x2[3])\n",
        "        #outv = torch.split(self.encoder_video(x2[0]), [100, 100, 100], 1)\n",
        "        outa = torch.split(self.encoder_audio(x2[1]), [100, 100, 100], 1)\n",
        "        outt = torch.split(self.encoder_text(x2[2]), 100, 1)\n",
        "       # outm = torch.split(self.encoder_meta(x2[4]), [100, 100, 100], 1)\n",
        "\n",
        "        # Attention\n",
        "        q_t = outt[0].unsqueeze(1).repeat(1, ROW, 1)\n",
        "        k_t = outt[1].unsqueeze(1).repeat(1, ROW, 1)\n",
        "        v_t = outt[2].unsqueeze(1).repeat(1, ROW, 1)\n",
        "\n",
        "        q_a = outa[0].unsqueeze(1).repeat(1, ROW, 1)\n",
        "        k_a = outa[1].unsqueeze(1).repeat(1, ROW, 1)\n",
        "        v_a = outa[2].unsqueeze(1).repeat(1, ROW, 1)\n",
        "\n",
        "        #q_v = outv[0].unsqueeze(1).repeat(1, ROW, 1)\n",
        "        #k_v = outv[1].unsqueeze(1).repeat(1, ROW, 1)\n",
        "        #v_v = outv[2].unsqueeze(1).repeat(1, ROW, 1)\n",
        "\n",
        "        #q_m = outm[0].unsqueeze(1).repeat(1, ROW, 1)\n",
        "        #k_m = outm[1].unsqueeze(1).repeat(1, ROW, 1)\n",
        "        #v_m = outm[2].unsqueeze(1).repeat(1, ROW, 1)\n",
        "\n",
        "        # Self-Attention\n",
        "        st = self.exp(q_t, k_t, v_t)\n",
        "        #sm = self.exp(q_m, k_m, v_m)\n",
        "        sa = self.exp(q_a, k_a, v_a)\n",
        "        #sv = self.exp(q_v, k_v, v_v)\n",
        "\n",
        "        # Inter-Modal Attention\n",
        "        ita = self.exp(q_a, k_t, v_a)\n",
        "        #imv = self.exp(q_v, k_m, v_v)\n",
        "        itm = self.exp(q_t, k_a, v_t)\n",
        "\n",
        "        # Forward\n",
        "        ma = torch.mean(torch.stack([sa, ita]), 0)\n",
        "        mv = torch.mean(torch.stack([st, itm]), 0)\n",
        "        sda = itm\n",
        "        se = torch.mul(ma, mv)\n",
        "        outi = torch.cat((sda, se), axis = 2)#.reshape(-1, ROW * 1200)\n",
        "        outi = self.fusion(outi.unsqueeze(1))\n",
        "        out1 = self.siamese(outu)\n",
        "        out2 = self.siamese(outi.reshape(BATCH, -1))\n",
        "        diff = torch.cat((out1, out2, outt[2]), axis=1)\n",
        "        out = self.ffn(diff)\n",
        "        return(out, out1, out2)\n",
        "\n",
        "    def fit(self, trainloader = trainloader,\n",
        "            testloader = testloader, epochs = 1):\n",
        "        self.criterion_rate = weighted_mse_loss\n",
        "        self.criterion_embd = nn.CosineEmbeddingLoss()\n",
        "        self.optimizer = optim.Adam(self.parameters(), lr = 1e-4)\n",
        "\n",
        "        train_loss = []\n",
        "        train_f1 = []\n",
        "        test_loss = []\n",
        "        test_f1 = []\n",
        "        for epoch in range(epochs):\n",
        "            running_loss = 0.0\n",
        "            running_loss_1 = 0.0\n",
        "\n",
        "            for i, data in tqdm(enumerate(trainloader)):\n",
        "                self.train()\n",
        "                x1, x2, y = data\n",
        "                y_flt = y.type(torch.FloatTensor).to(device)\n",
        "                y_lng = torch.div(y, 4, rounding_mode=\"floor\").to(device)\n",
        "                self.optimizer.zero_grad()\n",
        "                reg, outu, outi = self.forward(x1, x2)\n",
        "                loss_1, loss_ = self.criterion_rate(reg.squeeze(), y_flt)\n",
        "                loss_2 = self.criterion_embd(outu, outi, y_lng * 2 - 1)\n",
        "                loss = loss_1 + loss_2\n",
        "                loss.backward()\n",
        "                self.optimizer.step()\n",
        "\n",
        "                running_loss_1 += torch.sqrt(loss_)\n",
        "                running_loss += loss\n",
        "            vl, vp, vr, vf, tp, tr, tf = self.evaluate()\n",
        "            print('Epoch-%d: Loss = %.3f\\nTrain RMSE = %.3f||Train Precision = %.3f||Train Recall = %.3f\\nTest RMSE = %.3f || Test Precision = %.3f|| Test Recall = %.3f'%\n",
        "                  (epoch + 1, running_loss / i, running_loss_1 / i,\n",
        "                   tp, tr, vl, vp, vr))\n",
        "            train_loss.append((running_loss_1 / i).cpu().detach().numpy())\n",
        "            test_loss.append(vl.cpu().detach().numpy())\n",
        "            train_f1.append(tf)\n",
        "            test_f1.append(vf)\n",
        "        return(train_loss, test_loss, train_f1, test_f1)\n",
        "\n",
        "    def evaluate(self, k = 3.5):\n",
        "        self.eval()\n",
        "        with torch.no_grad():\n",
        "            valdata = next(iter(testloader))\n",
        "            x1, x2, y = valdata\n",
        "            y_flt = y.type(torch.FloatTensor).to(device)\n",
        "            y_lng = torch.div(y, 4, rounding_mode=\"floor\").to(device)\n",
        "            otpt = self.forward(x1, x2)\n",
        "            pred = (otpt[0] > k).float()\n",
        "            vl = torch.sqrt(self.criterion_rate(otpt[0].squeeze(), y_flt)[1])\n",
        "            vp = precision_score(y_lng.cpu(), pred.cpu(), zero_division = 0)\n",
        "            vr = recall_score(y_lng.cpu(), pred.cpu(), zero_division = 0)\n",
        "            vf = f1_score(y_lng.cpu(), pred.cpu(), zero_division = 0)\n",
        "            print(classification_report(y_lng.cpu(), pred.cpu(),\n",
        "                    target_names = [\"0\", \"1\"], zero_division = 0))\n",
        "\n",
        "            traindata = next(iter(trainloader))\n",
        "            x1, x2, y = traindata\n",
        "            y_flt = y.type(torch.FloatTensor).to(device)\n",
        "            y_lng = torch.div(y, 4, rounding_mode=\"floor\").to(device)\n",
        "            otpt = self.forward(x1, x2)\n",
        "            pred = (otpt[0] > k).float()\n",
        "            tp = precision_score(y_lng.cpu(), pred.cpu(), zero_division = 0)\n",
        "            tr = recall_score(y_lng.cpu(), pred.cpu(), zero_division = 0)\n",
        "            tf = f1_score(y_lng.cpu(), pred.cpu(), zero_division = 0)\n",
        "        return(vl, vp*100, vr*100, vf*100, tp*100, tr*100, tf*100)"
      ]
    },
    {
      "cell_type": "code",
      "execution_count": null,
      "metadata": {
        "colab": {
          "base_uri": "https://localhost:8080/"
        },
        "id": "yASiP2kzt6A4",
        "outputId": "7475c644-26b1-49fd-c748-e632426a966c"
      },
      "outputs": [
        {
          "data": {
            "text/plain": [
              "SiameseNet4(\n",
              "  (encoder_user): Sequential(\n",
              "    (linr1): Linear(in_features=1220, out_features=1024, bias=True)\n",
              "    (relu1): LeakyReLU(negative_slope=0.01)\n",
              "    (linr2): Linear(in_features=1024, out_features=84, bias=True)\n",
              "    (relu2): LeakyReLU(negative_slope=0.01)\n",
              "  )\n",
              "  (encoder_item): Sequential(\n",
              "    (linr1): Linear(in_features=943, out_features=256, bias=True)\n",
              "    (relu1): LeakyReLU(negative_slope=0.01)\n",
              "    (linr2): Linear(in_features=256, out_features=300, bias=True)\n",
              "    (relu2): LeakyReLU(negative_slope=0.01)\n",
              "  )\n",
              "  (encoder_audio): Sequential(\n",
              "    (linr1): Linear(in_features=1024, out_features=600, bias=True)\n",
              "    (relu1): LeakyReLU(negative_slope=0.01)\n",
              "    (linr4): Linear(in_features=600, out_features=300, bias=True)\n",
              "    (relu4): LeakyReLU(negative_slope=0.01)\n",
              "  )\n",
              "  (encoder_text): Sequential(\n",
              "    (linr1): Linear(in_features=384, out_features=256, bias=True)\n",
              "    (relu1): LeakyReLU(negative_slope=0.01)\n",
              "    (linr2): Linear(in_features=256, out_features=300, bias=True)\n",
              "    (relu2): LeakyReLU(negative_slope=0.01)\n",
              "  )\n",
              "  (fusion): Sequential(\n",
              "    (conv1): Conv2d(1, 1, kernel_size=(20, 20), stride=(2, 2))\n",
              "    (relu1): LeakyReLU(negative_slope=0.01)\n",
              "    (conv2): Conv2d(1, 1, kernel_size=(5, 50), stride=(1, 1))\n",
              "    (relu2): LeakyReLU(negative_slope=0.01)\n",
              "  )\n",
              "  (siamese): Sequential(\n",
              "    (linr1): Linear(in_features=84, out_features=200, bias=True)\n",
              "    (relu1): LeakyReLU(negative_slope=0.01)\n",
              "    (linr2): Linear(in_features=200, out_features=256, bias=True)\n",
              "    (relu2): LeakyReLU(negative_slope=0.01)\n",
              "    (linr3): Linear(in_features=256, out_features=100, bias=True)\n",
              "    (relu3): LeakyReLU(negative_slope=0.01)\n",
              "  )\n",
              "  (ffn): Sequential(\n",
              "    (linr1): Linear(in_features=300, out_features=164, bias=True)\n",
              "    (actv1): ReLU()\n",
              "    (linr2): Linear(in_features=164, out_features=1, bias=True)\n",
              "  )\n",
              ")"
            ]
          },
          "execution_count": 76,
          "metadata": {},
          "output_type": "execute_result"
        }
      ],
      "source": [
        "sm_net = SiameseNet4()\n",
        "sm_net.to(device)"
      ]
    },
    {
      "cell_type": "code",
      "execution_count": null,
      "metadata": {
        "colab": {
          "base_uri": "https://localhost:8080/"
        },
        "id": "UJuO0JCmt5-c",
        "outputId": "c4a7b39a-47f1-4e78-ce8c-a7f1026cd4eb"
      },
      "outputs": [
        {
          "name": "stderr",
          "output_type": "stream",
          "text": [
            "40it [00:46,  1.15s/it]\n"
          ]
        },
        {
          "name": "stdout",
          "output_type": "stream",
          "text": [
            "              precision    recall  f1-score   support\n",
            "\n",
            "           0       0.44      0.89      0.59       865\n",
            "           1       0.60      0.12      0.20      1135\n",
            "\n",
            "    accuracy                           0.46      2000\n",
            "   macro avg       0.52      0.51      0.39      2000\n",
            "weighted avg       0.53      0.46      0.37      2000\n",
            "\n",
            "Epoch-1: Loss = 8.653\n",
            "Train RMSE = 2.145||Train Precision = 60.294||Train Recall = 11.182\n",
            "Test RMSE = 1.467 || Test Precision = 59.912|| Test Recall = 11.982\n"
          ]
        },
        {
          "name": "stderr",
          "output_type": "stream",
          "text": [
            "40it [00:32,  1.24it/s]\n"
          ]
        },
        {
          "name": "stdout",
          "output_type": "stream",
          "text": [
            "              precision    recall  f1-score   support\n",
            "\n",
            "           0       0.43      0.92      0.58       865\n",
            "           1       0.49      0.06      0.10      1135\n",
            "\n",
            "    accuracy                           0.43      2000\n",
            "   macro avg       0.46      0.49      0.34      2000\n",
            "weighted avg       0.46      0.43      0.31      2000\n",
            "\n",
            "Epoch-2: Loss = 4.117\n",
            "Train RMSE = 1.340||Train Precision = 61.765||Train Recall = 1.867\n",
            "Test RMSE = 1.439 || Test Precision = 48.889|| Test Recall = 5.815\n"
          ]
        },
        {
          "name": "stderr",
          "output_type": "stream",
          "text": [
            "40it [00:31,  1.27it/s]\n"
          ]
        },
        {
          "name": "stdout",
          "output_type": "stream",
          "text": [
            "              precision    recall  f1-score   support\n",
            "\n",
            "           0       0.43      0.90      0.58       865\n",
            "           1       0.54      0.09      0.15      1135\n",
            "\n",
            "    accuracy                           0.44      2000\n",
            "   macro avg       0.49      0.50      0.37      2000\n",
            "weighted avg       0.49      0.44      0.34      2000\n",
            "\n",
            "Epoch-3: Loss = 3.918\n",
            "Train RMSE = 1.284||Train Precision = 58.824||Train Recall = 3.546\n",
            "Test RMSE = 1.392 || Test Precision = 54.301|| Test Recall = 8.899\n"
          ]
        },
        {
          "name": "stderr",
          "output_type": "stream",
          "text": [
            "40it [00:32,  1.23it/s]\n"
          ]
        },
        {
          "name": "stdout",
          "output_type": "stream",
          "text": [
            "              precision    recall  f1-score   support\n",
            "\n",
            "           0       0.44      0.89      0.59       865\n",
            "           1       0.59      0.12      0.20      1135\n",
            "\n",
            "    accuracy                           0.45      2000\n",
            "   macro avg       0.52      0.51      0.39      2000\n",
            "weighted avg       0.53      0.45      0.37      2000\n",
            "\n",
            "Epoch-4: Loss = 3.761\n",
            "Train RMSE = 1.248||Train Precision = 70.796||Train Recall = 7.098\n",
            "Test RMSE = 1.373 || Test Precision = 59.402|| Test Recall = 12.247\n"
          ]
        },
        {
          "name": "stderr",
          "output_type": "stream",
          "text": [
            "40it [00:32,  1.22it/s]\n"
          ]
        },
        {
          "name": "stdout",
          "output_type": "stream",
          "text": [
            "              precision    recall  f1-score   support\n",
            "\n",
            "           0       0.45      0.79      0.57       865\n",
            "           1       0.61      0.25      0.35      1135\n",
            "\n",
            "    accuracy                           0.48      2000\n",
            "   macro avg       0.53      0.52      0.46      2000\n",
            "weighted avg       0.54      0.48      0.45      2000\n",
            "\n",
            "Epoch-5: Loss = 3.597\n",
            "Train RMSE = 1.219||Train Precision = 76.316||Train Recall = 15.398\n",
            "Test RMSE = 1.348 || Test Precision = 61.050|| Test Recall = 24.581\n"
          ]
        },
        {
          "name": "stderr",
          "output_type": "stream",
          "text": [
            "40it [00:32,  1.23it/s]\n"
          ]
        },
        {
          "name": "stdout",
          "output_type": "stream",
          "text": [
            "              precision    recall  f1-score   support\n",
            "\n",
            "           0       0.45      0.78      0.57       865\n",
            "           1       0.62      0.27      0.38      1135\n",
            "\n",
            "    accuracy                           0.49      2000\n",
            "   macro avg       0.53      0.53      0.47      2000\n",
            "weighted avg       0.55      0.49      0.46      2000\n",
            "\n",
            "Epoch-6: Loss = 3.416\n",
            "Train RMSE = 1.184||Train Precision = 79.381||Train Recall = 20.867\n",
            "Test RMSE = 1.354 || Test Precision = 61.876|| Test Recall = 27.313\n"
          ]
        },
        {
          "name": "stderr",
          "output_type": "stream",
          "text": [
            "40it [00:32,  1.25it/s]\n"
          ]
        },
        {
          "name": "stdout",
          "output_type": "stream",
          "text": [
            "              precision    recall  f1-score   support\n",
            "\n",
            "           0       0.46      0.75      0.57       865\n",
            "           1       0.63      0.33      0.44      1135\n",
            "\n",
            "    accuracy                           0.51      2000\n",
            "   macro avg       0.55      0.54      0.50      2000\n",
            "weighted avg       0.56      0.51      0.49      2000\n",
            "\n",
            "Epoch-7: Loss = 3.250\n",
            "Train RMSE = 1.155||Train Precision = 77.500||Train Recall = 30.528\n",
            "Test RMSE = 1.331 || Test Precision = 63.211|| Test Recall = 33.304\n"
          ]
        },
        {
          "name": "stderr",
          "output_type": "stream",
          "text": [
            "40it [00:32,  1.23it/s]\n"
          ]
        },
        {
          "name": "stdout",
          "output_type": "stream",
          "text": [
            "              precision    recall  f1-score   support\n",
            "\n",
            "           0       0.46      0.77      0.58       865\n",
            "           1       0.64      0.32      0.43      1135\n",
            "\n",
            "    accuracy                           0.51      2000\n",
            "   macro avg       0.55      0.54      0.50      2000\n",
            "weighted avg       0.56      0.51      0.49      2000\n",
            "\n",
            "Epoch-8: Loss = 3.112\n",
            "Train RMSE = 1.130||Train Precision = 73.605||Train Recall = 31.125\n",
            "Test RMSE = 1.331 || Test Precision = 64.311|| Test Recall = 32.070\n"
          ]
        },
        {
          "name": "stderr",
          "output_type": "stream",
          "text": [
            "40it [00:32,  1.23it/s]\n"
          ]
        },
        {
          "name": "stdout",
          "output_type": "stream",
          "text": [
            "              precision    recall  f1-score   support\n",
            "\n",
            "           0       0.47      0.73      0.57       865\n",
            "           1       0.65      0.37      0.47      1135\n",
            "\n",
            "    accuracy                           0.53      2000\n",
            "   macro avg       0.56      0.55      0.52      2000\n",
            "weighted avg       0.57      0.53      0.51      2000\n",
            "\n",
            "Epoch-9: Loss = 3.026\n",
            "Train RMSE = 1.117||Train Precision = 77.453||Train Recall = 40.798\n",
            "Test RMSE = 1.299 || Test Precision = 64.561|| Test Recall = 36.916\n"
          ]
        },
        {
          "name": "stderr",
          "output_type": "stream",
          "text": [
            "40it [00:31,  1.27it/s]\n"
          ]
        },
        {
          "name": "stdout",
          "output_type": "stream",
          "text": [
            "              precision    recall  f1-score   support\n",
            "\n",
            "           0       0.47      0.75      0.58       865\n",
            "           1       0.65      0.35      0.46      1135\n",
            "\n",
            "    accuracy                           0.52      2000\n",
            "   macro avg       0.56      0.55      0.52      2000\n",
            "weighted avg       0.57      0.52      0.51      2000\n",
            "\n",
            "Epoch-10: Loss = 2.947\n",
            "Train RMSE = 1.104||Train Precision = 73.868||Train Recall = 39.006\n",
            "Test RMSE = 1.282 || Test Precision = 64.887|| Test Recall = 35.330\n"
          ]
        },
        {
          "name": "stderr",
          "output_type": "stream",
          "text": [
            "40it [00:31,  1.26it/s]\n"
          ]
        },
        {
          "name": "stdout",
          "output_type": "stream",
          "text": [
            "              precision    recall  f1-score   support\n",
            "\n",
            "           0       0.49      0.69      0.57       865\n",
            "           1       0.65      0.44      0.53      1135\n",
            "\n",
            "    accuracy                           0.55      2000\n",
            "   macro avg       0.57      0.57      0.55      2000\n",
            "weighted avg       0.58      0.55      0.55      2000\n",
            "\n",
            "Epoch-11: Loss = 2.903\n",
            "Train RMSE = 1.099||Train Precision = 74.835||Train Recall = 51.683\n",
            "Test RMSE = 1.245 || Test Precision = 65.455|| Test Recall = 44.405\n"
          ]
        },
        {
          "name": "stderr",
          "output_type": "stream",
          "text": [
            "40it [00:32,  1.23it/s]\n"
          ]
        },
        {
          "name": "stdout",
          "output_type": "stream",
          "text": [
            "              precision    recall  f1-score   support\n",
            "\n",
            "           0       0.49      0.70      0.58       865\n",
            "           1       0.67      0.45      0.54      1135\n",
            "\n",
            "    accuracy                           0.56      2000\n",
            "   macro avg       0.58      0.58      0.56      2000\n",
            "weighted avg       0.59      0.56      0.55      2000\n",
            "\n",
            "Epoch-12: Loss = 2.862\n",
            "Train RMSE = 1.090||Train Precision = 75.066||Train Recall = 51.737\n",
            "Test RMSE = 1.235 || Test Precision = 66.536|| Test Recall = 44.846\n"
          ]
        },
        {
          "name": "stderr",
          "output_type": "stream",
          "text": [
            "40it [00:31,  1.25it/s]\n"
          ]
        },
        {
          "name": "stdout",
          "output_type": "stream",
          "text": [
            "              precision    recall  f1-score   support\n",
            "\n",
            "           0       0.47      0.83      0.60       865\n",
            "           1       0.69      0.29      0.41      1135\n",
            "\n",
            "    accuracy                           0.53      2000\n",
            "   macro avg       0.58      0.56      0.51      2000\n",
            "weighted avg       0.60      0.53      0.49      2000\n",
            "\n",
            "Epoch-13: Loss = 2.843\n",
            "Train RMSE = 1.087||Train Precision = 78.755||Train Recall = 39.269\n",
            "Test RMSE = 1.281 || Test Precision = 69.311|| Test Recall = 29.251\n"
          ]
        },
        {
          "name": "stderr",
          "output_type": "stream",
          "text": [
            "40it [00:31,  1.27it/s]\n"
          ]
        },
        {
          "name": "stdout",
          "output_type": "stream",
          "text": [
            "              precision    recall  f1-score   support\n",
            "\n",
            "           0       0.48      0.80      0.60       865\n",
            "           1       0.68      0.33      0.45      1135\n",
            "\n",
            "    accuracy                           0.53      2000\n",
            "   macro avg       0.58      0.57      0.52      2000\n",
            "weighted avg       0.59      0.53      0.51      2000\n",
            "\n",
            "Epoch-14: Loss = 2.781\n",
            "Train RMSE = 1.077||Train Precision = 79.146||Train Recall = 43.036\n",
            "Test RMSE = 1.267 || Test Precision = 68.345|| Test Recall = 33.480\n"
          ]
        },
        {
          "name": "stderr",
          "output_type": "stream",
          "text": [
            "40it [00:31,  1.25it/s]\n"
          ]
        },
        {
          "name": "stdout",
          "output_type": "stream",
          "text": [
            "              precision    recall  f1-score   support\n",
            "\n",
            "           0       0.50      0.76      0.60       865\n",
            "           1       0.70      0.42      0.53      1135\n",
            "\n",
            "    accuracy                           0.57      2000\n",
            "   macro avg       0.60      0.59      0.57      2000\n",
            "weighted avg       0.61      0.57      0.56      2000\n",
            "\n",
            "Epoch-15: Loss = 2.751\n",
            "Train RMSE = 1.073||Train Precision = 78.120||Train Recall = 47.247\n",
            "Test RMSE = 1.229 || Test Precision = 69.710|| Test Recall = 42.379\n"
          ]
        },
        {
          "name": "stderr",
          "output_type": "stream",
          "text": [
            "40it [00:31,  1.27it/s]\n"
          ]
        },
        {
          "name": "stdout",
          "output_type": "stream",
          "text": [
            "              precision    recall  f1-score   support\n",
            "\n",
            "           0       0.51      0.75      0.61       865\n",
            "           1       0.70      0.45      0.55      1135\n",
            "\n",
            "    accuracy                           0.58      2000\n",
            "   macro avg       0.61      0.60      0.58      2000\n",
            "weighted avg       0.62      0.58      0.57      2000\n",
            "\n",
            "Epoch-16: Loss = 2.722\n",
            "Train RMSE = 1.067||Train Precision = 78.125||Train Recall = 54.490\n",
            "Test RMSE = 1.216 || Test Precision = 70.123|| Test Recall = 45.286\n"
          ]
        },
        {
          "name": "stderr",
          "output_type": "stream",
          "text": [
            "40it [00:31,  1.28it/s]\n"
          ]
        },
        {
          "name": "stdout",
          "output_type": "stream",
          "text": [
            "              precision    recall  f1-score   support\n",
            "\n",
            "           0       0.51      0.77      0.61       865\n",
            "           1       0.71      0.45      0.55      1135\n",
            "\n",
            "    accuracy                           0.59      2000\n",
            "   macro avg       0.61      0.61      0.58      2000\n",
            "weighted avg       0.63      0.59      0.58      2000\n",
            "\n",
            "Epoch-17: Loss = 2.693\n",
            "Train RMSE = 1.064||Train Precision = 80.212||Train Recall = 54.562\n",
            "Test RMSE = 1.218 || Test Precision = 71.489|| Test Recall = 44.846\n"
          ]
        },
        {
          "name": "stderr",
          "output_type": "stream",
          "text": [
            "40it [00:32,  1.25it/s]\n"
          ]
        },
        {
          "name": "stdout",
          "output_type": "stream",
          "text": [
            "              precision    recall  f1-score   support\n",
            "\n",
            "           0       0.50      0.80      0.61       865\n",
            "           1       0.72      0.38      0.50      1135\n",
            "\n",
            "    accuracy                           0.56      2000\n",
            "   macro avg       0.61      0.59      0.55      2000\n",
            "weighted avg       0.62      0.56      0.55      2000\n",
            "\n",
            "Epoch-18: Loss = 2.680\n",
            "Train RMSE = 1.061||Train Precision = 78.219||Train Recall = 44.485\n",
            "Test RMSE = 1.246 || Test Precision = 71.547|| Test Recall = 37.885\n"
          ]
        },
        {
          "name": "stderr",
          "output_type": "stream",
          "text": [
            "40it [00:31,  1.25it/s]\n"
          ]
        },
        {
          "name": "stdout",
          "output_type": "stream",
          "text": [
            "              precision    recall  f1-score   support\n",
            "\n",
            "           0       0.52      0.77      0.62       865\n",
            "           1       0.72      0.45      0.55      1135\n",
            "\n",
            "    accuracy                           0.59      2000\n",
            "   macro avg       0.62      0.61      0.59      2000\n",
            "weighted avg       0.63      0.59      0.58      2000\n",
            "\n",
            "Epoch-19: Loss = 2.674\n",
            "Train RMSE = 1.062||Train Precision = 79.539||Train Recall = 48.850\n",
            "Test RMSE = 1.218 || Test Precision = 72.222|| Test Recall = 44.670\n"
          ]
        },
        {
          "name": "stderr",
          "output_type": "stream",
          "text": [
            "40it [00:31,  1.26it/s]\n"
          ]
        },
        {
          "name": "stdout",
          "output_type": "stream",
          "text": [
            "              precision    recall  f1-score   support\n",
            "\n",
            "           0       0.52      0.75      0.61       865\n",
            "           1       0.71      0.47      0.57      1135\n",
            "\n",
            "    accuracy                           0.59      2000\n",
            "   macro avg       0.62      0.61      0.59      2000\n",
            "weighted avg       0.63      0.59      0.59      2000\n",
            "\n",
            "Epoch-20: Loss = 2.648\n",
            "Train RMSE = 1.060||Train Precision = 76.516||Train Recall = 53.568\n",
            "Test RMSE = 1.208 || Test Precision = 71.108|| Test Recall = 47.489\n"
          ]
        }
      ],
      "source": [
        "train_loss, test_loss, train_f1, test_f1 = sm_net.fit()"
      ]
    },
    {
      "cell_type": "code",
      "execution_count": null,
      "metadata": {
        "colab": {
          "base_uri": "https://localhost:8080/",
          "height": 516
        },
        "id": "ahFtwlIG-gMh",
        "outputId": "43e15748-fe2c-46fa-d17a-9833922e0853"
      },
      "outputs": [
        {
          "name": "stderr",
          "output_type": "stream",
          "text": [
            "<ipython-input-78-abf663b56279>:7: UserWarning: You have mixed positional and keyword arguments, some input may be discarded.\n",
            "  fig.legend([ax, ax2], labels = [\"Train Loss\", \"Test Loss\"], loc = \"upper right\")\n"
          ]
        },
        {
          "data": {
            "image/png": "[encoded data removed]",
            "text/plain": [
              "<Figure size 640x480 with 2 Axes>"
            ]
          },
          "metadata": {},
          "output_type": "display_data"
        }
      ],
      "source": [
        "import matplotlib.pyplot as plt\n",
        "\n",
        "fig, ax = plt.subplots()\n",
        "ax2 = ax.twinx()\n",
        "ax.plot(train_loss[20:], label = \"Train Loss\", color = \"orange\")\n",
        "ax2.plot(test_loss[20:], label = \"Test Loss\")\n",
        "fig.legend([ax, ax2], labels = [\"Train Loss\", \"Test Loss\"], loc = \"upper right\")\n",
        "plt.show()"
      ]
    },
    {
      "cell_type": "code",
      "execution_count": null,
      "metadata": {
        "colab": {
          "base_uri": "https://localhost:8080/",
          "height": 1000
        },
        "id": "NAqfddxy5MUO",
        "outputId": "6a2be57d-b70f-40d5-f11e-6c46638dcb3c"
      },
      "outputs": [
        {
          "name": "stdout",
          "output_type": "stream",
          "text": [
            "              precision    recall  f1-score   support\n",
            "\n",
            "           0       0.62      0.50      0.55       865\n",
            "           1       0.67      0.77      0.71      1135\n",
            "\n",
            "    accuracy                           0.65      2000\n",
            "   macro avg       0.64      0.63      0.63      2000\n",
            "weighted avg       0.65      0.65      0.64      2000\n",
            "\n",
            "              precision    recall  f1-score   support\n",
            "\n",
            "           0       0.60      0.55      0.58       865\n",
            "           1       0.68      0.72      0.70      1135\n",
            "\n",
            "    accuracy                           0.65      2000\n",
            "   macro avg       0.64      0.64      0.64      2000\n",
            "weighted avg       0.64      0.65      0.64      2000\n",
            "\n",
            "              precision    recall  f1-score   support\n",
            "\n",
            "           0       0.58      0.60      0.59       865\n",
            "           1       0.69      0.66      0.67      1135\n",
            "\n",
            "    accuracy                           0.64      2000\n",
            "   macro avg       0.63      0.63      0.63      2000\n",
            "weighted avg       0.64      0.64      0.64      2000\n",
            "\n",
            "              precision    recall  f1-score   support\n",
            "\n",
            "           0       0.55      0.65      0.60       865\n",
            "           1       0.69      0.60      0.64      1135\n",
            "\n",
            "    accuracy                           0.62      2000\n",
            "   macro avg       0.62      0.62      0.62      2000\n",
            "weighted avg       0.63      0.62      0.62      2000\n",
            "\n",
            "              precision    recall  f1-score   support\n",
            "\n",
            "           0       0.54      0.70      0.61       865\n",
            "           1       0.71      0.55      0.62      1135\n",
            "\n",
            "    accuracy                           0.61      2000\n",
            "   macro avg       0.62      0.62      0.61      2000\n",
            "weighted avg       0.63      0.61      0.61      2000\n",
            "\n",
            "              precision    recall  f1-score   support\n",
            "\n",
            "           0       0.52      0.75      0.61       865\n",
            "           1       0.71      0.47      0.57      1135\n",
            "\n",
            "    accuracy                           0.59      2000\n",
            "   macro avg       0.62      0.61      0.59      2000\n",
            "weighted avg       0.63      0.59      0.59      2000\n",
            "\n",
            "              precision    recall  f1-score   support\n",
            "\n",
            "           0       0.50      0.80      0.62       865\n",
            "           1       0.72      0.40      0.52      1135\n",
            "\n",
            "    accuracy                           0.57      2000\n",
            "   macro avg       0.61      0.60      0.57      2000\n",
            "weighted avg       0.63      0.57      0.56      2000\n",
            "\n",
            "              precision    recall  f1-score   support\n",
            "\n",
            "           0       0.49      0.83      0.61       865\n",
            "           1       0.72      0.34      0.46      1135\n",
            "\n",
            "    accuracy                           0.55      2000\n",
            "   macro avg       0.60      0.58      0.54      2000\n",
            "weighted avg       0.62      0.55      0.52      2000\n",
            "\n",
            "              precision    recall  f1-score   support\n",
            "\n",
            "           0       0.47      0.85      0.61       865\n",
            "           1       0.71      0.28      0.40      1135\n",
            "\n",
            "    accuracy                           0.53      2000\n",
            "   macro avg       0.59      0.56      0.50      2000\n",
            "weighted avg       0.61      0.53      0.49      2000\n",
            "\n",
            "              precision    recall  f1-score   support\n",
            "\n",
            "           0       0.46      0.88      0.61       865\n",
            "           1       0.70      0.22      0.34      1135\n",
            "\n",
            "    accuracy                           0.51      2000\n",
            "   macro avg       0.58      0.55      0.47      2000\n",
            "weighted avg       0.60      0.51      0.45      2000\n",
            "\n"
          ]
        },
        {
          "data": {
            "image/png": "[encoded data removed]",
            "text/plain": [
              "<Figure size 640x480 with 1 Axes>"
            ]
          },
          "metadata": {},
          "output_type": "display_data"
        }
      ],
      "source": [
        "prs = []\n",
        "rec = []\n",
        "f1 = []\n",
        "loss = []\n",
        "\n",
        "for i in np.arange(3, 4, 0.1):\n",
        "    l, p, r, f, _, _, _ = sm_net.evaluate(i)\n",
        "    prs.append(p)\n",
        "    rec.append(r)\n",
        "    f1.append(f)\n",
        "    loss.append(l)\n",
        "\n",
        "plt.plot(prs, label = \"Test Precision\")\n",
        "plt.plot(rec, label = \"Test Recall\")\n",
        "plt.plot(f1, label = \"Test F1\")\n",
        "\n",
        "plt.legend()\n",
        "plt.show()"
      ]
    },
    {
      "cell_type": "markdown",
      "metadata": {
        "id": "cldpwnx95Q7S"
      },
      "source": [
        "# **(Text + Video)**"
      ]
    },
    {
      "cell_type": "code",
      "execution_count": null,
      "metadata": {
        "id": "TMDdFaga5NCG"
      },
      "outputs": [],
      "source": [
        "class SiameseNet5(nn.Module):\n",
        "    def __init__(self, device = device, channel = 84):\n",
        "        super(SiameseNet5, self).__init__()\n",
        "        self.encoder_user = nn.Sequential(OrderedDict([\n",
        "            ('linr1', nn.Linear(train_dataset.user_embedding_size, 1024)),\n",
        "            ('relu1', nn.LeakyReLU()),\n",
        "            ('linr2', nn.Linear(1024, channel)),\n",
        "            ('relu2', nn.LeakyReLU()),\n",
        "        ]))\n",
        "\n",
        "        self.encoder_item = nn.Sequential(OrderedDict([\n",
        "            ('linr1', nn.Linear(train_dataset.item_embedding_size, 256)),\n",
        "            ('relu1', nn.LeakyReLU()),\n",
        "            ('linr2', nn.Linear(256, 300)),\n",
        "            ('relu2', nn.LeakyReLU()),\n",
        "        ]))\n",
        "\n",
        "        self.encoder_video = nn.Sequential(OrderedDict([\n",
        "            ('linr1', nn.Linear(train_dataset.video_embedding_size, 1600)),\n",
        "            ('relu1', nn.LeakyReLU()),\n",
        "            ('linr2', nn.Linear(1600, 300)),\n",
        "            ('relu2', nn.LeakyReLU()),\n",
        "#             ('linr3', nn.Linear(1000, 500)),\n",
        "#             ('relu3', nn.LeakyReLU()),\n",
        "# #             ('norm2', nn.BatchNorm1d(500)),\n",
        "#             ('linr4', nn.Linear(500, 300)),\n",
        "#             ('relu4', nn.LeakyReLU()),\n",
        "        ]))\n",
        "\n",
        "        #self.encoder_audio = nn.Sequential(OrderedDict([\n",
        "        #    ('linr1', nn.Linear(train_dataset.audio_embedding_size, 600)),\n",
        "        #    ('relu1', nn.LeakyReLU()),\n",
        "        #    ('linr4', nn.Linear(600, 300)),\n",
        "        #    ('relu4', nn.LeakyReLU()),\n",
        "        #]))\n",
        "\n",
        "        self.encoder_text = nn.Sequential(OrderedDict([\n",
        "            ('linr1', nn.Linear(train_dataset.text_embedding_size, 256)),\n",
        "            ('relu1', nn.LeakyReLU()),\n",
        "            ('linr2', nn.Linear(256, 300)),\n",
        "            ('relu2', nn.LeakyReLU()),\n",
        "        ]))\n",
        "\n",
        "        #self.encoder_meta = nn.Sequential(OrderedDict([\n",
        "         #   ('linr1', nn.Linear(train_dataset.meta_embedding_size, 1600)),\n",
        "         #   ('relu1', nn.LeakyReLU()),\n",
        "#             ('norm1', nn.BatchNorm1d(1600)),\n",
        "         #   ('linr2', nn.Linear(1600, 300)),\n",
        "         #   ('relu2', nn.LeakyReLU()),\n",
        "#             ('linr3', nn.Linear(1000, 500)),\n",
        "#             ('relu3', nn.LeakyReLU()),\n",
        "#             ('linr4', nn.Linear(500, 300)),\n",
        "#             ('relu4', nn.LeakyReLU()),\n",
        "        #]))\n",
        "\n",
        "        self.fusion = nn.Sequential(OrderedDict([\n",
        "            ('conv1', nn.Conv2d(1, 1, (20, 20), stride=(2, 2))),\n",
        "            ('relu1', nn.LeakyReLU()),\n",
        "            ('conv2', nn.Conv2d(1, 1, (5, 50), stride=(1, 1))),\n",
        "            ('relu2', nn.LeakyReLU()),\n",
        "        ]))\n",
        "\n",
        "        self.siamese = nn.Sequential(OrderedDict([\n",
        "            ('linr1', nn.Linear(channel, 200)),\n",
        "            ('relu1', nn.LeakyReLU()),\n",
        "            ('linr2', nn.Linear(200, 256)),\n",
        "            ('relu2', nn.LeakyReLU()),\n",
        "            ('linr3', nn.Linear(256, 100)),\n",
        "            ('relu3', nn.LeakyReLU()),\n",
        "        ]))\n",
        "\n",
        "        self.ffn = nn.Sequential(OrderedDict([\n",
        "            ('linr1', nn.Linear(300, 164)),\n",
        "            ('actv1', nn.ReLU()),\n",
        "            ('linr2', nn.Linear(164, 1)),\n",
        "#             ('actv2', nn.ReLU()),\n",
        "#             ('linr3', nn.Linear(50, 1)),\n",
        "        ]))\n",
        "\n",
        "        self.device = device\n",
        "        self.encoder_user.apply(self.init_weights)\n",
        "        self.encoder_item.apply(self.init_weights)\n",
        "        self.encoder_video.apply(self.init_weights)\n",
        "        #self.encoder_audio.apply(self.init_weights)\n",
        "        self.encoder_text.apply(self.init_weights)\n",
        "        #self.encoder_meta.apply(self.init_weights)\n",
        "        self.siamese.apply(self.init_weights)\n",
        "        self.ffn.apply(self.init_weights)\n",
        "\n",
        "    def init_weights(self, m):\n",
        "        if isinstance(m, nn.Linear):\n",
        "            nn.init.kaiming_normal_(m.weight)\n",
        "            m.bias.data.fill_(0.01)\n",
        "\n",
        "    def exp(self, q, k, v):\n",
        "        z = torch.bmm(q, k.permute(0, 2, 1))\n",
        "        z = F.normalize(z, p = 10, dim = 1)\n",
        "        z = torch.softmax(z, 1)\n",
        "        z = torch.bmm(z, v)\n",
        "        return(z)\n",
        "\n",
        "    def forward(self, x1, x2):\n",
        "        # Modality-encoders\n",
        "        outu = self.encoder_user(x1)\n",
        "        outr = self.encoder_item(x2[3])\n",
        "        outv = torch.split(self.encoder_video(x2[0]), [100, 100, 100], 1)\n",
        "        #outa = torch.split(self.encoder_audio(x2[1]), [100, 100, 100], 1)\n",
        "        outt = torch.split(self.encoder_text(x2[2]), 100, 1)\n",
        "        #outm = torch.split(self.encoder_meta(x2[4]), [100, 100, 100], 1)\n",
        "\n",
        "        # Attention\n",
        "        q_t = outt[0].unsqueeze(1).repeat(1, ROW, 1)\n",
        "        k_t = outt[1].unsqueeze(1).repeat(1, ROW, 1)\n",
        "        v_t = outt[2].unsqueeze(1).repeat(1, ROW, 1)\n",
        "\n",
        "        #q_a = outa[0].unsqueeze(1).repeat(1, ROW, 1)\n",
        "        #k_a = outa[1].unsqueeze(1).repeat(1, ROW, 1)\n",
        "        #v_a = outa[2].unsqueeze(1).repeat(1, ROW, 1)\n",
        "\n",
        "        q_v = outv[0].unsqueeze(1).repeat(1, ROW, 1)\n",
        "        k_v = outv[1].unsqueeze(1).repeat(1, ROW, 1)\n",
        "        v_v = outv[2].unsqueeze(1).repeat(1, ROW, 1)\n",
        "\n",
        "        #q_m = outm[0].unsqueeze(1).repeat(1, ROW, 1)\n",
        "        #k_m = outm[1].unsqueeze(1).repeat(1, ROW, 1)\n",
        "        #v_m = outm[2].unsqueeze(1).repeat(1, ROW, 1)\n",
        "\n",
        "        # Self-Attention\n",
        "        st = self.exp(q_t, k_t, v_t)\n",
        "        #sm = self.exp(q_m, k_m, v_m)\n",
        "        #sa = self.exp(q_a, k_a, v_a)\n",
        "        sv = self.exp(q_v, k_v, v_v)\n",
        "\n",
        "        # Inter-Modal Attention\n",
        "        #ita = self.exp(q_a, k_t, v_a)\n",
        "        imv = self.exp(q_v, k_t, v_v)\n",
        "        #itm = self.exp(q_m, k_t, v_m)\n",
        "\n",
        "        # Forward\n",
        "        ma = torch.mean(torch.stack([st, imv]), 0)\n",
        "        mv = torch.mean(torch.stack([sv, imv]), 0)\n",
        "        sda = imv\n",
        "        se = torch.mul(ma, mv)\n",
        "        outi = torch.cat((sda, se), axis = 2)#.reshape(-1, ROW * 1200)\n",
        "        outi = self.fusion(outi.unsqueeze(1))\n",
        "        out1 = self.siamese(outu)\n",
        "        out2 = self.siamese(outi.reshape(BATCH, -1))\n",
        "        diff = torch.cat((out1, out2, outv[2]), axis=1)\n",
        "        out = self.ffn(diff)\n",
        "        return(out, out1, out2)\n",
        "\n",
        "    def fit(self, trainloader = trainloader,\n",
        "            testloader = testloader, epochs = 1):\n",
        "        self.criterion_rate = weighted_mse_loss\n",
        "        self.criterion_embd = nn.CosineEmbeddingLoss()\n",
        "        self.optimizer = optim.Adam(self.parameters(), lr = 1e-4)\n",
        "\n",
        "        train_loss = []\n",
        "        train_f1 = []\n",
        "        test_loss = []\n",
        "        test_f1 = []\n",
        "        for epoch in range(epochs):\n",
        "            running_loss = 0.0\n",
        "            running_loss_1 = 0.0\n",
        "\n",
        "            for i, data in tqdm(enumerate(trainloader)):\n",
        "                self.train()\n",
        "                x1, x2, y = data\n",
        "                y_flt = y.type(torch.FloatTensor).to(device)\n",
        "                y_lng = torch.div(y, 4, rounding_mode=\"floor\").to(device)\n",
        "                self.optimizer.zero_grad()\n",
        "                reg, outu, outi = self.forward(x1, x2)\n",
        "                loss_1, loss_ = self.criterion_rate(reg.squeeze(), y_flt)\n",
        "                loss_2 = self.criterion_embd(outu, outi, y_lng * 2 - 1)\n",
        "                loss = loss_1 + loss_2\n",
        "                loss.backward()\n",
        "                self.optimizer.step()\n",
        "\n",
        "                running_loss_1 += torch.sqrt(loss_)\n",
        "                running_loss += loss\n",
        "            vl, vp, vr, vf, tp, tr, tf = self.evaluate()\n",
        "            print('Epoch-%d: Loss = %.3f\\nTrain RMSE = %.3f||Train Precision = %.3f||Train Recall = %.3f\\nTest RMSE = %.3f || Test Precision = %.3f|| Test Recall = %.3f'%\n",
        "                  (epoch + 1, running_loss / i, running_loss_1 / i,\n",
        "                   tp, tr, vl, vp, vr))\n",
        "            train_loss.append((running_loss_1 / i).cpu().detach().numpy())\n",
        "            test_loss.append(vl.cpu().detach().numpy())\n",
        "            train_f1.append(tf)\n",
        "            test_f1.append(vf)\n",
        "        return(train_loss, test_loss, train_f1, test_f1)\n",
        "\n",
        "    def evaluate(self, k = 3.5):\n",
        "        self.eval()\n",
        "        with torch.no_grad():\n",
        "            valdata = next(iter(testloader))\n",
        "            x1, x2, y = valdata\n",
        "            y_flt = y.type(torch.FloatTensor).to(device)\n",
        "            y_lng = torch.div(y, 4, rounding_mode=\"floor\").to(device)\n",
        "            otpt = self.forward(x1, x2)\n",
        "            pred = (otpt[0] > k).float()\n",
        "            vl = torch.sqrt(self.criterion_rate(otpt[0].squeeze(), y_flt)[1])\n",
        "            vp = precision_score(y_lng.cpu(), pred.cpu(), zero_division = 0)\n",
        "            vr = recall_score(y_lng.cpu(), pred.cpu(), zero_division = 0)\n",
        "            vf = f1_score(y_lng.cpu(), pred.cpu(), zero_division = 0)\n",
        "            print(classification_report(y_lng.cpu(), pred.cpu(),\n",
        "                    target_names = [\"0\", \"1\"], zero_division = 0))\n",
        "\n",
        "            traindata = next(iter(trainloader))\n",
        "            x1, x2, y = traindata\n",
        "            y_flt = y.type(torch.FloatTensor).to(device)\n",
        "            y_lng = torch.div(y, 4, rounding_mode=\"floor\").to(device)\n",
        "            otpt = self.forward(x1, x2)\n",
        "            pred = (otpt[0] > k).float()\n",
        "            tp = precision_score(y_lng.cpu(), pred.cpu(), zero_division = 0)\n",
        "            tr = recall_score(y_lng.cpu(), pred.cpu(), zero_division = 0)\n",
        "            tf = f1_score(y_lng.cpu(), pred.cpu(), zero_division = 0)\n",
        "        return(vl, vp*100, vr*100, vf*100, tp*100, tr*100, tf*100)"
      ]
    },
    {
      "cell_type": "code",
      "execution_count": null,
      "metadata": {
        "colab": {
          "base_uri": "https://localhost:8080/"
        },
        "id": "YQzGD-JB6Jul",
        "outputId": "59bce951-f188-46ac-bec9-fba8f394e142"
      },
      "outputs": [
        {
          "data": {
            "text/plain": [
              "SiameseNet5(\n",
              "  (encoder_user): Sequential(\n",
              "    (linr1): Linear(in_features=1220, out_features=1024, bias=True)\n",
              "    (relu1): LeakyReLU(negative_slope=0.01)\n",
              "    (linr2): Linear(in_features=1024, out_features=84, bias=True)\n",
              "    (relu2): LeakyReLU(negative_slope=0.01)\n",
              "  )\n",
              "  (encoder_item): Sequential(\n",
              "    (linr1): Linear(in_features=943, out_features=256, bias=True)\n",
              "    (relu1): LeakyReLU(negative_slope=0.01)\n",
              "    (linr2): Linear(in_features=256, out_features=300, bias=True)\n",
              "    (relu2): LeakyReLU(negative_slope=0.01)\n",
              "  )\n",
              "  (encoder_video): Sequential(\n",
              "    (linr1): Linear(in_features=1024, out_features=1600, bias=True)\n",
              "    (relu1): LeakyReLU(negative_slope=0.01)\n",
              "    (linr2): Linear(in_features=1600, out_features=300, bias=True)\n",
              "    (relu2): LeakyReLU(negative_slope=0.01)\n",
              "  )\n",
              "  (encoder_text): Sequential(\n",
              "    (linr1): Linear(in_features=384, out_features=256, bias=True)\n",
              "    (relu1): LeakyReLU(negative_slope=0.01)\n",
              "    (linr2): Linear(in_features=256, out_features=300, bias=True)\n",
              "    (relu2): LeakyReLU(negative_slope=0.01)\n",
              "  )\n",
              "  (fusion): Sequential(\n",
              "    (conv1): Conv2d(1, 1, kernel_size=(20, 20), stride=(2, 2))\n",
              "    (relu1): LeakyReLU(negative_slope=0.01)\n",
              "    (conv2): Conv2d(1, 1, kernel_size=(5, 50), stride=(1, 1))\n",
              "    (relu2): LeakyReLU(negative_slope=0.01)\n",
              "  )\n",
              "  (siamese): Sequential(\n",
              "    (linr1): Linear(in_features=84, out_features=200, bias=True)\n",
              "    (relu1): LeakyReLU(negative_slope=0.01)\n",
              "    (linr2): Linear(in_features=200, out_features=256, bias=True)\n",
              "    (relu2): LeakyReLU(negative_slope=0.01)\n",
              "    (linr3): Linear(in_features=256, out_features=100, bias=True)\n",
              "    (relu3): LeakyReLU(negative_slope=0.01)\n",
              "  )\n",
              "  (ffn): Sequential(\n",
              "    (linr1): Linear(in_features=300, out_features=164, bias=True)\n",
              "    (actv1): ReLU()\n",
              "    (linr2): Linear(in_features=164, out_features=1, bias=True)\n",
              "  )\n",
              ")"
            ]
          },
          "execution_count": 81,
          "metadata": {},
          "output_type": "execute_result"
        }
      ],
      "source": [
        "sm_net = SiameseNet5()\n",
        "sm_net.to(device)"
      ]
    },
    {
      "cell_type": "code",
      "execution_count": null,
      "metadata": {
        "colab": {
          "background_save": true,
          "base_uri": "https://localhost:8080/"
        },
        "id": "v9AFNUKT6Osu",
        "outputId": "3362364c-39ea-4d5d-cffd-222e5c42b05f"
      },
      "outputs": [
        {
          "name": "stderr",
          "output_type": "stream",
          "text": [
            "40it [03:10,  4.76s/it]\n"
          ]
        },
        {
          "name": "stdout",
          "output_type": "stream",
          "text": [
            "              precision    recall  f1-score   support\n",
            "\n",
            "           0       0.43      0.96      0.59       865\n",
            "           1       0.30      0.01      0.02      1135\n",
            "\n",
            "    accuracy                           0.42      2000\n",
            "   macro avg       0.37      0.49      0.31      2000\n",
            "weighted avg       0.36      0.42      0.27      2000\n",
            "\n",
            "Epoch-1: Loss = 7.931\n",
            "Train RMSE = 2.024||Train Precision = 85.714||Train Recall = 0.530\n",
            "Test RMSE = 1.539 || Test Precision = 30.435|| Test Recall = 1.233\n"
          ]
        },
        {
          "name": "stderr",
          "output_type": "stream",
          "text": [
            "40it [03:09,  4.74s/it]\n"
          ]
        },
        {
          "name": "stdout",
          "output_type": "stream",
          "text": [
            "              precision    recall  f1-score   support\n",
            "\n",
            "           0       0.42      0.90      0.57       865\n",
            "           1       0.32      0.04      0.06      1135\n",
            "\n",
            "    accuracy                           0.41      2000\n",
            "   macro avg       0.37      0.47      0.32      2000\n",
            "weighted avg       0.36      0.41      0.28      2000\n",
            "\n",
            "Epoch-2: Loss = 4.078\n",
            "Train RMSE = 1.326||Train Precision = 72.222||Train Recall = 2.355\n",
            "Test RMSE = 1.441 || Test Precision = 32.000|| Test Recall = 3.524\n"
          ]
        },
        {
          "name": "stderr",
          "output_type": "stream",
          "text": [
            "40it [03:05,  4.65s/it]\n"
          ]
        },
        {
          "name": "stdout",
          "output_type": "stream",
          "text": [
            "              precision    recall  f1-score   support\n",
            "\n",
            "           0       0.42      0.90      0.57       865\n",
            "           1       0.36      0.04      0.08      1135\n",
            "\n",
            "    accuracy                           0.41      2000\n",
            "   macro avg       0.39      0.47      0.32      2000\n",
            "weighted avg       0.38      0.41      0.29      2000\n",
            "\n",
            "Epoch-3: Loss = 3.926\n",
            "Train RMSE = 1.274||Train Precision = 64.516||Train Recall = 3.650\n",
            "Test RMSE = 1.409 || Test Precision = 35.507|| Test Recall = 4.317\n"
          ]
        },
        {
          "name": "stderr",
          "output_type": "stream",
          "text": [
            "40it [03:06,  4.65s/it]\n"
          ]
        },
        {
          "name": "stdout",
          "output_type": "stream",
          "text": [
            "              precision    recall  f1-score   support\n",
            "\n",
            "           0       0.43      0.94      0.59       865\n",
            "           1       0.43      0.03      0.06      1135\n",
            "\n",
            "    accuracy                           0.43      2000\n",
            "   macro avg       0.43      0.49      0.33      2000\n",
            "weighted avg       0.43      0.43      0.29      2000\n",
            "\n",
            "Epoch-4: Loss = 3.773\n",
            "Train RMSE = 1.243||Train Precision = 70.000||Train Recall = 4.991\n",
            "Test RMSE = 1.387 || Test Precision = 43.333|| Test Recall = 3.436\n"
          ]
        },
        {
          "name": "stderr",
          "output_type": "stream",
          "text": [
            "40it [03:05,  4.65s/it]\n"
          ]
        },
        {
          "name": "stdout",
          "output_type": "stream",
          "text": [
            "              precision    recall  f1-score   support\n",
            "\n",
            "           0       0.44      0.90      0.59       865\n",
            "           1       0.62      0.12      0.20      1135\n",
            "\n",
            "    accuracy                           0.46      2000\n",
            "   macro avg       0.53      0.51      0.39      2000\n",
            "weighted avg       0.54      0.46      0.37      2000\n",
            "\n",
            "Epoch-5: Loss = 3.564\n",
            "Train RMSE = 1.206||Train Precision = 70.609||Train Recall = 17.991\n",
            "Test RMSE = 1.331 || Test Precision = 61.644|| Test Recall = 11.894\n"
          ]
        },
        {
          "name": "stderr",
          "output_type": "stream",
          "text": [
            "40it [03:05,  4.63s/it]\n"
          ]
        },
        {
          "name": "stdout",
          "output_type": "stream",
          "text": [
            "              precision    recall  f1-score   support\n",
            "\n",
            "           0       0.45      0.90      0.60       865\n",
            "           1       0.67      0.15      0.25      1135\n",
            "\n",
            "    accuracy                           0.48      2000\n",
            "   macro avg       0.56      0.53      0.42      2000\n",
            "weighted avg       0.57      0.48      0.40      2000\n",
            "\n",
            "Epoch-6: Loss = 3.357\n",
            "Train RMSE = 1.168||Train Precision = 78.218||Train Recall = 21.409\n",
            "Test RMSE = 1.350 || Test Precision = 67.059|| Test Recall = 15.066\n"
          ]
        },
        {
          "name": "stderr",
          "output_type": "stream",
          "text": [
            "40it [03:06,  4.66s/it]\n"
          ]
        },
        {
          "name": "stdout",
          "output_type": "stream",
          "text": [
            "              precision    recall  f1-score   support\n",
            "\n",
            "           0       0.48      0.83      0.61       865\n",
            "           1       0.70      0.31      0.43      1135\n",
            "\n",
            "    accuracy                           0.53      2000\n",
            "   macro avg       0.59      0.57      0.52      2000\n",
            "weighted avg       0.61      0.53      0.51      2000\n",
            "\n",
            "Epoch-7: Loss = 3.202\n",
            "Train RMSE = 1.146||Train Precision = 73.512||Train Recall = 34.850\n",
            "Test RMSE = 1.290 || Test Precision = 70.363|| Test Recall = 30.749\n"
          ]
        },
        {
          "name": "stderr",
          "output_type": "stream",
          "text": [
            "40it [03:05,  4.63s/it]\n"
          ]
        },
        {
          "name": "stdout",
          "output_type": "stream",
          "text": [
            "              precision    recall  f1-score   support\n",
            "\n",
            "           0       0.49      0.80      0.61       865\n",
            "           1       0.71      0.38      0.49      1135\n",
            "\n",
            "    accuracy                           0.56      2000\n",
            "   macro avg       0.60      0.59      0.55      2000\n",
            "weighted avg       0.62      0.56      0.54      2000\n",
            "\n",
            "Epoch-8: Loss = 3.063\n",
            "Train RMSE = 1.124||Train Precision = 77.345||Train Recall = 47.392\n",
            "Test RMSE = 1.258 || Test Precision = 71.167|| Test Recall = 37.621\n"
          ]
        },
        {
          "name": "stderr",
          "output_type": "stream",
          "text": [
            "40it [03:07,  4.68s/it]\n"
          ]
        },
        {
          "name": "stdout",
          "output_type": "stream",
          "text": [
            "              precision    recall  f1-score   support\n",
            "\n",
            "           0       0.50      0.80      0.62       865\n",
            "           1       0.72      0.39      0.51      1135\n",
            "\n",
            "    accuracy                           0.57      2000\n",
            "   macro avg       0.61      0.60      0.56      2000\n",
            "weighted avg       0.63      0.57      0.55      2000\n",
            "\n",
            "Epoch-9: Loss = 2.949\n",
            "Train RMSE = 1.109||Train Precision = 75.809||Train Recall = 48.822\n",
            "Test RMSE = 1.245 || Test Precision = 72.222|| Test Recall = 38.943\n"
          ]
        },
        {
          "name": "stderr",
          "output_type": "stream",
          "text": [
            "40it [03:05,  4.65s/it]\n"
          ]
        },
        {
          "name": "stdout",
          "output_type": "stream",
          "text": [
            "              precision    recall  f1-score   support\n",
            "\n",
            "           0       0.48      0.87      0.62       865\n",
            "           1       0.75      0.29      0.42      1135\n",
            "\n",
            "    accuracy                           0.54      2000\n",
            "   macro avg       0.62      0.58      0.52      2000\n",
            "weighted avg       0.63      0.54      0.51      2000\n",
            "\n",
            "Epoch-10: Loss = 2.890\n",
            "Train RMSE = 1.099||Train Precision = 79.297||Train Recall = 36.809\n",
            "Test RMSE = 1.324 || Test Precision = 74.828|| Test Recall = 28.811\n"
          ]
        },
        {
          "name": "stderr",
          "output_type": "stream",
          "text": [
            "40it [03:06,  4.66s/it]\n"
          ]
        },
        {
          "name": "stdout",
          "output_type": "stream",
          "text": [
            "              precision    recall  f1-score   support\n",
            "\n",
            "           0       0.49      0.87      0.63       865\n",
            "           1       0.75      0.31      0.44      1135\n",
            "\n",
            "    accuracy                           0.55      2000\n",
            "   macro avg       0.62      0.59      0.53      2000\n",
            "weighted avg       0.64      0.55      0.52      2000\n",
            "\n",
            "Epoch-11: Loss = 2.815\n",
            "Train RMSE = 1.088||Train Precision = 79.808||Train Recall = 38.319\n",
            "Test RMSE = 1.313 || Test Precision = 75.484|| Test Recall = 30.925\n"
          ]
        },
        {
          "name": "stderr",
          "output_type": "stream",
          "text": [
            "40it [03:06,  4.67s/it]\n"
          ]
        },
        {
          "name": "stdout",
          "output_type": "stream",
          "text": [
            "              precision    recall  f1-score   support\n",
            "\n",
            "           0       0.50      0.81      0.62       865\n",
            "           1       0.73      0.38      0.50      1135\n",
            "\n",
            "    accuracy                           0.57      2000\n",
            "   macro avg       0.62      0.60      0.56      2000\n",
            "weighted avg       0.63      0.57      0.55      2000\n",
            "\n",
            "Epoch-12: Loss = 2.766\n",
            "Train RMSE = 1.081||Train Precision = 77.966||Train Recall = 50.876\n",
            "Test RMSE = 1.245 || Test Precision = 73.032|| Test Recall = 38.414\n"
          ]
        },
        {
          "name": "stderr",
          "output_type": "stream",
          "text": [
            "40it [03:04,  4.62s/it]\n"
          ]
        },
        {
          "name": "stdout",
          "output_type": "stream",
          "text": [
            "              precision    recall  f1-score   support\n",
            "\n",
            "           0       0.52      0.81      0.63       865\n",
            "           1       0.74      0.43      0.54      1135\n",
            "\n",
            "    accuracy                           0.59      2000\n",
            "   macro avg       0.63      0.62      0.59      2000\n",
            "weighted avg       0.65      0.59      0.58      2000\n",
            "\n",
            "Epoch-13: Loss = 2.710\n",
            "Train RMSE = 1.070||Train Precision = 76.613||Train Recall = 50.622\n",
            "Test RMSE = 1.235 || Test Precision = 74.426|| Test Recall = 42.819\n"
          ]
        },
        {
          "name": "stderr",
          "output_type": "stream",
          "text": [
            "40it [03:03,  4.60s/it]\n"
          ]
        },
        {
          "name": "stdout",
          "output_type": "stream",
          "text": [
            "              precision    recall  f1-score   support\n",
            "\n",
            "           0       0.50      0.83      0.62       865\n",
            "           1       0.74      0.37      0.49      1135\n",
            "\n",
            "    accuracy                           0.57      2000\n",
            "   macro avg       0.62      0.60      0.56      2000\n",
            "weighted avg       0.64      0.57      0.55      2000\n",
            "\n",
            "Epoch-14: Loss = 2.685\n",
            "Train RMSE = 1.065||Train Precision = 79.059||Train Recall = 47.235\n",
            "Test RMSE = 1.258 || Test Precision = 74.074|| Test Recall = 37.004\n"
          ]
        },
        {
          "name": "stderr",
          "output_type": "stream",
          "text": [
            "40it [03:04,  4.61s/it]\n"
          ]
        },
        {
          "name": "stdout",
          "output_type": "stream",
          "text": [
            "              precision    recall  f1-score   support\n",
            "\n",
            "           0       0.53      0.77      0.63       865\n",
            "           1       0.74      0.48      0.58      1135\n",
            "\n",
            "    accuracy                           0.61      2000\n",
            "   macro avg       0.63      0.63      0.60      2000\n",
            "weighted avg       0.65      0.61      0.60      2000\n",
            "\n",
            "Epoch-15: Loss = 2.654\n",
            "Train RMSE = 1.061||Train Precision = 78.089||Train Recall = 54.344\n",
            "Test RMSE = 1.203 || Test Precision = 73.541|| Test Recall = 47.753\n"
          ]
        },
        {
          "name": "stderr",
          "output_type": "stream",
          "text": [
            "40it [03:05,  4.65s/it]\n"
          ]
        },
        {
          "name": "stdout",
          "output_type": "stream",
          "text": [
            "              precision    recall  f1-score   support\n",
            "\n",
            "           0       0.52      0.80      0.63       865\n",
            "           1       0.74      0.45      0.56      1135\n",
            "\n",
            "    accuracy                           0.60      2000\n",
            "   macro avg       0.63      0.62      0.60      2000\n",
            "weighted avg       0.65      0.60      0.59      2000\n",
            "\n",
            "Epoch-16: Loss = 2.638\n",
            "Train RMSE = 1.058||Train Precision = 76.081||Train Recall = 52.470\n",
            "Test RMSE = 1.222 || Test Precision = 74.340|| Test Recall = 44.670\n"
          ]
        },
        {
          "name": "stderr",
          "output_type": "stream",
          "text": [
            "40it [03:05,  4.63s/it]\n"
          ]
        },
        {
          "name": "stdout",
          "output_type": "stream",
          "text": [
            "              precision    recall  f1-score   support\n",
            "\n",
            "           0       0.54      0.77      0.63       865\n",
            "           1       0.74      0.50      0.59      1135\n",
            "\n",
            "    accuracy                           0.62      2000\n",
            "   macro avg       0.64      0.63      0.61      2000\n",
            "weighted avg       0.65      0.62      0.61      2000\n",
            "\n",
            "Epoch-17: Loss = 2.652\n",
            "Train RMSE = 1.063||Train Precision = 77.384||Train Recall = 57.545\n",
            "Test RMSE = 1.189 || Test Precision = 74.113|| Test Recall = 49.692\n"
          ]
        },
        {
          "name": "stderr",
          "output_type": "stream",
          "text": [
            "40it [03:06,  4.66s/it]\n"
          ]
        },
        {
          "name": "stdout",
          "output_type": "stream",
          "text": [
            "              precision    recall  f1-score   support\n",
            "\n",
            "           0       0.52      0.80      0.63       865\n",
            "           1       0.75      0.44      0.55      1135\n",
            "\n",
            "    accuracy                           0.60      2000\n",
            "   macro avg       0.63      0.62      0.59      2000\n",
            "weighted avg       0.65      0.60      0.59      2000\n",
            "\n",
            "Epoch-18: Loss = 2.598\n",
            "Train RMSE = 1.050||Train Precision = 79.545||Train Recall = 51.613\n",
            "Test RMSE = 1.220 || Test Precision = 74.513|| Test Recall = 43.789\n"
          ]
        },
        {
          "name": "stderr",
          "output_type": "stream",
          "text": [
            "40it [03:06,  4.65s/it]\n"
          ]
        },
        {
          "name": "stdout",
          "output_type": "stream",
          "text": [
            "              precision    recall  f1-score   support\n",
            "\n",
            "           0       0.51      0.82      0.63       865\n",
            "           1       0.75      0.41      0.53      1135\n",
            "\n",
            "    accuracy                           0.59      2000\n",
            "   macro avg       0.63      0.62      0.58      2000\n",
            "weighted avg       0.65      0.59      0.58      2000\n",
            "\n",
            "Epoch-19: Loss = 2.576\n",
            "Train RMSE = 1.047||Train Precision = 81.594||Train Recall = 50.358\n",
            "Test RMSE = 1.245 || Test Precision = 74.880|| Test Recall = 41.233\n"
          ]
        },
        {
          "name": "stderr",
          "output_type": "stream",
          "text": [
            "40it [03:05,  4.65s/it]\n"
          ]
        },
        {
          "name": "stdout",
          "output_type": "stream",
          "text": [
            "              precision    recall  f1-score   support\n",
            "\n",
            "           0       0.53      0.80      0.64       865\n",
            "           1       0.75      0.46      0.57      1135\n",
            "\n",
            "    accuracy                           0.61      2000\n",
            "   macro avg       0.64      0.63      0.61      2000\n",
            "weighted avg       0.66      0.61      0.60      2000\n",
            "\n",
            "Epoch-20: Loss = 2.566\n",
            "Train RMSE = 1.046||Train Precision = 80.662||Train Recall = 55.517\n",
            "Test RMSE = 1.208 || Test Precision = 75.358|| Test Recall = 46.344\n"
          ]
        }
      ],
      "source": [
        "train_loss, test_loss, train_f1, test_f1 = sm_net.fit()"
      ]
    },
    {
      "cell_type": "code",
      "execution_count": null,
      "metadata": {
        "colab": {
          "background_save": true,
          "base_uri": "https://localhost:8080/",
          "height": 516
        },
        "id": "c27pv8Wv6dvP",
        "outputId": "37869898-ed1e-47cf-e4ba-8553831dbcdc"
      },
      "outputs": [
        {
          "name": "stderr",
          "output_type": "stream",
          "text": [
            "<ipython-input-61-abf663b56279>:7: UserWarning: You have mixed positional and keyword arguments, some input may be discarded.\n",
            "  fig.legend([ax, ax2], labels = [\"Train Loss\", \"Test Loss\"], loc = \"upper right\")\n"
          ]
        },
        {
          "data": {
            "image/png": "[encoded data removed]",
            "text/plain": [
              "<Figure size 640x480 with 2 Axes>"
            ]
          },
          "metadata": {},
          "output_type": "display_data"
        }
      ],
      "source": [
        "import matplotlib.pyplot as plt\n",
        "\n",
        "fig, ax = plt.subplots()\n",
        "ax2 = ax.twinx()\n",
        "ax.plot(train_loss[20:], label = \"Train Loss\", color = \"orange\")\n",
        "ax2.plot(test_loss[20:], label = \"Test Loss\")\n",
        "fig.legend([ax, ax2], labels = [\"Train Loss\", \"Test Loss\"], loc = \"upper right\")\n",
        "plt.show()"
      ]
    },
    {
      "cell_type": "code",
      "execution_count": null,
      "metadata": {
        "colab": {
          "background_save": true,
          "base_uri": "https://localhost:8080/",
          "height": 1000
        },
        "id": "5Ekw6ysR6geS",
        "outputId": "be5837ed-c97c-4f04-e06f-c5c2aefada85"
      },
      "outputs": [
        {
          "name": "stdout",
          "output_type": "stream",
          "text": [
            "              precision    recall  f1-score   support\n",
            "\n",
            "           0       0.62      0.63      0.62       865\n",
            "           1       0.71      0.70      0.71      1135\n",
            "\n",
            "    accuracy                           0.67      2000\n",
            "   macro avg       0.67      0.67      0.67      2000\n",
            "weighted avg       0.67      0.67      0.67      2000\n",
            "\n",
            "              precision    recall  f1-score   support\n",
            "\n",
            "           0       0.60      0.66      0.63       865\n",
            "           1       0.72      0.66      0.69      1135\n",
            "\n",
            "    accuracy                           0.66      2000\n",
            "   macro avg       0.66      0.66      0.66      2000\n",
            "weighted avg       0.67      0.66      0.66      2000\n",
            "\n",
            "              precision    recall  f1-score   support\n",
            "\n",
            "           0       0.58      0.70      0.63       865\n",
            "           1       0.73      0.61      0.67      1135\n",
            "\n",
            "    accuracy                           0.65      2000\n",
            "   macro avg       0.65      0.66      0.65      2000\n",
            "weighted avg       0.66      0.65      0.65      2000\n",
            "\n",
            "              precision    recall  f1-score   support\n",
            "\n",
            "           0       0.57      0.74      0.64       865\n",
            "           1       0.74      0.57      0.64      1135\n",
            "\n",
            "    accuracy                           0.64      2000\n",
            "   macro avg       0.66      0.66      0.64      2000\n",
            "weighted avg       0.67      0.64      0.64      2000\n",
            "\n",
            "              precision    recall  f1-score   support\n",
            "\n",
            "           0       0.55      0.77      0.64       865\n",
            "           1       0.75      0.52      0.61      1135\n",
            "\n",
            "    accuracy                           0.63      2000\n",
            "   macro avg       0.65      0.65      0.63      2000\n",
            "weighted avg       0.66      0.63      0.63      2000\n",
            "\n",
            "              precision    recall  f1-score   support\n",
            "\n",
            "           0       0.53      0.80      0.64       865\n",
            "           1       0.75      0.46      0.57      1135\n",
            "\n",
            "    accuracy                           0.61      2000\n",
            "   macro avg       0.64      0.63      0.61      2000\n",
            "weighted avg       0.66      0.61      0.60      2000\n",
            "\n",
            "              precision    recall  f1-score   support\n",
            "\n",
            "           0       0.51      0.83      0.63       865\n",
            "           1       0.75      0.40      0.52      1135\n",
            "\n",
            "    accuracy                           0.58      2000\n",
            "   macro avg       0.63      0.61      0.58      2000\n",
            "weighted avg       0.65      0.58      0.57      2000\n",
            "\n",
            "              precision    recall  f1-score   support\n",
            "\n",
            "           0       0.49      0.85      0.62       865\n",
            "           1       0.74      0.33      0.46      1135\n",
            "\n",
            "    accuracy                           0.56      2000\n",
            "   macro avg       0.62      0.59      0.54      2000\n",
            "weighted avg       0.63      0.56      0.53      2000\n",
            "\n",
            "              precision    recall  f1-score   support\n",
            "\n",
            "           0       0.49      0.88      0.63       865\n",
            "           1       0.76      0.29      0.42      1135\n",
            "\n",
            "    accuracy                           0.55      2000\n",
            "   macro avg       0.62      0.59      0.53      2000\n",
            "weighted avg       0.64      0.55      0.51      2000\n",
            "\n",
            "              precision    recall  f1-score   support\n",
            "\n",
            "           0       0.48      0.90      0.63       865\n",
            "           1       0.77      0.26      0.39      1135\n",
            "\n",
            "    accuracy                           0.54      2000\n",
            "   macro avg       0.63      0.58      0.51      2000\n",
            "weighted avg       0.64      0.54      0.49      2000\n",
            "\n"
          ]
        },
        {
          "data": {
            "image/png": "[encoded data removed]",
            "text/plain": [
              "<Figure size 640x480 with 1 Axes>"
            ]
          },
          "metadata": {},
          "output_type": "display_data"
        }
      ],
      "source": [
        "prs = []\n",
        "rec = []\n",
        "f1 = []\n",
        "loss = []\n",
        "\n",
        "for i in np.arange(3, 4, 0.1):\n",
        "    l, p, r, f, _, _, _ = sm_net.evaluate(i)\n",
        "    prs.append(p)\n",
        "    rec.append(r)\n",
        "    f1.append(f)\n",
        "    loss.append(l)\n",
        "\n",
        "plt.plot(prs, label = \"Test Precision\")\n",
        "plt.plot(rec, label = \"Test Recall\")\n",
        "plt.plot(f1, label = \"Test F1\")\n",
        "\n",
        "plt.legend()\n",
        "plt.show()"
      ]
    },
    {
      "cell_type": "markdown",
      "metadata": {
        "id": "KRK34Cj46yea"
      },
      "source": [
        "# **(Video + Audio)**"
      ]
    },
    {
      "cell_type": "code",
      "execution_count": null,
      "metadata": {
        "colab": {
          "background_save": true
        },
        "id": "QLa9geke6y3t"
      },
      "outputs": [],
      "source": [
        "class SiameseNet6(nn.Module):\n",
        "    def __init__(self, device = device, channel = 84):\n",
        "        super(SiameseNet6, self).__init__()\n",
        "        self.encoder_user = nn.Sequential(OrderedDict([\n",
        "            ('linr1', nn.Linear(train_dataset.user_embedding_size, 1024)),\n",
        "            ('relu1', nn.LeakyReLU()),\n",
        "            ('linr2', nn.Linear(1024, channel)),\n",
        "            ('relu2', nn.LeakyReLU()),\n",
        "        ]))\n",
        "\n",
        "        self.encoder_item = nn.Sequential(OrderedDict([\n",
        "            ('linr1', nn.Linear(train_dataset.item_embedding_size, 256)),\n",
        "            ('relu1', nn.LeakyReLU()),\n",
        "            ('linr2', nn.Linear(256, 300)),\n",
        "            ('relu2', nn.LeakyReLU()),\n",
        "        ]))\n",
        "\n",
        "        self.encoder_video = nn.Sequential(OrderedDict([\n",
        "            ('linr1', nn.Linear(train_dataset.video_embedding_size, 1600)),\n",
        "            ('relu1', nn.LeakyReLU()),\n",
        "            ('linr2', nn.Linear(1600, 300)),\n",
        "            ('relu2', nn.LeakyReLU()),\n",
        "#             ('linr3', nn.Linear(1000, 500)),\n",
        "#             ('relu3', nn.LeakyReLU()),\n",
        "# #             ('norm2', nn.BatchNorm1d(500)),\n",
        "#             ('linr4', nn.Linear(500, 300)),\n",
        "#             ('relu4', nn.LeakyReLU()),\n",
        "        ]))\n",
        "\n",
        "        self.encoder_audio = nn.Sequential(OrderedDict([\n",
        "            ('linr1', nn.Linear(train_dataset.audio_embedding_size, 600)),\n",
        "            ('relu1', nn.LeakyReLU()),\n",
        "            ('linr4', nn.Linear(600, 300)),\n",
        "            ('relu4', nn.LeakyReLU()),\n",
        "        ]))\n",
        "\n",
        "        #self.encoder_text = nn.Sequential(OrderedDict([\n",
        "        #    ('linr1', nn.Linear(train_dataset.text_embedding_size, 256)),\n",
        "        #    ('relu1', nn.LeakyReLU()),\n",
        "        #    ('linr2', nn.Linear(256, 300)),\n",
        "        #    ('relu2', nn.LeakyReLU()),\n",
        "        #]))\n",
        "\n",
        "        #self.encoder_meta = nn.Sequential(OrderedDict([\n",
        "        #    ('linr1', nn.Linear(train_dataset.meta_embedding_size, 1600)),\n",
        "        #    ('relu1', nn.LeakyReLU()),\n",
        "#             ('norm1', nn.BatchNorm1d(1600)),\n",
        "        #    ('linr2', nn.Linear(1600, 300)),\n",
        "        #    ('relu2', nn.LeakyReLU()),\n",
        "#             ('linr3', nn.Linear(1000, 500)),\n",
        "#             ('relu3', nn.LeakyReLU()),\n",
        "#             ('linr4', nn.Linear(500, 300)),\n",
        "#             ('relu4', nn.LeakyReLU()),\n",
        "        #]))\n",
        "\n",
        "        self.fusion = nn.Sequential(OrderedDict([\n",
        "            ('conv1', nn.Conv2d(1, 1, (20, 20), stride=(2, 2))),\n",
        "            ('relu1', nn.LeakyReLU()),\n",
        "            ('conv2', nn.Conv2d(1, 1, (5, 50), stride=(1, 1))),\n",
        "            ('relu2', nn.LeakyReLU()),\n",
        "        ]))\n",
        "\n",
        "        self.siamese = nn.Sequential(OrderedDict([\n",
        "            ('linr1', nn.Linear(channel, 200)),\n",
        "            ('relu1', nn.LeakyReLU()),\n",
        "            ('linr2', nn.Linear(200, 256)),\n",
        "            ('relu2', nn.LeakyReLU()),\n",
        "            ('linr3', nn.Linear(256, 100)),\n",
        "            ('relu3', nn.LeakyReLU()),\n",
        "        ]))\n",
        "\n",
        "        self.ffn = nn.Sequential(OrderedDict([\n",
        "            ('linr1', nn.Linear(300, 164)),\n",
        "            ('actv1', nn.ReLU()),\n",
        "            ('linr2', nn.Linear(164, 1)),\n",
        "#             ('actv2', nn.ReLU()),\n",
        "#             ('linr3', nn.Linear(50, 1)),\n",
        "        ]))\n",
        "\n",
        "        self.device = device\n",
        "        self.encoder_user.apply(self.init_weights)\n",
        "        self.encoder_item.apply(self.init_weights)\n",
        "        self.encoder_video.apply(self.init_weights)\n",
        "        self.encoder_audio.apply(self.init_weights)\n",
        "        #self.encoder_text.apply(self.init_weights)\n",
        "        #self.encoder_meta.apply(self.init_weights)\n",
        "        self.siamese.apply(self.init_weights)\n",
        "        self.ffn.apply(self.init_weights)\n",
        "\n",
        "    def init_weights(self, m):\n",
        "        if isinstance(m, nn.Linear):\n",
        "            nn.init.kaiming_normal_(m.weight)\n",
        "            m.bias.data.fill_(0.01)\n",
        "\n",
        "    def exp(self, q, k, v):\n",
        "        z = torch.bmm(q, k.permute(0, 2, 1))\n",
        "        z = F.normalize(z, p = 10, dim = 1)\n",
        "        z = torch.softmax(z, 1)\n",
        "        z = torch.bmm(z, v)\n",
        "        return(z)\n",
        "\n",
        "    def forward(self, x1, x2):\n",
        "        # Modality-encoders\n",
        "        outu = self.encoder_user(x1)\n",
        "        outr = self.encoder_item(x2[3])\n",
        "        outv = torch.split(self.encoder_video(x2[0]), [100, 100, 100], 1)\n",
        "        outa = torch.split(self.encoder_audio(x2[1]), [100, 100, 100], 1)\n",
        "        #outt = torch.split(self.encoder_text(x2[2]), 100, 1)\n",
        "        #outm = torch.split(self.encoder_meta(x2[4]), [100, 100, 100], 1)\n",
        "\n",
        "        # Attention\n",
        "        #q_t = outt[0].unsqueeze(1).repeat(1, ROW, 1)\n",
        "        #k_t = outt[1].unsqueeze(1).repeat(1, ROW, 1)\n",
        "        #v_t = outt[2].unsqueeze(1).repeat(1, ROW, 1)\n",
        "\n",
        "        q_a = outa[0].unsqueeze(1).repeat(1, ROW, 1)\n",
        "        k_a = outa[1].unsqueeze(1).repeat(1, ROW, 1)\n",
        "        v_a = outa[2].unsqueeze(1).repeat(1, ROW, 1)\n",
        "\n",
        "        q_v = outv[0].unsqueeze(1).repeat(1, ROW, 1)\n",
        "        k_v = outv[1].unsqueeze(1).repeat(1, ROW, 1)\n",
        "        v_v = outv[2].unsqueeze(1).repeat(1, ROW, 1)\n",
        "\n",
        "        #q_m = outm[0].unsqueeze(1).repeat(1, ROW, 1)\n",
        "        #k_m = outm[1].unsqueeze(1).repeat(1, ROW, 1)\n",
        "        #v_m = outm[2].unsqueeze(1).repeat(1, ROW, 1)\n",
        "\n",
        "        # Self-Attention\n",
        "        #st = self.exp(q_t, k_t, v_t)\n",
        "        #sm = self.exp(q_m, k_m, v_m)\n",
        "        sa = self.exp(q_a, k_a, v_a)\n",
        "        sv = self.exp(q_v, k_v, v_v)\n",
        "\n",
        "        # Inter-Modal Attention\n",
        "        ita = self.exp(q_a, k_v, v_a)\n",
        "        imv = self.exp(q_v, k_a, v_v)\n",
        "        #itm = self.exp(q_m, k_t, v_m)\n",
        "\n",
        "        # Forward\n",
        "        ma = torch.mean(torch.stack([sa, ita]), 0)\n",
        "        mv = torch.mean(torch.stack([sv, imv]), 0)\n",
        "        sda = ita\n",
        "        se = torch.mul(ma, mv)\n",
        "        outi = torch.cat((sda, se), axis = 2)#.reshape(-1, ROW * 1200)\n",
        "        outi = self.fusion(outi.unsqueeze(1))\n",
        "        out1 = self.siamese(outu)\n",
        "        out2 = self.siamese(outi.reshape(BATCH, -1))\n",
        "        diff = torch.cat((out1, out2, outv[2]), axis=1)\n",
        "        out = self.ffn(diff)\n",
        "        return(out, out1, out2)\n",
        "\n",
        "    def fit(self, trainloader = trainloader,\n",
        "            testloader = testloader, epochs = 1):\n",
        "        self.criterion_rate = weighted_mse_loss\n",
        "        self.criterion_embd = nn.CosineEmbeddingLoss()\n",
        "        self.optimizer = optim.Adam(self.parameters(), lr = 1e-4)\n",
        "\n",
        "        train_loss = []\n",
        "        train_f1 = []\n",
        "        test_loss = []\n",
        "        test_f1 = []\n",
        "        for epoch in range(epochs):\n",
        "            running_loss = 0.0\n",
        "            running_loss_1 = 0.0\n",
        "\n",
        "            for i, data in tqdm(enumerate(trainloader)):\n",
        "                self.train()\n",
        "                x1, x2, y = data\n",
        "                y_flt = y.type(torch.FloatTensor).to(device)\n",
        "                y_lng = torch.div(y, 4, rounding_mode=\"floor\").to(device)\n",
        "                self.optimizer.zero_grad()\n",
        "                reg, outu, outi = self.forward(x1, x2)\n",
        "                loss_1, loss_ = self.criterion_rate(reg.squeeze(), y_flt)\n",
        "                loss_2 = self.criterion_embd(outu, outi, y_lng * 2 - 1)\n",
        "                loss = loss_1 + loss_2\n",
        "                loss.backward()\n",
        "                self.optimizer.step()\n",
        "\n",
        "                running_loss_1 += torch.sqrt(loss_)\n",
        "                running_loss += loss\n",
        "            vl, vp, vr, vf, tp, tr, tf = self.evaluate()\n",
        "            print('Epoch-%d: Loss = %.3f\\nTrain RMSE = %.3f||Train Precision = %.3f||Train Recall = %.3f\\nTest RMSE = %.3f || Test Precision = %.3f|| Test Recall = %.3f'%\n",
        "                  (epoch + 1, running_loss / i, running_loss_1 / i,\n",
        "                   tp, tr, vl, vp, vr))\n",
        "            train_loss.append((running_loss_1 / i).cpu().detach().numpy())\n",
        "            test_loss.append(vl.cpu().detach().numpy())\n",
        "            train_f1.append(tf)\n",
        "            test_f1.append(vf)\n",
        "        return(train_loss, test_loss, train_f1, test_f1)\n",
        "\n",
        "    def evaluate(self, k = 3.5):\n",
        "        self.eval()\n",
        "        with torch.no_grad():\n",
        "            valdata = next(iter(testloader))\n",
        "            x1, x2, y = valdata\n",
        "            y_flt = y.type(torch.FloatTensor).to(device)\n",
        "            y_lng = torch.div(y, 4, rounding_mode=\"floor\").to(device)\n",
        "            otpt = self.forward(x1, x2)\n",
        "            pred = (otpt[0] > k).float()\n",
        "            vl = torch.sqrt(self.criterion_rate(otpt[0].squeeze(), y_flt)[1])\n",
        "            vp = precision_score(y_lng.cpu(), pred.cpu(), zero_division = 0)\n",
        "            vr = recall_score(y_lng.cpu(), pred.cpu(), zero_division = 0)\n",
        "            vf = f1_score(y_lng.cpu(), pred.cpu(), zero_division = 0)\n",
        "            print(classification_report(y_lng.cpu(), pred.cpu(),\n",
        "                    target_names = [\"0\", \"1\"], zero_division = 0))\n",
        "\n",
        "            traindata = next(iter(trainloader))\n",
        "            x1, x2, y = traindata\n",
        "            y_flt = y.type(torch.FloatTensor).to(device)\n",
        "            y_lng = torch.div(y, 4, rounding_mode=\"floor\").to(device)\n",
        "            otpt = self.forward(x1, x2)\n",
        "            pred = (otpt[0] > k).float()\n",
        "            tp = precision_score(y_lng.cpu(), pred.cpu(), zero_division = 0)\n",
        "            tr = recall_score(y_lng.cpu(), pred.cpu(), zero_division = 0)\n",
        "            tf = f1_score(y_lng.cpu(), pred.cpu(), zero_division = 0)\n",
        "        return(vl, vp*100, vr*100, vf*100, tp*100, tr*100, tf*100)"
      ]
    },
    {
      "cell_type": "code",
      "execution_count": null,
      "metadata": {
        "colab": {
          "background_save": true,
          "base_uri": "https://localhost:8080/"
        },
        "id": "NiKi9eiR7ZG8",
        "outputId": "576847b7-fcd7-4460-fc99-e5390373da1e"
      },
      "outputs": [
        {
          "data": {
            "text/plain": [
              "SiameseNet5(\n",
              "  (encoder_user): Sequential(\n",
              "    (linr1): Linear(in_features=1220, out_features=1024, bias=True)\n",
              "    (relu1): LeakyReLU(negative_slope=0.01)\n",
              "    (linr2): Linear(in_features=1024, out_features=84, bias=True)\n",
              "    (relu2): LeakyReLU(negative_slope=0.01)\n",
              "  )\n",
              "  (encoder_item): Sequential(\n",
              "    (linr1): Linear(in_features=943, out_features=256, bias=True)\n",
              "    (relu1): LeakyReLU(negative_slope=0.01)\n",
              "    (linr2): Linear(in_features=256, out_features=300, bias=True)\n",
              "    (relu2): LeakyReLU(negative_slope=0.01)\n",
              "  )\n",
              "  (encoder_video): Sequential(\n",
              "    (linr1): Linear(in_features=1024, out_features=1600, bias=True)\n",
              "    (relu1): LeakyReLU(negative_slope=0.01)\n",
              "    (linr2): Linear(in_features=1600, out_features=300, bias=True)\n",
              "    (relu2): LeakyReLU(negative_slope=0.01)\n",
              "  )\n",
              "  (encoder_text): Sequential(\n",
              "    (linr1): Linear(in_features=384, out_features=256, bias=True)\n",
              "    (relu1): LeakyReLU(negative_slope=0.01)\n",
              "    (linr2): Linear(in_features=256, out_features=300, bias=True)\n",
              "    (relu2): LeakyReLU(negative_slope=0.01)\n",
              "  )\n",
              "  (fusion): Sequential(\n",
              "    (conv1): Conv2d(1, 1, kernel_size=(20, 20), stride=(2, 2))\n",
              "    (relu1): LeakyReLU(negative_slope=0.01)\n",
              "    (conv2): Conv2d(1, 1, kernel_size=(5, 50), stride=(1, 1))\n",
              "    (relu2): LeakyReLU(negative_slope=0.01)\n",
              "  )\n",
              "  (siamese): Sequential(\n",
              "    (linr1): Linear(in_features=84, out_features=200, bias=True)\n",
              "    (relu1): LeakyReLU(negative_slope=0.01)\n",
              "    (linr2): Linear(in_features=200, out_features=256, bias=True)\n",
              "    (relu2): LeakyReLU(negative_slope=0.01)\n",
              "    (linr3): Linear(in_features=256, out_features=100, bias=True)\n",
              "    (relu3): LeakyReLU(negative_slope=0.01)\n",
              "  )\n",
              "  (ffn): Sequential(\n",
              "    (linr1): Linear(in_features=300, out_features=164, bias=True)\n",
              "    (actv1): ReLU()\n",
              "    (linr2): Linear(in_features=164, out_features=1, bias=True)\n",
              "  )\n",
              ")"
            ]
          },
          "execution_count": 64,
          "metadata": {},
          "output_type": "execute_result"
        }
      ],
      "source": [
        "sm_net = SiameseNet5()\n",
        "sm_net.to(device)"
      ]
    },
    {
      "cell_type": "code",
      "execution_count": null,
      "metadata": {
        "colab": {
          "background_save": true,
          "base_uri": "https://localhost:8080/"
        },
        "id": "WA5SDco79QIY",
        "outputId": "7b9a26c0-3cfc-406d-8a78-71613795e2b2"
      },
      "outputs": [
        {
          "name": "stderr",
          "output_type": "stream",
          "text": [
            "40it [03:06,  4.66s/it]\n"
          ]
        },
        {
          "name": "stdout",
          "output_type": "stream",
          "text": [
            "              precision    recall  f1-score   support\n",
            "\n",
            "           0       0.43      0.99      0.60       865\n",
            "           1       0.42      0.00      0.01      1135\n",
            "\n",
            "    accuracy                           0.43      2000\n",
            "   macro avg       0.42      0.50      0.31      2000\n",
            "weighted avg       0.42      0.43      0.27      2000\n",
            "\n",
            "Epoch-1: Loss = 7.363\n",
            "Train RMSE = 1.932||Train Precision = 66.667||Train Recall = 0.553\n",
            "Test RMSE = 1.560 || Test Precision = 41.667|| Test Recall = 0.441\n"
          ]
        },
        {
          "name": "stderr",
          "output_type": "stream",
          "text": [
            "40it [03:04,  4.60s/it]\n"
          ]
        },
        {
          "name": "stdout",
          "output_type": "stream",
          "text": [
            "              precision    recall  f1-score   support\n",
            "\n",
            "           0       0.43      0.95      0.59       865\n",
            "           1       0.35      0.02      0.04      1135\n",
            "\n",
            "    accuracy                           0.42      2000\n",
            "   macro avg       0.39      0.49      0.31      2000\n",
            "weighted avg       0.38      0.42      0.27      2000\n",
            "\n",
            "Epoch-2: Loss = 4.053\n",
            "Train RMSE = 1.301||Train Precision = 60.526||Train Recall = 2.100\n",
            "Test RMSE = 1.399 || Test Precision = 35.000|| Test Recall = 1.850\n"
          ]
        },
        {
          "name": "stderr",
          "output_type": "stream",
          "text": [
            "40it [03:04,  4.62s/it]\n"
          ]
        },
        {
          "name": "stdout",
          "output_type": "stream",
          "text": [
            "              precision    recall  f1-score   support\n",
            "\n",
            "           0       0.43      0.96      0.59       865\n",
            "           1       0.36      0.02      0.04      1135\n",
            "\n",
            "    accuracy                           0.42      2000\n",
            "   macro avg       0.39      0.49      0.31      2000\n",
            "weighted avg       0.39      0.42      0.28      2000\n",
            "\n",
            "Epoch-3: Loss = 3.895\n",
            "Train RMSE = 1.262||Train Precision = 67.500||Train Recall = 2.495\n",
            "Test RMSE = 1.380 || Test Precision = 36.207|| Test Recall = 1.850\n"
          ]
        },
        {
          "name": "stderr",
          "output_type": "stream",
          "text": [
            "40it [03:05,  4.64s/it]\n"
          ]
        },
        {
          "name": "stdout",
          "output_type": "stream",
          "text": [
            "              precision    recall  f1-score   support\n",
            "\n",
            "           0       0.43      0.98      0.60       865\n",
            "           1       0.45      0.01      0.03      1135\n",
            "\n",
            "    accuracy                           0.43      2000\n",
            "   macro avg       0.44      0.50      0.31      2000\n",
            "weighted avg       0.44      0.43      0.27      2000\n",
            "\n",
            "Epoch-4: Loss = 3.728\n",
            "Train RMSE = 1.227||Train Precision = 76.271||Train Recall = 4.194\n",
            "Test RMSE = 1.377 || Test Precision = 44.737|| Test Recall = 1.498\n"
          ]
        },
        {
          "name": "stderr",
          "output_type": "stream",
          "text": [
            "40it [03:05,  4.65s/it]\n"
          ]
        },
        {
          "name": "stdout",
          "output_type": "stream",
          "text": [
            "              precision    recall  f1-score   support\n",
            "\n",
            "           0       0.44      0.95      0.60       865\n",
            "           1       0.65      0.07      0.13      1135\n",
            "\n",
            "    accuracy                           0.45      2000\n",
            "   macro avg       0.55      0.51      0.37      2000\n",
            "weighted avg       0.56      0.45      0.33      2000\n",
            "\n",
            "Epoch-5: Loss = 3.542\n",
            "Train RMSE = 1.196||Train Precision = 74.854||Train Recall = 11.951\n",
            "Test RMSE = 1.360 || Test Precision = 65.354|| Test Recall = 7.313\n"
          ]
        },
        {
          "name": "stderr",
          "output_type": "stream",
          "text": [
            "40it [03:05,  4.63s/it]\n"
          ]
        },
        {
          "name": "stdout",
          "output_type": "stream",
          "text": [
            "              precision    recall  f1-score   support\n",
            "\n",
            "           0       0.46      0.83      0.59       865\n",
            "           1       0.67      0.26      0.37      1135\n",
            "\n",
            "    accuracy                           0.51      2000\n",
            "   macro avg       0.56      0.54      0.48      2000\n",
            "weighted avg       0.58      0.51      0.47      2000\n",
            "\n",
            "Epoch-6: Loss = 3.369\n",
            "Train RMSE = 1.170||Train Precision = 76.798||Train Recall = 30.906\n",
            "Test RMSE = 1.293 || Test Precision = 66.591|| Test Recall = 25.815\n"
          ]
        },
        {
          "name": "stderr",
          "output_type": "stream",
          "text": [
            "40it [03:04,  4.61s/it]\n"
          ]
        },
        {
          "name": "stdout",
          "output_type": "stream",
          "text": [
            "              precision    recall  f1-score   support\n",
            "\n",
            "           0       0.47      0.81      0.59       865\n",
            "           1       0.67      0.29      0.41      1135\n",
            "\n",
            "    accuracy                           0.52      2000\n",
            "   macro avg       0.57      0.55      0.50      2000\n",
            "weighted avg       0.58      0.52      0.49      2000\n",
            "\n",
            "Epoch-7: Loss = 3.236\n",
            "Train RMSE = 1.150||Train Precision = 74.692||Train Recall = 38.254\n",
            "Test RMSE = 1.284 || Test Precision = 67.002|| Test Recall = 29.339\n"
          ]
        },
        {
          "name": "stderr",
          "output_type": "stream",
          "text": [
            "40it [03:04,  4.61s/it]\n"
          ]
        },
        {
          "name": "stdout",
          "output_type": "stream",
          "text": [
            "              precision    recall  f1-score   support\n",
            "\n",
            "           0       0.48      0.77      0.59       865\n",
            "           1       0.67      0.37      0.48      1135\n",
            "\n",
            "    accuracy                           0.54      2000\n",
            "   macro avg       0.58      0.57      0.53      2000\n",
            "weighted avg       0.59      0.54      0.53      2000\n",
            "\n",
            "Epoch-8: Loss = 3.149\n",
            "Train RMSE = 1.137||Train Precision = 74.722||Train Recall = 48.208\n",
            "Test RMSE = 1.252 || Test Precision = 67.363|| Test Recall = 36.916\n"
          ]
        },
        {
          "name": "stderr",
          "output_type": "stream",
          "text": [
            "40it [03:06,  4.66s/it]\n"
          ]
        },
        {
          "name": "stdout",
          "output_type": "stream",
          "text": [
            "              precision    recall  f1-score   support\n",
            "\n",
            "           0       0.47      0.85      0.61       865\n",
            "           1       0.71      0.28      0.40      1135\n",
            "\n",
            "    accuracy                           0.53      2000\n",
            "   macro avg       0.59      0.56      0.50      2000\n",
            "weighted avg       0.61      0.53      0.49      2000\n",
            "\n",
            "Epoch-9: Loss = 3.074\n",
            "Train RMSE = 1.125||Train Precision = 78.216||Train Recall = 34.875\n",
            "Test RMSE = 1.287 || Test Precision = 70.575|| Test Recall = 28.106\n"
          ]
        },
        {
          "name": "stderr",
          "output_type": "stream",
          "text": [
            "23it [01:46,  4.62s/it]"
          ]
        }
      ],
      "source": [
        "train_loss, test_loss, train_f1, test_f1 = sm_net.fit()"
      ]
    },
    {
      "cell_type": "code",
      "execution_count": null,
      "metadata": {
        "colab": {
          "background_save": true
        },
        "id": "sRPdWFgG9UjB",
        "outputId": "24a80d09-8847-4445-c4a5-693d781292ad"
      },
      "outputs": [
        {
          "name": "stderr",
          "output_type": "stream",
          "text": [
            "<ipython-input-88-abf663b56279>:7: UserWarning: You have mixed positional and keyword arguments, some input may be discarded.\n",
            "  fig.legend([ax, ax2], labels = [\"Train Loss\", \"Test Loss\"], loc = \"upper right\")\n"
          ]
        },
        {
          "data": {
            "image/png": "[encoded data removed]",
            "text/plain": [
              "<Figure size 640x480 with 2 Axes>"
            ]
          },
          "metadata": {},
          "output_type": "display_data"
        }
      ],
      "source": [
        "import matplotlib.pyplot as plt\n",
        "\n",
        "fig, ax = plt.subplots()\n",
        "ax2 = ax.twinx()\n",
        "ax.plot(train_loss[20:], label = \"Train Loss\", color = \"orange\")\n",
        "ax2.plot(test_loss[20:], label = \"Test Loss\")\n",
        "fig.legend([ax, ax2], labels = [\"Train Loss\", \"Test Loss\"], loc = \"upper right\")\n",
        "plt.show()"
      ]
    },
    {
      "cell_type": "code",
      "execution_count": null,
      "metadata": {
        "colab": {
          "background_save": true
        },
        "id": "CaXyIhDD9XJ3",
        "outputId": "5ce7b56d-14c1-4136-831d-8a32c0fd6567"
      },
      "outputs": [
        {
          "name": "stdout",
          "output_type": "stream",
          "text": [
            "              precision    recall  f1-score   support\n",
            "\n",
            "           0       0.64      0.55      0.59       865\n",
            "           1       0.69      0.76      0.73      1135\n",
            "\n",
            "    accuracy                           0.67      2000\n",
            "   macro avg       0.67      0.66      0.66      2000\n",
            "weighted avg       0.67      0.67      0.67      2000\n",
            "\n",
            "              precision    recall  f1-score   support\n",
            "\n",
            "           0       0.62      0.61      0.62       865\n",
            "           1       0.71      0.72      0.71      1135\n",
            "\n",
            "    accuracy                           0.67      2000\n",
            "   macro avg       0.67      0.66      0.67      2000\n",
            "weighted avg       0.67      0.67      0.67      2000\n",
            "\n",
            "              precision    recall  f1-score   support\n",
            "\n",
            "           0       0.60      0.65      0.62       865\n",
            "           1       0.71      0.67      0.69      1135\n",
            "\n",
            "    accuracy                           0.66      2000\n",
            "   macro avg       0.66      0.66      0.66      2000\n",
            "weighted avg       0.66      0.66      0.66      2000\n",
            "\n",
            "              precision    recall  f1-score   support\n",
            "\n",
            "           0       0.58      0.68      0.63       865\n",
            "           1       0.72      0.62      0.66      1135\n",
            "\n",
            "    accuracy                           0.65      2000\n",
            "   macro avg       0.65      0.65      0.64      2000\n",
            "weighted avg       0.66      0.65      0.65      2000\n",
            "\n",
            "              precision    recall  f1-score   support\n",
            "\n",
            "           0       0.55      0.72      0.63       865\n",
            "           1       0.73      0.55      0.63      1135\n",
            "\n",
            "    accuracy                           0.63      2000\n",
            "   macro avg       0.64      0.64      0.63      2000\n",
            "weighted avg       0.65      0.63      0.63      2000\n",
            "\n",
            "              precision    recall  f1-score   support\n",
            "\n",
            "           0       0.53      0.77      0.63       865\n",
            "           1       0.73      0.48      0.58      1135\n",
            "\n",
            "    accuracy                           0.61      2000\n",
            "   macro avg       0.63      0.63      0.60      2000\n",
            "weighted avg       0.65      0.61      0.60      2000\n",
            "\n",
            "              precision    recall  f1-score   support\n",
            "\n",
            "           0       0.51      0.82      0.63       865\n",
            "           1       0.74      0.40      0.52      1135\n",
            "\n",
            "    accuracy                           0.58      2000\n",
            "   macro avg       0.63      0.61      0.57      2000\n",
            "weighted avg       0.64      0.58      0.57      2000\n",
            "\n",
            "              precision    recall  f1-score   support\n",
            "\n",
            "           0       0.49      0.86      0.63       865\n",
            "           1       0.75      0.33      0.46      1135\n",
            "\n",
            "    accuracy                           0.56      2000\n",
            "   macro avg       0.62      0.59      0.54      2000\n",
            "weighted avg       0.64      0.56      0.53      2000\n",
            "\n",
            "              precision    recall  f1-score   support\n",
            "\n",
            "           0       0.48      0.89      0.62       865\n",
            "           1       0.76      0.26      0.39      1135\n",
            "\n",
            "    accuracy                           0.54      2000\n",
            "   macro avg       0.62      0.58      0.51      2000\n",
            "weighted avg       0.64      0.54      0.49      2000\n",
            "\n",
            "              precision    recall  f1-score   support\n",
            "\n",
            "           0       0.47      0.91      0.62       865\n",
            "           1       0.76      0.21      0.32      1135\n",
            "\n",
            "    accuracy                           0.51      2000\n",
            "   macro avg       0.61      0.56      0.47      2000\n",
            "weighted avg       0.63      0.51      0.45      2000\n",
            "\n"
          ]
        },
        {
          "data": {
            "image/png": "[encoded data removed]",
            "text/plain": [
              "<Figure size 640x480 with 1 Axes>"
            ]
          },
          "metadata": {},
          "output_type": "display_data"
        }
      ],
      "source": [
        "prs = []\n",
        "rec = []\n",
        "f1 = []\n",
        "loss = []\n",
        "\n",
        "for i in np.arange(3, 4, 0.1):\n",
        "    l, p, r, f, _, _, _ = sm_net.evaluate(i)\n",
        "    prs.append(p)\n",
        "    rec.append(r)\n",
        "    f1.append(f)\n",
        "    loss.append(l)\n",
        "\n",
        "plt.plot(prs, label = \"Test Precision\")\n",
        "plt.plot(rec, label = \"Test Recall\")\n",
        "plt.plot(f1, label = \"Test F1\")\n",
        "\n",
        "plt.legend()\n",
        "plt.show()"
      ]
    },
    {
      "cell_type": "markdown",
      "metadata": {
        "id": "3cUo9qi1kqtm"
      },
      "source": [
        "# **(Meta + Audio + Video)**"
      ]
    },
    {
      "cell_type": "code",
      "execution_count": null,
      "metadata": {
        "id": "Drx2K-JN9Xln"
      },
      "outputs": [],
      "source": [
        "class SiameseNet6(nn.Module):\n",
        "    def __init__(self, device = device, channel = 84):\n",
        "        super(SiameseNet6, self).__init__()\n",
        "        self.encoder_user = nn.Sequential(OrderedDict([\n",
        "            ('linr1', nn.Linear(train_dataset.user_embedding_size, 1024)),\n",
        "            ('relu1', nn.LeakyReLU()),\n",
        "            ('linr2', nn.Linear(1024, channel)),\n",
        "            ('relu2', nn.LeakyReLU()),\n",
        "        ]))\n",
        "\n",
        "        self.encoder_item = nn.Sequential(OrderedDict([\n",
        "            ('linr1', nn.Linear(train_dataset.item_embedding_size, 256)),\n",
        "            ('relu1', nn.LeakyReLU()),\n",
        "            ('linr2', nn.Linear(256, 300)),\n",
        "            ('relu2', nn.LeakyReLU()),\n",
        "        ]))\n",
        "\n",
        "        self.encoder_video = nn.Sequential(OrderedDict([\n",
        "            ('linr1', nn.Linear(train_dataset.video_embedding_size, 1600)),\n",
        "            ('relu1', nn.LeakyReLU()),\n",
        "            ('linr2', nn.Linear(1600, 300)),\n",
        "            ('relu2', nn.LeakyReLU()),\n",
        "#             ('linr3', nn.Linear(1000, 500)),\n",
        "#             ('relu3', nn.LeakyReLU()),\n",
        "# #             ('norm2', nn.BatchNorm1d(500)),\n",
        "#             ('linr4', nn.Linear(500, 300)),\n",
        "#             ('relu4', nn.LeakyReLU()),\n",
        "        ]))\n",
        "\n",
        "        self.encoder_audio = nn.Sequential(OrderedDict([\n",
        "            ('linr1', nn.Linear(train_dataset.audio_embedding_size, 600)),\n",
        "            ('relu1', nn.LeakyReLU()),\n",
        "            ('linr4', nn.Linear(600, 300)),\n",
        "            ('relu4', nn.LeakyReLU()),\n",
        "        ]))\n",
        "\n",
        "        #self.encoder_text = nn.Sequential(OrderedDict([\n",
        "        #    ('linr1', nn.Linear(train_dataset.text_embedding_size, 256)),\n",
        "        #    ('relu1', nn.LeakyReLU()),\n",
        "        #    ('linr2', nn.Linear(256, 300)),\n",
        "        #    ('relu2', nn.LeakyReLU()),\n",
        "        #]))\n",
        "\n",
        "        self.encoder_meta = nn.Sequential(OrderedDict([\n",
        "            ('linr1', nn.Linear(train_dataset.meta_embedding_size, 1600)),\n",
        "            ('relu1', nn.LeakyReLU()),\n",
        "#             ('norm1', nn.BatchNorm1d(1600)),\n",
        "            ('linr2', nn.Linear(1600, 300)),\n",
        "            ('relu2', nn.LeakyReLU()),\n",
        "#             ('linr3', nn.Linear(1000, 500)),\n",
        "#             ('relu3', nn.LeakyReLU()),\n",
        "#             ('linr4', nn.Linear(500, 300)),\n",
        "#             ('relu4', nn.LeakyReLU()),\n",
        "        ]))\n",
        "\n",
        "        self.fusion = nn.Sequential(OrderedDict([\n",
        "            ('conv1', nn.Conv2d(1, 1, (20, 20), stride=(2, 2))),\n",
        "            ('relu1', nn.LeakyReLU()),\n",
        "            ('conv2', nn.Conv2d(1, 1, (5, 50), stride=(1, 1))),\n",
        "            ('relu2', nn.LeakyReLU()),\n",
        "        ]))\n",
        "\n",
        "        self.siamese = nn.Sequential(OrderedDict([\n",
        "            ('linr1', nn.Linear(channel, 200)),\n",
        "            ('relu1', nn.LeakyReLU()),\n",
        "            ('linr2', nn.Linear(200, 256)),\n",
        "            ('relu2', nn.LeakyReLU()),\n",
        "            ('linr3', nn.Linear(256, 100)),\n",
        "            ('relu3', nn.LeakyReLU()),\n",
        "        ]))\n",
        "\n",
        "        self.ffn = nn.Sequential(OrderedDict([\n",
        "            ('linr1', nn.Linear(300, 164)),\n",
        "            ('actv1', nn.ReLU()),\n",
        "            ('linr2', nn.Linear(164, 1)),\n",
        "#             ('actv2', nn.ReLU()),\n",
        "#             ('linr3', nn.Linear(50, 1)),\n",
        "        ]))\n",
        "\n",
        "        self.device = device\n",
        "        self.encoder_user.apply(self.init_weights)\n",
        "        self.encoder_item.apply(self.init_weights)\n",
        "        self.encoder_video.apply(self.init_weights)\n",
        "        self.encoder_audio.apply(self.init_weights)\n",
        "        #self.encoder_text.apply(self.init_weights)\n",
        "        self.encoder_meta.apply(self.init_weights)\n",
        "        self.siamese.apply(self.init_weights)\n",
        "        self.ffn.apply(self.init_weights)\n",
        "\n",
        "    def init_weights(self, m):\n",
        "        if isinstance(m, nn.Linear):\n",
        "            nn.init.kaiming_normal_(m.weight)\n",
        "            m.bias.data.fill_(0.01)\n",
        "\n",
        "    def exp(self, q, k, v):\n",
        "        z = torch.bmm(q, k.permute(0, 2, 1))\n",
        "        z = F.normalize(z, p = 10, dim = 1)\n",
        "        z = torch.softmax(z, 1)\n",
        "        z = torch.bmm(z, v)\n",
        "        return(z)\n",
        "\n",
        "    def forward(self, x1, x2):\n",
        "        # Modality-encoders\n",
        "        outu = self.encoder_user(x1)\n",
        "        outr = self.encoder_item(x2[3])\n",
        "        outv = torch.split(self.encoder_video(x2[0]), [100, 100, 100], 1)\n",
        "        outa = torch.split(self.encoder_audio(x2[1]), [100, 100, 100], 1)\n",
        "       # outt = torch.split(self.encoder_text(x2[2]), 100, 1)\n",
        "        outm = torch.split(self.encoder_meta(x2[4]), [100, 100, 100], 1)\n",
        "\n",
        "        # Attention\n",
        "        #q_t = outt[0].unsqueeze(1).repeat(1, ROW, 1)\n",
        "        #k_t = outt[1].unsqueeze(1).repeat(1, ROW, 1)\n",
        "        #v_t = outt[2].unsqueeze(1).repeat(1, ROW, 1)\n",
        "\n",
        "        q_a = outa[0].unsqueeze(1).repeat(1, ROW, 1)\n",
        "        k_a = outa[1].unsqueeze(1).repeat(1, ROW, 1)\n",
        "        v_a = outa[2].unsqueeze(1).repeat(1, ROW, 1)\n",
        "\n",
        "        q_v = outv[0].unsqueeze(1).repeat(1, ROW, 1)\n",
        "        k_v = outv[1].unsqueeze(1).repeat(1, ROW, 1)\n",
        "        v_v = outv[2].unsqueeze(1).repeat(1, ROW, 1)\n",
        "\n",
        "        q_m = outm[0].unsqueeze(1).repeat(1, ROW, 1)\n",
        "        k_m = outm[1].unsqueeze(1).repeat(1, ROW, 1)\n",
        "        v_m = outm[2].unsqueeze(1).repeat(1, ROW, 1)\n",
        "\n",
        "        # Self-Attention\n",
        "        #st = self.exp(q_t, k_t, v_t)\n",
        "        sm = self.exp(q_m, k_m, v_m)\n",
        "        sa = self.exp(q_a, k_a, v_a)\n",
        "        sv = self.exp(q_v, k_v, v_v)\n",
        "\n",
        "        # Inter-Modal Attention\n",
        "        ita = self.exp(q_a, k_m, v_a)\n",
        "        imv = self.exp(q_v, k_a, v_v)\n",
        "        itm = self.exp(q_m, k_v, v_m)\n",
        "\n",
        "        # Forward\n",
        "        ma = torch.mean(torch.stack([sa, ita]), 0)\n",
        "        mv = torch.mean(torch.stack([sv, imv]), 0)\n",
        "        sda = itm\n",
        "        se = torch.mul(ma, mv)\n",
        "        outi = torch.cat((sda, se), axis = 2)#.reshape(-1, ROW * 1200)\n",
        "        outi = self.fusion(outi.unsqueeze(1))\n",
        "        out1 = self.siamese(outu)\n",
        "        out2 = self.siamese(outi.reshape(BATCH, -1))\n",
        "        diff = torch.cat((out1, out2, outm[2]), axis=1)\n",
        "        out = self.ffn(diff)\n",
        "        return(out, out1, out2)\n",
        "\n",
        "    def fit(self, trainloader = trainloader,\n",
        "            testloader = testloader, epochs = 20):\n",
        "        self.criterion_rate = weighted_mse_loss\n",
        "        self.criterion_embd = nn.CosineEmbeddingLoss()\n",
        "        self.optimizer = optim.Adam(self.parameters(), lr = 1e-4)\n",
        "\n",
        "        train_loss = []\n",
        "        train_f1 = []\n",
        "        test_loss = []\n",
        "        test_f1 = []\n",
        "        for epoch in range(epochs):\n",
        "            running_loss = 0.0\n",
        "            running_loss_1 = 0.0\n",
        "\n",
        "            for i, data in tqdm(enumerate(trainloader)):\n",
        "                self.train()\n",
        "                x1, x2, y = data\n",
        "                y_flt = y.type(torch.FloatTensor).to(device)\n",
        "                y_lng = torch.div(y, 4, rounding_mode=\"floor\").to(device)\n",
        "                self.optimizer.zero_grad()\n",
        "                reg, outu, outi = self.forward(x1, x2)\n",
        "                loss_1, loss_ = self.criterion_rate(reg.squeeze(), y_flt)\n",
        "                loss_2 = self.criterion_embd(outu, outi, y_lng * 2 - 1)\n",
        "                loss = loss_1 + loss_2\n",
        "                loss.backward()\n",
        "                self.optimizer.step()\n",
        "\n",
        "                running_loss_1 += torch.sqrt(loss_)\n",
        "                running_loss += loss\n",
        "            vl, vp, vr, vf, tp, tr, tf = self.evaluate()\n",
        "            print('Epoch-%d: Loss = %.3f\\nTrain RMSE = %.3f||Train Precision = %.3f||Train Recall = %.3f\\nTest RMSE = %.3f || Test Precision = %.3f|| Test Recall = %.3f'%\n",
        "                  (epoch + 1, running_loss / i, running_loss_1 / i,\n",
        "                   tp, tr, vl, vp, vr))\n",
        "            train_loss.append((running_loss_1 / i).cpu().detach().numpy())\n",
        "            test_loss.append(vl.cpu().detach().numpy())\n",
        "            train_f1.append(tf)\n",
        "            test_f1.append(vf)\n",
        "        return(train_loss, test_loss, train_f1, test_f1)\n",
        "\n",
        "    def evaluate(self, k = 3.5):\n",
        "        self.eval()\n",
        "        with torch.no_grad():\n",
        "            valdata = next(iter(testloader))\n",
        "            x1, x2, y = valdata\n",
        "            y_flt = y.type(torch.FloatTensor).to(device)\n",
        "            y_lng = torch.div(y, 4, rounding_mode=\"floor\").to(device)\n",
        "            otpt = self.forward(x1, x2)\n",
        "            pred = (otpt[0] > k).float()\n",
        "            vl = torch.sqrt(self.criterion_rate(otpt[0].squeeze(), y_flt)[1])\n",
        "            vp = precision_score(y_lng.cpu(), pred.cpu(), zero_division = 0)\n",
        "            vr = recall_score(y_lng.cpu(), pred.cpu(), zero_division = 0)\n",
        "            vf = f1_score(y_lng.cpu(), pred.cpu(), zero_division = 0)\n",
        "            print(classification_report(y_lng.cpu(), pred.cpu(),\n",
        "                    target_names = [\"0\", \"1\"], zero_division = 0))\n",
        "\n",
        "            traindata = next(iter(trainloader))\n",
        "            x1, x2, y = traindata\n",
        "            y_flt = y.type(torch.FloatTensor).to(device)\n",
        "            y_lng = torch.div(y, 4, rounding_mode=\"floor\").to(device)\n",
        "            otpt = self.forward(x1, x2)\n",
        "            pred = (otpt[0] > k).float()\n",
        "            tp = precision_score(y_lng.cpu(), pred.cpu(), zero_division = 0)\n",
        "            tr = recall_score(y_lng.cpu(), pred.cpu(), zero_division = 0)\n",
        "            tf = f1_score(y_lng.cpu(), pred.cpu(), zero_division = 0)\n",
        "        return(vl, vp*100, vr*100, vf*100, tp*100, tr*100, tf*100)"
      ]
    },
    {
      "cell_type": "code",
      "execution_count": null,
      "metadata": {
        "colab": {
          "base_uri": "https://localhost:8080/"
        },
        "id": "T_NxLIdaleG5",
        "outputId": "79096110-0c2c-4bec-e648-e5ec8d303db7"
      },
      "outputs": [
        {
          "data": {
            "text/plain": [
              "SiameseNet6(\n",
              "  (encoder_user): Sequential(\n",
              "    (linr1): Linear(in_features=1220, out_features=1024, bias=True)\n",
              "    (relu1): LeakyReLU(negative_slope=0.01)\n",
              "    (linr2): Linear(in_features=1024, out_features=84, bias=True)\n",
              "    (relu2): LeakyReLU(negative_slope=0.01)\n",
              "  )\n",
              "  (encoder_item): Sequential(\n",
              "    (linr1): Linear(in_features=943, out_features=256, bias=True)\n",
              "    (relu1): LeakyReLU(negative_slope=0.01)\n",
              "    (linr2): Linear(in_features=256, out_features=300, bias=True)\n",
              "    (relu2): LeakyReLU(negative_slope=0.01)\n",
              "  )\n",
              "  (encoder_video): Sequential(\n",
              "    (linr1): Linear(in_features=1024, out_features=1600, bias=True)\n",
              "    (relu1): LeakyReLU(negative_slope=0.01)\n",
              "    (linr2): Linear(in_features=1600, out_features=300, bias=True)\n",
              "    (relu2): LeakyReLU(negative_slope=0.01)\n",
              "  )\n",
              "  (encoder_audio): Sequential(\n",
              "    (linr1): Linear(in_features=1024, out_features=600, bias=True)\n",
              "    (relu1): LeakyReLU(negative_slope=0.01)\n",
              "    (linr4): Linear(in_features=600, out_features=300, bias=True)\n",
              "    (relu4): LeakyReLU(negative_slope=0.01)\n",
              "  )\n",
              "  (encoder_meta): Sequential(\n",
              "    (linr1): Linear(in_features=1220, out_features=1600, bias=True)\n",
              "    (relu1): LeakyReLU(negative_slope=0.01)\n",
              "    (linr2): Linear(in_features=1600, out_features=300, bias=True)\n",
              "    (relu2): LeakyReLU(negative_slope=0.01)\n",
              "  )\n",
              "  (fusion): Sequential(\n",
              "    (conv1): Conv2d(1, 1, kernel_size=(20, 20), stride=(2, 2))\n",
              "    (relu1): LeakyReLU(negative_slope=0.01)\n",
              "    (conv2): Conv2d(1, 1, kernel_size=(5, 50), stride=(1, 1))\n",
              "    (relu2): LeakyReLU(negative_slope=0.01)\n",
              "  )\n",
              "  (siamese): Sequential(\n",
              "    (linr1): Linear(in_features=84, out_features=200, bias=True)\n",
              "    (relu1): LeakyReLU(negative_slope=0.01)\n",
              "    (linr2): Linear(in_features=200, out_features=256, bias=True)\n",
              "    (relu2): LeakyReLU(negative_slope=0.01)\n",
              "    (linr3): Linear(in_features=256, out_features=100, bias=True)\n",
              "    (relu3): LeakyReLU(negative_slope=0.01)\n",
              "  )\n",
              "  (ffn): Sequential(\n",
              "    (linr1): Linear(in_features=300, out_features=164, bias=True)\n",
              "    (actv1): ReLU()\n",
              "    (linr2): Linear(in_features=164, out_features=1, bias=True)\n",
              "  )\n",
              ")"
            ]
          },
          "execution_count": 31,
          "metadata": {},
          "output_type": "execute_result"
        }
      ],
      "source": [
        "sm_net = SiameseNet6()\n",
        "sm_net.to(device)"
      ]
    },
    {
      "cell_type": "code",
      "execution_count": null,
      "metadata": {
        "colab": {
          "base_uri": "https://localhost:8080/"
        },
        "id": "Bm4CZgyolhRx",
        "outputId": "ed2e8207-1763-4413-a8ec-d35eda11ce2a"
      },
      "outputs": [
        {
          "name": "stderr",
          "output_type": "stream",
          "text": [
            "40it [00:32,  1.24it/s]\n"
          ]
        },
        {
          "name": "stdout",
          "output_type": "stream",
          "text": [
            "              precision    recall  f1-score   support\n",
            "\n",
            "           0       0.43      0.98      0.60       865\n",
            "           1       0.54      0.02      0.04      1135\n",
            "\n",
            "    accuracy                           0.43      2000\n",
            "   macro avg       0.49      0.50      0.32      2000\n",
            "weighted avg       0.49      0.43      0.28      2000\n",
            "\n",
            "Epoch-1: Loss = 7.268\n",
            "Train RMSE = 1.936||Train Precision = 56.250||Train Recall = 0.797\n",
            "Test RMSE = 1.571 || Test Precision = 53.846|| Test Recall = 1.850\n"
          ]
        },
        {
          "name": "stderr",
          "output_type": "stream",
          "text": [
            "40it [00:32,  1.23it/s]\n"
          ]
        },
        {
          "name": "stdout",
          "output_type": "stream",
          "text": [
            "              precision    recall  f1-score   support\n",
            "\n",
            "           0       0.44      0.90      0.59       865\n",
            "           1       0.64      0.13      0.22      1135\n",
            "\n",
            "    accuracy                           0.47      2000\n",
            "   macro avg       0.54      0.52      0.41      2000\n",
            "weighted avg       0.55      0.47      0.38      2000\n",
            "\n",
            "Epoch-2: Loss = 4.093\n",
            "Train RMSE = 1.336||Train Precision = 79.018||Train Recall = 15.608\n",
            "Test RMSE = 1.382 || Test Precision = 64.069|| Test Recall = 13.040\n"
          ]
        },
        {
          "name": "stderr",
          "output_type": "stream",
          "text": [
            "40it [00:32,  1.22it/s]\n"
          ]
        },
        {
          "name": "stdout",
          "output_type": "stream",
          "text": [
            "              precision    recall  f1-score   support\n",
            "\n",
            "           0       0.46      0.89      0.61       865\n",
            "           1       0.72      0.21      0.32      1135\n",
            "\n",
            "    accuracy                           0.50      2000\n",
            "   macro avg       0.59      0.55      0.46      2000\n",
            "weighted avg       0.61      0.50      0.45      2000\n",
            "\n",
            "Epoch-3: Loss = 3.701\n",
            "Train RMSE = 1.251||Train Precision = 75.241||Train Recall = 20.912\n",
            "Test RMSE = 1.331 || Test Precision = 71.779|| Test Recall = 20.617\n"
          ]
        },
        {
          "name": "stderr",
          "output_type": "stream",
          "text": [
            "40it [00:31,  1.25it/s]\n"
          ]
        },
        {
          "name": "stdout",
          "output_type": "stream",
          "text": [
            "              precision    recall  f1-score   support\n",
            "\n",
            "           0       0.47      0.80      0.59       865\n",
            "           1       0.67      0.32      0.43      1135\n",
            "\n",
            "    accuracy                           0.52      2000\n",
            "   macro avg       0.57      0.56      0.51      2000\n",
            "weighted avg       0.58      0.52      0.50      2000\n",
            "\n",
            "Epoch-4: Loss = 3.386\n",
            "Train RMSE = 1.196||Train Precision = 73.577||Train Recall = 33.674\n",
            "Test RMSE = 1.281 || Test Precision = 66.978|| Test Recall = 31.630\n"
          ]
        },
        {
          "name": "stderr",
          "output_type": "stream",
          "text": [
            "40it [00:33,  1.21it/s]\n"
          ]
        },
        {
          "name": "stdout",
          "output_type": "stream",
          "text": [
            "              precision    recall  f1-score   support\n",
            "\n",
            "           0       0.48      0.79      0.59       865\n",
            "           1       0.68      0.35      0.46      1135\n",
            "\n",
            "    accuracy                           0.54      2000\n",
            "   macro avg       0.58      0.57      0.53      2000\n",
            "weighted avg       0.59      0.54      0.52      2000\n",
            "\n",
            "Epoch-5: Loss = 3.112\n",
            "Train RMSE = 1.145||Train Precision = 79.626||Train Recall = 38.378\n",
            "Test RMSE = 1.273 || Test Precision = 68.048|| Test Recall = 34.714\n"
          ]
        },
        {
          "name": "stderr",
          "output_type": "stream",
          "text": [
            "40it [00:32,  1.23it/s]\n"
          ]
        },
        {
          "name": "stdout",
          "output_type": "stream",
          "text": [
            "              precision    recall  f1-score   support\n",
            "\n",
            "           0       0.51      0.70      0.59       865\n",
            "           1       0.68      0.50      0.57      1135\n",
            "\n",
            "    accuracy                           0.58      2000\n",
            "   macro avg       0.60      0.60      0.58      2000\n",
            "weighted avg       0.61      0.58      0.58      2000\n",
            "\n",
            "Epoch-6: Loss = 2.907\n",
            "Train RMSE = 1.109||Train Precision = 74.969||Train Recall = 55.302\n",
            "Test RMSE = 1.235 || Test Precision = 68.325|| Test Recall = 49.604\n"
          ]
        },
        {
          "name": "stderr",
          "output_type": "stream",
          "text": [
            "40it [00:32,  1.22it/s]\n"
          ]
        },
        {
          "name": "stdout",
          "output_type": "stream",
          "text": [
            "              precision    recall  f1-score   support\n",
            "\n",
            "           0       0.51      0.75      0.61       865\n",
            "           1       0.70      0.46      0.55      1135\n",
            "\n",
            "    accuracy                           0.58      2000\n",
            "   macro avg       0.61      0.60      0.58      2000\n",
            "weighted avg       0.62      0.58      0.58      2000\n",
            "\n",
            "Epoch-7: Loss = 2.754\n",
            "Train RMSE = 1.083||Train Precision = 75.758||Train Recall = 50.598\n",
            "Test RMSE = 1.241 || Test Precision = 70.230|| Test Recall = 45.727\n"
          ]
        },
        {
          "name": "stderr",
          "output_type": "stream",
          "text": [
            "40it [00:33,  1.21it/s]\n"
          ]
        },
        {
          "name": "stdout",
          "output_type": "stream",
          "text": [
            "              precision    recall  f1-score   support\n",
            "\n",
            "           0       0.51      0.77      0.61       865\n",
            "           1       0.72      0.43      0.54      1135\n",
            "\n",
            "    accuracy                           0.58      2000\n",
            "   macro avg       0.61      0.60      0.58      2000\n",
            "weighted avg       0.63      0.58      0.57      2000\n",
            "\n",
            "Epoch-8: Loss = 2.651\n",
            "Train RMSE = 1.066||Train Precision = 75.617||Train Recall = 49.244\n",
            "Test RMSE = 1.246 || Test Precision = 71.512|| Test Recall = 43.348\n"
          ]
        },
        {
          "name": "stderr",
          "output_type": "stream",
          "text": [
            "40it [00:33,  1.18it/s]\n"
          ]
        },
        {
          "name": "stdout",
          "output_type": "stream",
          "text": [
            "              precision    recall  f1-score   support\n",
            "\n",
            "           0       0.52      0.72      0.60       865\n",
            "           1       0.70      0.48      0.57      1135\n",
            "\n",
            "    accuracy                           0.59      2000\n",
            "   macro avg       0.61      0.60      0.59      2000\n",
            "weighted avg       0.62      0.59      0.58      2000\n",
            "\n",
            "Epoch-9: Loss = 2.591\n",
            "Train RMSE = 1.057||Train Precision = 77.403||Train Recall = 55.258\n",
            "Test RMSE = 1.234 || Test Precision = 69.670|| Test Recall = 48.370\n"
          ]
        },
        {
          "name": "stderr",
          "output_type": "stream",
          "text": [
            "40it [00:34,  1.17it/s]\n"
          ]
        },
        {
          "name": "stdout",
          "output_type": "stream",
          "text": [
            "              precision    recall  f1-score   support\n",
            "\n",
            "           0       0.52      0.74      0.61       865\n",
            "           1       0.71      0.48      0.57      1135\n",
            "\n",
            "    accuracy                           0.59      2000\n",
            "   macro avg       0.62      0.61      0.59      2000\n",
            "weighted avg       0.63      0.59      0.59      2000\n",
            "\n",
            "Epoch-10: Loss = 2.560\n",
            "Train RMSE = 1.054||Train Precision = 76.667||Train Recall = 52.801\n",
            "Test RMSE = 1.221 || Test Precision = 70.980|| Test Recall = 47.841\n"
          ]
        },
        {
          "name": "stderr",
          "output_type": "stream",
          "text": [
            "40it [00:35,  1.13it/s]\n"
          ]
        },
        {
          "name": "stdout",
          "output_type": "stream",
          "text": [
            "              precision    recall  f1-score   support\n",
            "\n",
            "           0       0.53      0.72      0.61       865\n",
            "           1       0.70      0.51      0.59      1135\n",
            "\n",
            "    accuracy                           0.60      2000\n",
            "   macro avg       0.62      0.61      0.60      2000\n",
            "weighted avg       0.63      0.60      0.60      2000\n",
            "\n",
            "Epoch-11: Loss = 2.546\n",
            "Train RMSE = 1.055||Train Precision = 75.386||Train Recall = 58.922\n",
            "Test RMSE = 1.214 || Test Precision = 70.402|| Test Recall = 50.925\n"
          ]
        },
        {
          "name": "stderr",
          "output_type": "stream",
          "text": [
            "40it [00:35,  1.14it/s]\n"
          ]
        },
        {
          "name": "stdout",
          "output_type": "stream",
          "text": [
            "              precision    recall  f1-score   support\n",
            "\n",
            "           0       0.52      0.74      0.61       865\n",
            "           1       0.71      0.47      0.56      1135\n",
            "\n",
            "    accuracy                           0.59      2000\n",
            "   macro avg       0.61      0.61      0.59      2000\n",
            "weighted avg       0.62      0.59      0.58      2000\n",
            "\n",
            "Epoch-12: Loss = 2.522\n",
            "Train RMSE = 1.049||Train Precision = 80.129||Train Recall = 55.200\n",
            "Test RMSE = 1.228 || Test Precision = 70.596|| Test Recall = 46.960\n"
          ]
        },
        {
          "name": "stderr",
          "output_type": "stream",
          "text": [
            "40it [00:35,  1.13it/s]\n"
          ]
        },
        {
          "name": "stdout",
          "output_type": "stream",
          "text": [
            "              precision    recall  f1-score   support\n",
            "\n",
            "           0       0.51      0.73      0.60       865\n",
            "           1       0.69      0.46      0.55      1135\n",
            "\n",
            "    accuracy                           0.58      2000\n",
            "   macro avg       0.60      0.60      0.58      2000\n",
            "weighted avg       0.61      0.58      0.57      2000\n",
            "\n",
            "Epoch-13: Loss = 2.510\n",
            "Train RMSE = 1.047||Train Precision = 79.708||Train Recall = 53.757\n",
            "Test RMSE = 1.233 || Test Precision = 69.292|| Test Recall = 45.727\n"
          ]
        },
        {
          "name": "stderr",
          "output_type": "stream",
          "text": [
            "40it [00:34,  1.16it/s]\n"
          ]
        },
        {
          "name": "stdout",
          "output_type": "stream",
          "text": [
            "              precision    recall  f1-score   support\n",
            "\n",
            "           0       0.52      0.72      0.60       865\n",
            "           1       0.70      0.50      0.58      1135\n",
            "\n",
            "    accuracy                           0.59      2000\n",
            "   macro avg       0.61      0.61      0.59      2000\n",
            "weighted avg       0.62      0.59      0.59      2000\n",
            "\n",
            "Epoch-14: Loss = 2.508\n",
            "Train RMSE = 1.048||Train Precision = 76.590||Train Recall = 54.381\n",
            "Test RMSE = 1.230 || Test Precision = 69.678|| Test Recall = 49.604\n"
          ]
        },
        {
          "name": "stderr",
          "output_type": "stream",
          "text": [
            "40it [00:34,  1.15it/s]\n"
          ]
        },
        {
          "name": "stdout",
          "output_type": "stream",
          "text": [
            "              precision    recall  f1-score   support\n",
            "\n",
            "           0       0.54      0.65      0.59       865\n",
            "           1       0.68      0.58      0.63      1135\n",
            "\n",
            "    accuracy                           0.61      2000\n",
            "   macro avg       0.61      0.61      0.61      2000\n",
            "weighted avg       0.62      0.61      0.61      2000\n",
            "\n",
            "Epoch-15: Loss = 2.509\n",
            "Train RMSE = 1.050||Train Precision = 74.317||Train Recall = 60.932\n",
            "Test RMSE = 1.220 || Test Precision = 68.154|| Test Recall = 57.885\n"
          ]
        },
        {
          "name": "stderr",
          "output_type": "stream",
          "text": [
            "40it [00:33,  1.18it/s]\n"
          ]
        },
        {
          "name": "stdout",
          "output_type": "stream",
          "text": [
            "              precision    recall  f1-score   support\n",
            "\n",
            "           0       0.51      0.74      0.61       865\n",
            "           1       0.70      0.47      0.56      1135\n",
            "\n",
            "    accuracy                           0.59      2000\n",
            "   macro avg       0.61      0.60      0.58      2000\n",
            "weighted avg       0.62      0.59      0.58      2000\n",
            "\n",
            "Epoch-16: Loss = 2.497\n",
            "Train RMSE = 1.048||Train Precision = 78.784||Train Recall = 56.077\n",
            "Test RMSE = 1.231 || Test Precision = 70.292|| Test Recall = 46.696\n"
          ]
        },
        {
          "name": "stderr",
          "output_type": "stream",
          "text": [
            "40it [00:34,  1.16it/s]\n"
          ]
        },
        {
          "name": "stdout",
          "output_type": "stream",
          "text": [
            "              precision    recall  f1-score   support\n",
            "\n",
            "           0       0.51      0.74      0.60       865\n",
            "           1       0.70      0.46      0.56      1135\n",
            "\n",
            "    accuracy                           0.58      2000\n",
            "   macro avg       0.61      0.60      0.58      2000\n",
            "weighted avg       0.62      0.58      0.58      2000\n",
            "\n",
            "Epoch-17: Loss = 2.485\n",
            "Train RMSE = 1.044||Train Precision = 77.389||Train Recall = 51.570\n",
            "Test RMSE = 1.239 || Test Precision = 69.960|| Test Recall = 46.167\n"
          ]
        },
        {
          "name": "stderr",
          "output_type": "stream",
          "text": [
            "40it [00:34,  1.17it/s]\n"
          ]
        },
        {
          "name": "stdout",
          "output_type": "stream",
          "text": [
            "              precision    recall  f1-score   support\n",
            "\n",
            "           0       0.51      0.74      0.61       865\n",
            "           1       0.70      0.46      0.56      1135\n",
            "\n",
            "    accuracy                           0.58      2000\n",
            "   macro avg       0.61      0.60      0.58      2000\n",
            "weighted avg       0.62      0.58      0.58      2000\n",
            "\n",
            "Epoch-18: Loss = 2.479\n",
            "Train RMSE = 1.043||Train Precision = 76.616||Train Recall = 51.007\n",
            "Test RMSE = 1.235 || Test Precision = 70.161|| Test Recall = 45.991\n"
          ]
        },
        {
          "name": "stderr",
          "output_type": "stream",
          "text": [
            "40it [00:34,  1.17it/s]\n"
          ]
        },
        {
          "name": "stdout",
          "output_type": "stream",
          "text": [
            "              precision    recall  f1-score   support\n",
            "\n",
            "           0       0.52      0.70      0.60       865\n",
            "           1       0.69      0.51      0.58      1135\n",
            "\n",
            "    accuracy                           0.59      2000\n",
            "   macro avg       0.60      0.60      0.59      2000\n",
            "weighted avg       0.62      0.59      0.59      2000\n",
            "\n",
            "Epoch-19: Loss = 2.490\n",
            "Train RMSE = 1.047||Train Precision = 79.064||Train Recall = 57.321\n",
            "Test RMSE = 1.232 || Test Precision = 68.982|| Test Recall = 50.749\n"
          ]
        },
        {
          "name": "stderr",
          "output_type": "stream",
          "text": [
            "40it [00:35,  1.14it/s]\n"
          ]
        },
        {
          "name": "stdout",
          "output_type": "stream",
          "text": [
            "              precision    recall  f1-score   support\n",
            "\n",
            "           0       0.55      0.68      0.61       865\n",
            "           1       0.70      0.57      0.63      1135\n",
            "\n",
            "    accuracy                           0.62      2000\n",
            "   macro avg       0.62      0.63      0.62      2000\n",
            "weighted avg       0.63      0.62      0.62      2000\n",
            "\n",
            "Epoch-20: Loss = 2.471\n",
            "Train RMSE = 1.044||Train Precision = 73.864||Train Recall = 59.853\n",
            "Test RMSE = 1.211 || Test Precision = 70.153|| Test Recall = 56.740\n"
          ]
        }
      ],
      "source": [
        "train_loss, test_loss, train_f1, test_f1 = sm_net.fit()"
      ]
    },
    {
      "cell_type": "code",
      "execution_count": null,
      "metadata": {
        "colab": {
          "base_uri": "https://localhost:8080/"
        },
        "id": "PzmqLi01l7Xc",
        "outputId": "7fa3e285-ed5e-422c-8d0b-95f1aa157ebf"
      },
      "outputs": [
        {
          "name": "stdout",
          "output_type": "stream",
          "text": [
            "              precision    recall  f1-score   support\n",
            "\n",
            "           0       0.55      0.68      0.61       865\n",
            "           1       0.70      0.57      0.63      1135\n",
            "\n",
            "    accuracy                           0.62      2000\n",
            "   macro avg       0.62      0.63      0.62      2000\n",
            "weighted avg       0.63      0.62      0.62      2000\n",
            "\n"
          ]
        },
        {
          "data": {
            "text/plain": [
              "(tensor(1.2111, device='cuda:0'),\n",
              " 70.1525054466231,\n",
              " 56.74008810572687,\n",
              " 62.73745737944472,\n",
              " 74.05281285878301,\n",
              " 60.280373831775705,\n",
              " 66.46058732612056)"
            ]
          },
          "execution_count": 33,
          "metadata": {},
          "output_type": "execute_result"
        }
      ],
      "source": [
        "sm_net.evaluate(k=3.5)"
      ]
    },
    {
      "cell_type": "code",
      "execution_count": null,
      "metadata": {
        "colab": {
          "base_uri": "https://localhost:8080/",
          "height": 516
        },
        "id": "zgfj9yQrljNC",
        "outputId": "a446dbe3-fc7c-4687-892a-0c34332bb425"
      },
      "outputs": [
        {
          "name": "stderr",
          "output_type": "stream",
          "text": [
            "<ipython-input-34-abf663b56279>:7: UserWarning: You have mixed positional and keyword arguments, some input may be discarded.\n",
            "  fig.legend([ax, ax2], labels = [\"Train Loss\", \"Test Loss\"], loc = \"upper right\")\n"
          ]
        },
        {
          "data": {
            "image/png": "[encoded data removed]",
            "text/plain": [
              "<Figure size 640x480 with 2 Axes>"
            ]
          },
          "metadata": {},
          "output_type": "display_data"
        }
      ],
      "source": [
        "import matplotlib.pyplot as plt\n",
        "\n",
        "fig, ax = plt.subplots()\n",
        "ax2 = ax.twinx()\n",
        "ax.plot(train_loss[20:], label = \"Train Loss\", color = \"orange\")\n",
        "ax2.plot(test_loss[20:], label = \"Test Loss\")\n",
        "fig.legend([ax, ax2], labels = [\"Train Loss\", \"Test Loss\"], loc = \"upper right\")\n",
        "plt.show()"
      ]
    },
    {
      "cell_type": "code",
      "execution_count": null,
      "metadata": {
        "colab": {
          "base_uri": "https://localhost:8080/",
          "height": 1000
        },
        "id": "cUhp85trllVj",
        "outputId": "2b72a28a-0557-4667-9d80-a167fd3bd29f"
      },
      "outputs": [
        {
          "name": "stdout",
          "output_type": "stream",
          "text": [
            "              precision    recall  f1-score   support\n",
            "\n",
            "           0       0.65      0.41      0.50       865\n",
            "           1       0.65      0.83      0.73      1135\n",
            "\n",
            "    accuracy                           0.65      2000\n",
            "   macro avg       0.65      0.62      0.61      2000\n",
            "weighted avg       0.65      0.65      0.63      2000\n",
            "\n",
            "              precision    recall  f1-score   support\n",
            "\n",
            "           0       0.62      0.47      0.53       865\n",
            "           1       0.66      0.79      0.72      1135\n",
            "\n",
            "    accuracy                           0.65      2000\n",
            "   macro avg       0.64      0.63      0.63      2000\n",
            "weighted avg       0.64      0.65      0.64      2000\n",
            "\n",
            "              precision    recall  f1-score   support\n",
            "\n",
            "           0       0.60      0.52      0.56       865\n",
            "           1       0.67      0.74      0.70      1135\n",
            "\n",
            "    accuracy                           0.65      2000\n",
            "   macro avg       0.64      0.63      0.63      2000\n",
            "weighted avg       0.64      0.65      0.64      2000\n",
            "\n",
            "              precision    recall  f1-score   support\n",
            "\n",
            "           0       0.58      0.56      0.57       865\n",
            "           1       0.67      0.70      0.69      1135\n",
            "\n",
            "    accuracy                           0.64      2000\n",
            "   macro avg       0.63      0.63      0.63      2000\n",
            "weighted avg       0.64      0.64      0.64      2000\n",
            "\n",
            "              precision    recall  f1-score   support\n",
            "\n",
            "           0       0.56      0.60      0.58       865\n",
            "           1       0.68      0.64      0.66      1135\n",
            "\n",
            "    accuracy                           0.62      2000\n",
            "   macro avg       0.62      0.62      0.62      2000\n",
            "weighted avg       0.63      0.62      0.62      2000\n",
            "\n",
            "              precision    recall  f1-score   support\n",
            "\n",
            "           0       0.55      0.68      0.61       865\n",
            "           1       0.70      0.57      0.63      1135\n",
            "\n",
            "    accuracy                           0.62      2000\n",
            "   macro avg       0.62      0.63      0.62      2000\n",
            "weighted avg       0.63      0.62      0.62      2000\n",
            "\n",
            "              precision    recall  f1-score   support\n",
            "\n",
            "           0       0.52      0.73      0.61       865\n",
            "           1       0.70      0.48      0.57      1135\n",
            "\n",
            "    accuracy                           0.59      2000\n",
            "   macro avg       0.61      0.61      0.59      2000\n",
            "weighted avg       0.62      0.59      0.59      2000\n",
            "\n",
            "              precision    recall  f1-score   support\n",
            "\n",
            "           0       0.50      0.76      0.61       865\n",
            "           1       0.70      0.43      0.53      1135\n",
            "\n",
            "    accuracy                           0.57      2000\n",
            "   macro avg       0.60      0.60      0.57      2000\n",
            "weighted avg       0.62      0.57      0.57      2000\n",
            "\n",
            "              precision    recall  f1-score   support\n",
            "\n",
            "           0       0.48      0.80      0.60       865\n",
            "           1       0.69      0.34      0.46      1135\n",
            "\n",
            "    accuracy                           0.54      2000\n",
            "   macro avg       0.59      0.57      0.53      2000\n",
            "weighted avg       0.60      0.54      0.52      2000\n",
            "\n",
            "              precision    recall  f1-score   support\n",
            "\n",
            "           0       0.47      0.83      0.60       865\n",
            "           1       0.68      0.28      0.39      1135\n",
            "\n",
            "    accuracy                           0.52      2000\n",
            "   macro avg       0.58      0.55      0.50      2000\n",
            "weighted avg       0.59      0.52      0.48      2000\n",
            "\n"
          ]
        },
        {
          "data": {
            "image/png": "[encoded data removed]",
            "text/plain": [
              "<Figure size 640x480 with 1 Axes>"
            ]
          },
          "metadata": {},
          "output_type": "display_data"
        }
      ],
      "source": [
        "prs = []\n",
        "rec = []\n",
        "f1 = []\n",
        "loss = []\n",
        "\n",
        "for i in np.arange(3, 4, 0.1):\n",
        "    l, p, r, f, _, _, _ = sm_net.evaluate(i)\n",
        "    prs.append(p)\n",
        "    rec.append(r)\n",
        "    f1.append(f)\n",
        "    loss.append(l)\n",
        "\n",
        "plt.plot(prs, label = \"Test Precision\")\n",
        "plt.plot(rec, label = \"Test Recall\")\n",
        "plt.plot(f1, label = \"Test F1\")\n",
        "\n",
        "plt.legend()\n",
        "plt.show()"
      ]
    },
    {
      "cell_type": "markdown",
      "metadata": {
        "id": "f_gZ4zj0p7Xm"
      },
      "source": [
        "# **(Meta + Text + Audio)**"
      ]
    },
    {
      "cell_type": "code",
      "execution_count": null,
      "metadata": {
        "id": "R8pFkSZxnW3t"
      },
      "outputs": [],
      "source": [
        "class SiameseNet7(nn.Module):\n",
        "    def __init__(self, device = device, channel = 84):\n",
        "        super(SiameseNet7, self).__init__()\n",
        "        self.encoder_user = nn.Sequential(OrderedDict([\n",
        "            ('linr1', nn.Linear(train_dataset.user_embedding_size, 1024)),\n",
        "            ('relu1', nn.LeakyReLU()),\n",
        "            ('linr2', nn.Linear(1024, channel)),\n",
        "            ('relu2', nn.LeakyReLU()),\n",
        "        ]))\n",
        "\n",
        "        self.encoder_item = nn.Sequential(OrderedDict([\n",
        "            ('linr1', nn.Linear(train_dataset.item_embedding_size, 256)),\n",
        "            ('relu1', nn.LeakyReLU()),\n",
        "            ('linr2', nn.Linear(256, 300)),\n",
        "            ('relu2', nn.LeakyReLU()),\n",
        "        ]))\n",
        "\n",
        "        #self.encoder_video = nn.Sequential(OrderedDict([\n",
        "        #    ('linr1', nn.Linear(train_dataset.video_embedding_size, 1600)),\n",
        "        #    ('relu1', nn.LeakyReLU()),\n",
        "        #    ('linr2', nn.Linear(1600, 300)),\n",
        "        #    ('relu2', nn.LeakyReLU()),\n",
        "#             ('linr3', nn.Linear(1000, 500)),\n",
        "#             ('relu3', nn.LeakyReLU()),\n",
        "# #             ('norm2', nn.BatchNorm1d(500)),\n",
        "#             ('linr4', nn.Linear(500, 300)),\n",
        "#             ('relu4', nn.LeakyReLU()),\n",
        "        #]))\n",
        "\n",
        "        self.encoder_audio = nn.Sequential(OrderedDict([\n",
        "            ('linr1', nn.Linear(train_dataset.audio_embedding_size, 600)),\n",
        "            ('relu1', nn.LeakyReLU()),\n",
        "            ('linr4', nn.Linear(600, 300)),\n",
        "            ('relu4', nn.LeakyReLU()),\n",
        "        ]))\n",
        "\n",
        "        self.encoder_text = nn.Sequential(OrderedDict([\n",
        "            ('linr1', nn.Linear(train_dataset.text_embedding_size, 256)),\n",
        "            ('relu1', nn.LeakyReLU()),\n",
        "            ('linr2', nn.Linear(256, 300)),\n",
        "            ('relu2', nn.LeakyReLU()),\n",
        "        ]))\n",
        "\n",
        "        self.encoder_meta = nn.Sequential(OrderedDict([\n",
        "            ('linr1', nn.Linear(train_dataset.meta_embedding_size, 1600)),\n",
        "            ('relu1', nn.LeakyReLU()),\n",
        "#             ('norm1', nn.BatchNorm1d(1600)),\n",
        "            ('linr2', nn.Linear(1600, 300)),\n",
        "            ('relu2', nn.LeakyReLU()),\n",
        "#             ('linr3', nn.Linear(1000, 500)),\n",
        "#             ('relu3', nn.LeakyReLU()),\n",
        "#             ('linr4', nn.Linear(500, 300)),\n",
        "#             ('relu4', nn.LeakyReLU()),\n",
        "        ]))\n",
        "\n",
        "        self.fusion = nn.Sequential(OrderedDict([\n",
        "            ('conv1', nn.Conv2d(1, 1, (20, 20), stride=(2, 2))),\n",
        "            ('relu1', nn.LeakyReLU()),\n",
        "            ('conv2', nn.Conv2d(1, 1, (5, 50), stride=(1, 1))),\n",
        "            ('relu2', nn.LeakyReLU()),\n",
        "        ]))\n",
        "\n",
        "        self.siamese = nn.Sequential(OrderedDict([\n",
        "            ('linr1', nn.Linear(channel, 200)),\n",
        "            ('relu1', nn.LeakyReLU()),\n",
        "            ('linr2', nn.Linear(200, 256)),\n",
        "            ('relu2', nn.LeakyReLU()),\n",
        "            ('linr3', nn.Linear(256, 100)),\n",
        "            ('relu3', nn.LeakyReLU()),\n",
        "        ]))\n",
        "\n",
        "        self.ffn = nn.Sequential(OrderedDict([\n",
        "            ('linr1', nn.Linear(300, 164)),\n",
        "            ('actv1', nn.ReLU()),\n",
        "            ('linr2', nn.Linear(164, 1)),\n",
        "#             ('actv2', nn.ReLU()),\n",
        "#             ('linr3', nn.Linear(50, 1)),\n",
        "        ]))\n",
        "\n",
        "        self.device = device\n",
        "        self.encoder_user.apply(self.init_weights)\n",
        "        self.encoder_item.apply(self.init_weights)\n",
        "        #self.encoder_video.apply(self.init_weights)\n",
        "        self.encoder_audio.apply(self.init_weights)\n",
        "        self.encoder_text.apply(self.init_weights)\n",
        "        self.encoder_meta.apply(self.init_weights)\n",
        "        self.siamese.apply(self.init_weights)\n",
        "        self.ffn.apply(self.init_weights)\n",
        "\n",
        "    def init_weights(self, m):\n",
        "        if isinstance(m, nn.Linear):\n",
        "            nn.init.kaiming_normal_(m.weight)\n",
        "            m.bias.data.fill_(0.01)\n",
        "\n",
        "    def exp(self, q, k, v):\n",
        "        z = torch.bmm(q, k.permute(0, 2, 1))\n",
        "        z = F.normalize(z, p = 10, dim = 1)\n",
        "        z = torch.softmax(z, 1)\n",
        "        z = torch.bmm(z, v)\n",
        "        return(z)\n",
        "\n",
        "    def forward(self, x1, x2):\n",
        "        # Modality-encoders\n",
        "        outu = self.encoder_user(x1)\n",
        "        outr = self.encoder_item(x2[3])\n",
        "        #outv = torch.split(self.encoder_video(x2[0]), [100, 100, 100], 1)\n",
        "        outa = torch.split(self.encoder_audio(x2[1]), [100, 100, 100], 1)\n",
        "        outt = torch.split(self.encoder_text(x2[2]), 100, 1)\n",
        "        outm = torch.split(self.encoder_meta(x2[4]), [100, 100, 100], 1)\n",
        "\n",
        "        # Attention\n",
        "        q_t = outt[0].unsqueeze(1).repeat(1, ROW, 1)\n",
        "        k_t = outt[1].unsqueeze(1).repeat(1, ROW, 1)\n",
        "        v_t = outt[2].unsqueeze(1).repeat(1, ROW, 1)\n",
        "\n",
        "        q_a = outa[0].unsqueeze(1).repeat(1, ROW, 1)\n",
        "        k_a = outa[1].unsqueeze(1).repeat(1, ROW, 1)\n",
        "        v_a = outa[2].unsqueeze(1).repeat(1, ROW, 1)\n",
        "\n",
        "        #q_v = outv[0].unsqueeze(1).repeat(1, ROW, 1)\n",
        "        #k_v = outv[1].unsqueeze(1).repeat(1, ROW, 1)\n",
        "        #v_v = outv[2].unsqueeze(1).repeat(1, ROW, 1)\n",
        "\n",
        "        q_m = outm[0].unsqueeze(1).repeat(1, ROW, 1)\n",
        "        k_m = outm[1].unsqueeze(1).repeat(1, ROW, 1)\n",
        "        v_m = outm[2].unsqueeze(1).repeat(1, ROW, 1)\n",
        "\n",
        "        # Self-Attention\n",
        "        st = self.exp(q_t, k_t, v_t)\n",
        "        sm = self.exp(q_m, k_m, v_m)\n",
        "        sa = self.exp(q_a, k_a, v_a)\n",
        "        #sv = self.exp(q_v, k_v, v_v)\n",
        "\n",
        "        # Inter-Modal Attention\n",
        "        ita = self.exp(q_a, k_m, v_a)\n",
        "        #imv = self.exp(q_v, k_a, v_v)\n",
        "        itm = self.exp(q_m, k_t, v_m)\n",
        "        itt = self.exp(q_t, k_a, v_t)\n",
        "\n",
        "        # Forward\n",
        "        ma = torch.mean(torch.stack([sa, ita]), 0)\n",
        "        mv = torch.mean(torch.stack([st, itt]), 0)\n",
        "        sda = itm\n",
        "        se = torch.mul(ma, mv)\n",
        "        outi = torch.cat((sda, se), axis = 2)#.reshape(-1, ROW * 1200)\n",
        "        outi = self.fusion(outi.unsqueeze(1))\n",
        "        out1 = self.siamese(outu)\n",
        "        out2 = self.siamese(outi.reshape(BATCH, -1))\n",
        "        diff = torch.cat((out1, out2, outm[2]), axis=1)\n",
        "        out = self.ffn(diff)\n",
        "        return(out, out1, out2)\n",
        "\n",
        "    def fit(self, trainloader = trainloader,\n",
        "            testloader = testloader, epochs = 20):\n",
        "        self.criterion_rate = weighted_mse_loss\n",
        "        self.criterion_embd = nn.CosineEmbeddingLoss()\n",
        "        self.optimizer = optim.Adam(self.parameters(), lr = 1e-4)\n",
        "\n",
        "        train_loss = []\n",
        "        train_f1 = []\n",
        "        test_loss = []\n",
        "        test_f1 = []\n",
        "        for epoch in range(epochs):\n",
        "            running_loss = 0.0\n",
        "            running_loss_1 = 0.0\n",
        "\n",
        "            for i, data in tqdm(enumerate(trainloader)):\n",
        "                self.train()\n",
        "                x1, x2, y = data\n",
        "                y_flt = y.type(torch.FloatTensor).to(device)\n",
        "                y_lng = torch.div(y, 4, rounding_mode=\"floor\").to(device)\n",
        "                self.optimizer.zero_grad()\n",
        "                reg, outu, outi = self.forward(x1, x2)\n",
        "                loss_1, loss_ = self.criterion_rate(reg.squeeze(), y_flt)\n",
        "                loss_2 = self.criterion_embd(outu, outi, y_lng * 2 - 1)\n",
        "                loss = loss_1 + loss_2\n",
        "                loss.backward()\n",
        "                self.optimizer.step()\n",
        "\n",
        "                running_loss_1 += torch.sqrt(loss_)\n",
        "                running_loss += loss\n",
        "            vl, vp, vr, vf, tp, tr, tf = self.evaluate()\n",
        "            print('Epoch-%d: Loss = %.3f\\nTrain RMSE = %.3f||Train Precision = %.3f||Train Recall = %.3f\\nTest RMSE = %.3f || Test Precision = %.3f|| Test Recall = %.3f'%\n",
        "                  (epoch + 1, running_loss / i, running_loss_1 / i,\n",
        "                   tp, tr, vl, vp, vr))\n",
        "            train_loss.append((running_loss_1 / i).cpu().detach().numpy())\n",
        "            test_loss.append(vl.cpu().detach().numpy())\n",
        "            train_f1.append(tf)\n",
        "            test_f1.append(vf)\n",
        "        return(train_loss, test_loss, train_f1, test_f1)\n",
        "\n",
        "    def evaluate(self, k = 3.5):\n",
        "        self.eval()\n",
        "        with torch.no_grad():\n",
        "            valdata = next(iter(testloader))\n",
        "            x1, x2, y = valdata\n",
        "            y_flt = y.type(torch.FloatTensor).to(device)\n",
        "            y_lng = torch.div(y, 4, rounding_mode=\"floor\").to(device)\n",
        "            otpt = self.forward(x1, x2)\n",
        "            pred = (otpt[0] > k).float()\n",
        "            vl = torch.sqrt(self.criterion_rate(otpt[0].squeeze(), y_flt)[1])\n",
        "            vp = precision_score(y_lng.cpu(), pred.cpu(), zero_division = 0)\n",
        "            vr = recall_score(y_lng.cpu(), pred.cpu(), zero_division = 0)\n",
        "            vf = f1_score(y_lng.cpu(), pred.cpu(), zero_division = 0)\n",
        "            print(classification_report(y_lng.cpu(), pred.cpu(),\n",
        "                    target_names = [\"0\", \"1\"], zero_division = 0))\n",
        "\n",
        "            traindata = next(iter(trainloader))\n",
        "            x1, x2, y = traindata\n",
        "            y_flt = y.type(torch.FloatTensor).to(device)\n",
        "            y_lng = torch.div(y, 4, rounding_mode=\"floor\").to(device)\n",
        "            otpt = self.forward(x1, x2)\n",
        "            pred = (otpt[0] > k).float()\n",
        "            tp = precision_score(y_lng.cpu(), pred.cpu(), zero_division = 0)\n",
        "            tr = recall_score(y_lng.cpu(), pred.cpu(), zero_division = 0)\n",
        "            tf = f1_score(y_lng.cpu(), pred.cpu(), zero_division = 0)\n",
        "        return(vl, vp*100, vr*100, vf*100, tp*100, tr*100, tf*100)"
      ]
    },
    {
      "cell_type": "code",
      "execution_count": null,
      "metadata": {
        "colab": {
          "base_uri": "https://localhost:8080/"
        },
        "id": "rlsFlYmqrM5t",
        "outputId": "88e7173c-43b5-4bd2-9dc0-0ded57a22ef2"
      },
      "outputs": [
        {
          "data": {
            "text/plain": [
              "SiameseNet7(\n",
              "  (encoder_user): Sequential(\n",
              "    (linr1): Linear(in_features=1220, out_features=1024, bias=True)\n",
              "    (relu1): LeakyReLU(negative_slope=0.01)\n",
              "    (linr2): Linear(in_features=1024, out_features=84, bias=True)\n",
              "    (relu2): LeakyReLU(negative_slope=0.01)\n",
              "  )\n",
              "  (encoder_item): Sequential(\n",
              "    (linr1): Linear(in_features=943, out_features=256, bias=True)\n",
              "    (relu1): LeakyReLU(negative_slope=0.01)\n",
              "    (linr2): Linear(in_features=256, out_features=300, bias=True)\n",
              "    (relu2): LeakyReLU(negative_slope=0.01)\n",
              "  )\n",
              "  (encoder_audio): Sequential(\n",
              "    (linr1): Linear(in_features=1024, out_features=600, bias=True)\n",
              "    (relu1): LeakyReLU(negative_slope=0.01)\n",
              "    (linr4): Linear(in_features=600, out_features=300, bias=True)\n",
              "    (relu4): LeakyReLU(negative_slope=0.01)\n",
              "  )\n",
              "  (encoder_text): Sequential(\n",
              "    (linr1): Linear(in_features=384, out_features=256, bias=True)\n",
              "    (relu1): LeakyReLU(negative_slope=0.01)\n",
              "    (linr2): Linear(in_features=256, out_features=300, bias=True)\n",
              "    (relu2): LeakyReLU(negative_slope=0.01)\n",
              "  )\n",
              "  (encoder_meta): Sequential(\n",
              "    (linr1): Linear(in_features=1220, out_features=1600, bias=True)\n",
              "    (relu1): LeakyReLU(negative_slope=0.01)\n",
              "    (linr2): Linear(in_features=1600, out_features=300, bias=True)\n",
              "    (relu2): LeakyReLU(negative_slope=0.01)\n",
              "  )\n",
              "  (fusion): Sequential(\n",
              "    (conv1): Conv2d(1, 1, kernel_size=(20, 20), stride=(2, 2))\n",
              "    (relu1): LeakyReLU(negative_slope=0.01)\n",
              "    (conv2): Conv2d(1, 1, kernel_size=(5, 50), stride=(1, 1))\n",
              "    (relu2): LeakyReLU(negative_slope=0.01)\n",
              "  )\n",
              "  (siamese): Sequential(\n",
              "    (linr1): Linear(in_features=84, out_features=200, bias=True)\n",
              "    (relu1): LeakyReLU(negative_slope=0.01)\n",
              "    (linr2): Linear(in_features=200, out_features=256, bias=True)\n",
              "    (relu2): LeakyReLU(negative_slope=0.01)\n",
              "    (linr3): Linear(in_features=256, out_features=100, bias=True)\n",
              "    (relu3): LeakyReLU(negative_slope=0.01)\n",
              "  )\n",
              "  (ffn): Sequential(\n",
              "    (linr1): Linear(in_features=300, out_features=164, bias=True)\n",
              "    (actv1): ReLU()\n",
              "    (linr2): Linear(in_features=164, out_features=1, bias=True)\n",
              "  )\n",
              ")"
            ]
          },
          "execution_count": 41,
          "metadata": {},
          "output_type": "execute_result"
        }
      ],
      "source": [
        "sm_net = SiameseNet7()\n",
        "sm_net.to(device)"
      ]
    },
    {
      "cell_type": "code",
      "execution_count": null,
      "metadata": {
        "colab": {
          "base_uri": "https://localhost:8080/"
        },
        "id": "ClVG020rrSIR",
        "outputId": "390706c4-094e-459c-a959-f977f93ce79b"
      },
      "outputs": [
        {
          "name": "stderr",
          "output_type": "stream",
          "text": [
            "40it [00:36,  1.10it/s]\n"
          ]
        },
        {
          "name": "stdout",
          "output_type": "stream",
          "text": [
            "              precision    recall  f1-score   support\n",
            "\n",
            "           0       0.43      0.96      0.60       865\n",
            "           1       0.54      0.03      0.06      1135\n",
            "\n",
            "    accuracy                           0.43      2000\n",
            "   macro avg       0.48      0.50      0.33      2000\n",
            "weighted avg       0.49      0.43      0.29      2000\n",
            "\n",
            "Epoch-1: Loss = 6.453\n",
            "Train RMSE = 1.794||Train Precision = 81.250||Train Recall = 2.347\n",
            "Test RMSE = 1.534 || Test Precision = 53.521|| Test Recall = 3.348\n"
          ]
        },
        {
          "name": "stderr",
          "output_type": "stream",
          "text": [
            "40it [00:36,  1.11it/s]\n"
          ]
        },
        {
          "name": "stdout",
          "output_type": "stream",
          "text": [
            "              precision    recall  f1-score   support\n",
            "\n",
            "           0       0.44      0.93      0.60       865\n",
            "           1       0.66      0.11      0.18      1135\n",
            "\n",
            "    accuracy                           0.46      2000\n",
            "   macro avg       0.55      0.52      0.39      2000\n",
            "weighted avg       0.57      0.46      0.36      2000\n",
            "\n",
            "Epoch-2: Loss = 4.014\n",
            "Train RMSE = 1.311||Train Precision = 69.753||Train Recall = 10.226\n",
            "Test RMSE = 1.397 || Test Precision = 66.120|| Test Recall = 10.661\n"
          ]
        },
        {
          "name": "stderr",
          "output_type": "stream",
          "text": [
            "40it [00:35,  1.11it/s]\n"
          ]
        },
        {
          "name": "stdout",
          "output_type": "stream",
          "text": [
            "              precision    recall  f1-score   support\n",
            "\n",
            "           0       0.46      0.91      0.61       865\n",
            "           1       0.73      0.18      0.29      1135\n",
            "\n",
            "    accuracy                           0.50      2000\n",
            "   macro avg       0.60      0.55      0.45      2000\n",
            "weighted avg       0.62      0.50      0.43      2000\n",
            "\n",
            "Epoch-3: Loss = 3.600\n",
            "Train RMSE = 1.225||Train Precision = 77.132||Train Recall = 17.642\n",
            "Test RMSE = 1.318 || Test Precision = 73.381|| Test Recall = 17.974\n"
          ]
        },
        {
          "name": "stderr",
          "output_type": "stream",
          "text": [
            "40it [00:36,  1.10it/s]\n"
          ]
        },
        {
          "name": "stdout",
          "output_type": "stream",
          "text": [
            "              precision    recall  f1-score   support\n",
            "\n",
            "           0       0.48      0.85      0.62       865\n",
            "           1       0.73      0.31      0.43      1135\n",
            "\n",
            "    accuracy                           0.54      2000\n",
            "   macro avg       0.61      0.58      0.53      2000\n",
            "weighted avg       0.62      0.54      0.51      2000\n",
            "\n",
            "Epoch-4: Loss = 3.241\n",
            "Train RMSE = 1.156||Train Precision = 78.512||Train Recall = 33.539\n",
            "Test RMSE = 1.255 || Test Precision = 73.222|| Test Recall = 30.837\n"
          ]
        },
        {
          "name": "stderr",
          "output_type": "stream",
          "text": [
            "40it [00:35,  1.13it/s]\n"
          ]
        },
        {
          "name": "stdout",
          "output_type": "stream",
          "text": [
            "              precision    recall  f1-score   support\n",
            "\n",
            "           0       0.49      0.84      0.62       865\n",
            "           1       0.73      0.33      0.46      1135\n",
            "\n",
            "    accuracy                           0.55      2000\n",
            "   macro avg       0.61      0.58      0.54      2000\n",
            "weighted avg       0.62      0.55      0.53      2000\n",
            "\n",
            "Epoch-5: Loss = 2.993\n",
            "Train RMSE = 1.112||Train Precision = 81.051||Train Recall = 39.380\n",
            "Test RMSE = 1.246 || Test Precision = 72.727|| Test Recall = 33.128\n"
          ]
        },
        {
          "name": "stderr",
          "output_type": "stream",
          "text": [
            "40it [00:35,  1.12it/s]\n"
          ]
        },
        {
          "name": "stdout",
          "output_type": "stream",
          "text": [
            "              precision    recall  f1-score   support\n",
            "\n",
            "           0       0.50      0.82      0.62       865\n",
            "           1       0.73      0.39      0.51      1135\n",
            "\n",
            "    accuracy                           0.57      2000\n",
            "   macro avg       0.62      0.60      0.56      2000\n",
            "weighted avg       0.63      0.57      0.56      2000\n",
            "\n",
            "Epoch-6: Loss = 2.835\n",
            "Train RMSE = 1.083||Train Precision = 78.905||Train Recall = 44.264\n",
            "Test RMSE = 1.221 || Test Precision = 73.244|| Test Recall = 38.590\n"
          ]
        },
        {
          "name": "stderr",
          "output_type": "stream",
          "text": [
            "40it [00:36,  1.09it/s]\n"
          ]
        },
        {
          "name": "stdout",
          "output_type": "stream",
          "text": [
            "              precision    recall  f1-score   support\n",
            "\n",
            "           0       0.51      0.78      0.62       865\n",
            "           1       0.72      0.42      0.53      1135\n",
            "\n",
            "    accuracy                           0.58      2000\n",
            "   macro avg       0.61      0.60      0.57      2000\n",
            "weighted avg       0.63      0.58      0.56      2000\n",
            "\n",
            "Epoch-7: Loss = 2.726\n",
            "Train RMSE = 1.068||Train Precision = 79.055||Train Recall = 45.512\n",
            "Test RMSE = 1.218 || Test Precision = 71.733|| Test Recall = 41.586\n"
          ]
        },
        {
          "name": "stderr",
          "output_type": "stream",
          "text": [
            "40it [00:36,  1.09it/s]\n"
          ]
        },
        {
          "name": "stdout",
          "output_type": "stream",
          "text": [
            "              precision    recall  f1-score   support\n",
            "\n",
            "           0       0.53      0.76      0.62       865\n",
            "           1       0.72      0.48      0.58      1135\n",
            "\n",
            "    accuracy                           0.60      2000\n",
            "   macro avg       0.62      0.62      0.60      2000\n",
            "weighted avg       0.64      0.60      0.60      2000\n",
            "\n",
            "Epoch-8: Loss = 2.659\n",
            "Train RMSE = 1.060||Train Precision = 76.204||Train Recall = 50.409\n",
            "Test RMSE = 1.190 || Test Precision = 72.200|| Test Recall = 48.282\n"
          ]
        },
        {
          "name": "stderr",
          "output_type": "stream",
          "text": [
            "40it [00:36,  1.10it/s]\n"
          ]
        },
        {
          "name": "stdout",
          "output_type": "stream",
          "text": [
            "              precision    recall  f1-score   support\n",
            "\n",
            "           0       0.52      0.77      0.62       865\n",
            "           1       0.72      0.46      0.56      1135\n",
            "\n",
            "    accuracy                           0.59      2000\n",
            "   macro avg       0.62      0.61      0.59      2000\n",
            "weighted avg       0.64      0.59      0.59      2000\n",
            "\n",
            "Epoch-9: Loss = 2.609\n",
            "Train RMSE = 1.054||Train Precision = 80.267||Train Recall = 48.915\n",
            "Test RMSE = 1.204 || Test Precision = 72.486|| Test Recall = 45.727\n"
          ]
        },
        {
          "name": "stderr",
          "output_type": "stream",
          "text": [
            "40it [00:37,  1.07it/s]\n"
          ]
        },
        {
          "name": "stdout",
          "output_type": "stream",
          "text": [
            "              precision    recall  f1-score   support\n",
            "\n",
            "           0       0.53      0.74      0.62       865\n",
            "           1       0.72      0.50      0.59      1135\n",
            "\n",
            "    accuracy                           0.60      2000\n",
            "   macro avg       0.62      0.62      0.60      2000\n",
            "weighted avg       0.64      0.60      0.60      2000\n",
            "\n",
            "Epoch-10: Loss = 2.578\n",
            "Train RMSE = 1.053||Train Precision = 79.178||Train Recall = 51.746\n",
            "Test RMSE = 1.184 || Test Precision = 71.827|| Test Recall = 49.868\n"
          ]
        },
        {
          "name": "stderr",
          "output_type": "stream",
          "text": [
            "40it [00:36,  1.09it/s]\n"
          ]
        },
        {
          "name": "stdout",
          "output_type": "stream",
          "text": [
            "              precision    recall  f1-score   support\n",
            "\n",
            "           0       0.53      0.76      0.63       865\n",
            "           1       0.73      0.49      0.59      1135\n",
            "\n",
            "    accuracy                           0.61      2000\n",
            "   macro avg       0.63      0.63      0.61      2000\n",
            "weighted avg       0.64      0.61      0.60      2000\n",
            "\n",
            "Epoch-11: Loss = 2.552\n",
            "Train RMSE = 1.049||Train Precision = 79.892||Train Recall = 52.482\n",
            "Test RMSE = 1.181 || Test Precision = 72.810|| Test Recall = 49.075\n"
          ]
        },
        {
          "name": "stderr",
          "output_type": "stream",
          "text": [
            "40it [00:36,  1.10it/s]\n"
          ]
        },
        {
          "name": "stdout",
          "output_type": "stream",
          "text": [
            "              precision    recall  f1-score   support\n",
            "\n",
            "           0       0.55      0.72      0.62       865\n",
            "           1       0.72      0.55      0.63      1135\n",
            "\n",
            "    accuracy                           0.63      2000\n",
            "   macro avg       0.64      0.64      0.63      2000\n",
            "weighted avg       0.65      0.63      0.63      2000\n",
            "\n",
            "Epoch-12: Loss = 2.528\n",
            "Train RMSE = 1.047||Train Precision = 77.226||Train Recall = 55.893\n",
            "Test RMSE = 1.173 || Test Precision = 72.216|| Test Recall = 55.419\n"
          ]
        },
        {
          "name": "stderr",
          "output_type": "stream",
          "text": [
            "40it [00:36,  1.09it/s]\n"
          ]
        },
        {
          "name": "stdout",
          "output_type": "stream",
          "text": [
            "              precision    recall  f1-score   support\n",
            "\n",
            "           0       0.52      0.79      0.63       865\n",
            "           1       0.73      0.45      0.56      1135\n",
            "\n",
            "    accuracy                           0.59      2000\n",
            "   macro avg       0.63      0.62      0.59      2000\n",
            "weighted avg       0.64      0.59      0.59      2000\n",
            "\n",
            "Epoch-13: Loss = 2.513\n",
            "Train RMSE = 1.045||Train Precision = 81.406||Train Recall = 49.599\n",
            "Test RMSE = 1.198 || Test Precision = 73.372|| Test Recall = 44.670\n"
          ]
        },
        {
          "name": "stderr",
          "output_type": "stream",
          "text": [
            "40it [00:36,  1.10it/s]\n"
          ]
        },
        {
          "name": "stdout",
          "output_type": "stream",
          "text": [
            "              precision    recall  f1-score   support\n",
            "\n",
            "           0       0.55      0.76      0.64       865\n",
            "           1       0.74      0.52      0.61      1135\n",
            "\n",
            "    accuracy                           0.62      2000\n",
            "   macro avg       0.64      0.64      0.62      2000\n",
            "weighted avg       0.66      0.62      0.62      2000\n",
            "\n",
            "Epoch-14: Loss = 2.512\n",
            "Train RMSE = 1.050||Train Precision = 78.261||Train Recall = 52.080\n",
            "Test RMSE = 1.167 || Test Precision = 73.929|| Test Recall = 51.718\n"
          ]
        },
        {
          "name": "stderr",
          "output_type": "stream",
          "text": [
            "40it [00:35,  1.11it/s]\n"
          ]
        },
        {
          "name": "stdout",
          "output_type": "stream",
          "text": [
            "              precision    recall  f1-score   support\n",
            "\n",
            "           0       0.53      0.75      0.62       865\n",
            "           1       0.73      0.50      0.59      1135\n",
            "\n",
            "    accuracy                           0.61      2000\n",
            "   macro avg       0.63      0.63      0.61      2000\n",
            "weighted avg       0.64      0.61      0.61      2000\n",
            "\n",
            "Epoch-15: Loss = 2.497\n",
            "Train RMSE = 1.043||Train Precision = 81.806||Train Recall = 55.032\n",
            "Test RMSE = 1.178 || Test Precision = 72.577|| Test Recall = 50.132\n"
          ]
        },
        {
          "name": "stderr",
          "output_type": "stream",
          "text": [
            "40it [00:36,  1.10it/s]\n"
          ]
        },
        {
          "name": "stdout",
          "output_type": "stream",
          "text": [
            "              precision    recall  f1-score   support\n",
            "\n",
            "           0       0.52      0.79      0.63       865\n",
            "           1       0.74      0.45      0.56      1135\n",
            "\n",
            "    accuracy                           0.60      2000\n",
            "   macro avg       0.63      0.62      0.59      2000\n",
            "weighted avg       0.64      0.60      0.59      2000\n",
            "\n",
            "Epoch-16: Loss = 2.488\n",
            "Train RMSE = 1.043||Train Precision = 80.116||Train Recall = 49.640\n",
            "Test RMSE = 1.191 || Test Precision = 73.737|| Test Recall = 45.022\n"
          ]
        },
        {
          "name": "stderr",
          "output_type": "stream",
          "text": [
            "40it [00:36,  1.10it/s]\n"
          ]
        },
        {
          "name": "stdout",
          "output_type": "stream",
          "text": [
            "              precision    recall  f1-score   support\n",
            "\n",
            "           0       0.54      0.75      0.63       865\n",
            "           1       0.73      0.50      0.60      1135\n",
            "\n",
            "    accuracy                           0.61      2000\n",
            "   macro avg       0.63      0.63      0.61      2000\n",
            "weighted avg       0.64      0.61      0.61      2000\n",
            "\n",
            "Epoch-17: Loss = 2.489\n",
            "Train RMSE = 1.044||Train Precision = 81.758||Train Recall = 54.145\n",
            "Test RMSE = 1.181 || Test Precision = 72.716|| Test Recall = 50.485\n"
          ]
        },
        {
          "name": "stderr",
          "output_type": "stream",
          "text": [
            "40it [00:35,  1.12it/s]\n"
          ]
        },
        {
          "name": "stdout",
          "output_type": "stream",
          "text": [
            "              precision    recall  f1-score   support\n",
            "\n",
            "           0       0.54      0.72      0.62       865\n",
            "           1       0.71      0.54      0.62      1135\n",
            "\n",
            "    accuracy                           0.62      2000\n",
            "   macro avg       0.63      0.63      0.62      2000\n",
            "weighted avg       0.64      0.62      0.62      2000\n",
            "\n",
            "Epoch-18: Loss = 2.478\n",
            "Train RMSE = 1.043||Train Precision = 75.628||Train Recall = 55.741\n",
            "Test RMSE = 1.169 || Test Precision = 71.462|| Test Recall = 54.273\n"
          ]
        },
        {
          "name": "stderr",
          "output_type": "stream",
          "text": [
            "40it [00:35,  1.12it/s]\n"
          ]
        },
        {
          "name": "stdout",
          "output_type": "stream",
          "text": [
            "              precision    recall  f1-score   support\n",
            "\n",
            "           0       0.54      0.71      0.61       865\n",
            "           1       0.71      0.54      0.61      1135\n",
            "\n",
            "    accuracy                           0.61      2000\n",
            "   macro avg       0.62      0.62      0.61      2000\n",
            "weighted avg       0.63      0.61      0.61      2000\n",
            "\n",
            "Epoch-19: Loss = 2.481\n",
            "Train RMSE = 1.044||Train Precision = 78.362||Train Recall = 56.575\n",
            "Test RMSE = 1.169 || Test Precision = 70.670|| Test Recall = 53.921\n"
          ]
        },
        {
          "name": "stderr",
          "output_type": "stream",
          "text": [
            "40it [00:36,  1.10it/s]\n"
          ]
        },
        {
          "name": "stdout",
          "output_type": "stream",
          "text": [
            "              precision    recall  f1-score   support\n",
            "\n",
            "           0       0.56      0.68      0.62       865\n",
            "           1       0.71      0.59      0.65      1135\n",
            "\n",
            "    accuracy                           0.63      2000\n",
            "   macro avg       0.64      0.64      0.63      2000\n",
            "weighted avg       0.65      0.63      0.63      2000\n",
            "\n",
            "Epoch-20: Loss = 2.478\n",
            "Train RMSE = 1.043||Train Precision = 77.064||Train Recall = 59.893\n",
            "Test RMSE = 1.159 || Test Precision = 71.067|| Test Recall = 59.295\n"
          ]
        }
      ],
      "source": [
        "train_loss, test_loss, train_f1, test_f1 = sm_net.fit()"
      ]
    },
    {
      "cell_type": "code",
      "execution_count": null,
      "metadata": {
        "colab": {
          "base_uri": "https://localhost:8080/"
        },
        "id": "wxsSxUtWrThu",
        "outputId": "74d6ab6f-1ad7-4b85-9bd7-aaa4ac22e344"
      },
      "outputs": [
        {
          "name": "stdout",
          "output_type": "stream",
          "text": [
            "              precision    recall  f1-score   support\n",
            "\n",
            "           0       0.56      0.68      0.62       865\n",
            "           1       0.71      0.59      0.65      1135\n",
            "\n",
            "    accuracy                           0.63      2000\n",
            "   macro avg       0.64      0.64      0.63      2000\n",
            "weighted avg       0.65      0.63      0.63      2000\n",
            "\n"
          ]
        },
        {
          "data": {
            "text/plain": [
              "(tensor(1.1593, device='cuda:0'),\n",
              " 71.06652587117213,\n",
              " 59.29515418502203,\n",
              " 64.64937560038425,\n",
              " 76.8018018018018,\n",
              " 60.78431372549019,\n",
              " 67.86069651741295)"
            ]
          },
          "execution_count": 43,
          "metadata": {},
          "output_type": "execute_result"
        }
      ],
      "source": [
        "sm_net.evaluate(k=3.5)"
      ]
    },
    {
      "cell_type": "code",
      "execution_count": null,
      "metadata": {
        "colab": {
          "base_uri": "https://localhost:8080/",
          "height": 516
        },
        "id": "zNjt6dUwrZcG",
        "outputId": "2cdf7beb-a58d-4daf-e09f-82b3c361c6f8"
      },
      "outputs": [
        {
          "name": "stderr",
          "output_type": "stream",
          "text": [
            "<ipython-input-44-abf663b56279>:7: UserWarning: You have mixed positional and keyword arguments, some input may be discarded.\n",
            "  fig.legend([ax, ax2], labels = [\"Train Loss\", \"Test Loss\"], loc = \"upper right\")\n"
          ]
        },
        {
          "data": {
            "image/png": "[encoded data removed]",
            "text/plain": [
              "<Figure size 640x480 with 2 Axes>"
            ]
          },
          "metadata": {},
          "output_type": "display_data"
        }
      ],
      "source": [
        "import matplotlib.pyplot as plt\n",
        "\n",
        "fig, ax = plt.subplots()\n",
        "ax2 = ax.twinx()\n",
        "ax.plot(train_loss[20:], label = \"Train Loss\", color = \"orange\")\n",
        "ax2.plot(test_loss[20:], label = \"Test Loss\")\n",
        "fig.legend([ax, ax2], labels = [\"Train Loss\", \"Test Loss\"], loc = \"upper right\")\n",
        "plt.show()"
      ]
    },
    {
      "cell_type": "code",
      "execution_count": null,
      "metadata": {
        "colab": {
          "base_uri": "https://localhost:8080/",
          "height": 1000
        },
        "id": "pGquKZqmra9j",
        "outputId": "5fc40d1f-0e59-4c2c-a9e0-4e02b2aacda9"
      },
      "outputs": [
        {
          "name": "stdout",
          "output_type": "stream",
          "text": [
            "              precision    recall  f1-score   support\n",
            "\n",
            "           0       0.68      0.40      0.50       865\n",
            "           1       0.65      0.85      0.74      1135\n",
            "\n",
            "    accuracy                           0.66      2000\n",
            "   macro avg       0.66      0.63      0.62      2000\n",
            "weighted avg       0.66      0.66      0.64      2000\n",
            "\n",
            "              precision    recall  f1-score   support\n",
            "\n",
            "           0       0.65      0.46      0.54       865\n",
            "           1       0.66      0.81      0.73      1135\n",
            "\n",
            "    accuracy                           0.66      2000\n",
            "   macro avg       0.66      0.63      0.63      2000\n",
            "weighted avg       0.66      0.66      0.65      2000\n",
            "\n",
            "              precision    recall  f1-score   support\n",
            "\n",
            "           0       0.63      0.51      0.57       865\n",
            "           1       0.68      0.77      0.72      1135\n",
            "\n",
            "    accuracy                           0.66      2000\n",
            "   macro avg       0.66      0.64      0.65      2000\n",
            "weighted avg       0.66      0.66      0.66      2000\n",
            "\n",
            "              precision    recall  f1-score   support\n",
            "\n",
            "           0       0.60      0.56      0.58       865\n",
            "           1       0.68      0.72      0.70      1135\n",
            "\n",
            "    accuracy                           0.65      2000\n",
            "   macro avg       0.64      0.64      0.64      2000\n",
            "weighted avg       0.65      0.65      0.65      2000\n",
            "\n",
            "              precision    recall  f1-score   support\n",
            "\n",
            "           0       0.59      0.63      0.61       865\n",
            "           1       0.70      0.66      0.68      1135\n",
            "\n",
            "    accuracy                           0.65      2000\n",
            "   macro avg       0.64      0.65      0.64      2000\n",
            "weighted avg       0.65      0.65      0.65      2000\n",
            "\n",
            "              precision    recall  f1-score   support\n",
            "\n",
            "           0       0.56      0.68      0.62       865\n",
            "           1       0.71      0.59      0.65      1135\n",
            "\n",
            "    accuracy                           0.63      2000\n",
            "   macro avg       0.64      0.64      0.63      2000\n",
            "weighted avg       0.65      0.63      0.63      2000\n",
            "\n",
            "              precision    recall  f1-score   support\n",
            "\n",
            "           0       0.54      0.73      0.62       865\n",
            "           1       0.72      0.53      0.61      1135\n",
            "\n",
            "    accuracy                           0.61      2000\n",
            "   macro avg       0.63      0.63      0.61      2000\n",
            "weighted avg       0.64      0.61      0.61      2000\n",
            "\n",
            "              precision    recall  f1-score   support\n",
            "\n",
            "           0       0.52      0.77      0.62       865\n",
            "           1       0.72      0.45      0.56      1135\n",
            "\n",
            "    accuracy                           0.59      2000\n",
            "   macro avg       0.62      0.61      0.59      2000\n",
            "weighted avg       0.63      0.59      0.58      2000\n",
            "\n",
            "              precision    recall  f1-score   support\n",
            "\n",
            "           0       0.50      0.81      0.62       865\n",
            "           1       0.72      0.38      0.50      1135\n",
            "\n",
            "    accuracy                           0.57      2000\n",
            "   macro avg       0.61      0.59      0.56      2000\n",
            "weighted avg       0.63      0.57      0.55      2000\n",
            "\n",
            "              precision    recall  f1-score   support\n",
            "\n",
            "           0       0.48      0.85      0.62       865\n",
            "           1       0.73      0.31      0.44      1135\n",
            "\n",
            "    accuracy                           0.54      2000\n",
            "   macro avg       0.60      0.58      0.53      2000\n",
            "weighted avg       0.62      0.54      0.51      2000\n",
            "\n"
          ]
        },
        {
          "data": {
            "image/png": "[encoded data removed]",
            "text/plain": [
              "<Figure size 640x480 with 1 Axes>"
            ]
          },
          "metadata": {},
          "output_type": "display_data"
        }
      ],
      "source": [
        "prs = []\n",
        "rec = []\n",
        "f1 = []\n",
        "loss = []\n",
        "\n",
        "for i in np.arange(3, 4, 0.1):\n",
        "    l, p, r, f, _, _, _ = sm_net.evaluate(i)\n",
        "    prs.append(p)\n",
        "    rec.append(r)\n",
        "    f1.append(f)\n",
        "    loss.append(l)\n",
        "\n",
        "plt.plot(prs, label = \"Test Precision\")\n",
        "plt.plot(rec, label = \"Test Recall\")\n",
        "plt.plot(f1, label = \"Test F1\")\n",
        "\n",
        "plt.legend()\n",
        "plt.show()"
      ]
    },
    {
      "cell_type": "markdown",
      "metadata": {
        "id": "hpUkT7CJv6sB"
      },
      "source": [
        "# **(Video + Audio + Text)**"
      ]
    },
    {
      "cell_type": "code",
      "execution_count": null,
      "metadata": {
        "id": "tSh4DaUrrhlj"
      },
      "outputs": [],
      "source": [
        "class SiameseNet8(nn.Module):\n",
        "    def __init__(self, device = device, channel = 84):\n",
        "        super(SiameseNet8, self).__init__()\n",
        "        self.encoder_user = nn.Sequential(OrderedDict([\n",
        "            ('linr1', nn.Linear(train_dataset.user_embedding_size, 1024)),\n",
        "            ('relu1', nn.LeakyReLU()),\n",
        "            ('linr2', nn.Linear(1024, channel)),\n",
        "            ('relu2', nn.LeakyReLU()),\n",
        "        ]))\n",
        "\n",
        "        self.encoder_item = nn.Sequential(OrderedDict([\n",
        "            ('linr1', nn.Linear(train_dataset.item_embedding_size, 256)),\n",
        "            ('relu1', nn.LeakyReLU()),\n",
        "            ('linr2', nn.Linear(256, 300)),\n",
        "            ('relu2', nn.LeakyReLU()),\n",
        "        ]))\n",
        "\n",
        "        self.encoder_video = nn.Sequential(OrderedDict([\n",
        "            ('linr1', nn.Linear(train_dataset.video_embedding_size, 1600)),\n",
        "            ('relu1', nn.LeakyReLU()),\n",
        "            ('linr2', nn.Linear(1600, 300)),\n",
        "            ('relu2', nn.LeakyReLU()),\n",
        "#             ('linr3', nn.Linear(1000, 500)),\n",
        "#             ('relu3', nn.LeakyReLU()),\n",
        "# #             ('norm2', nn.BatchNorm1d(500)),\n",
        "#             ('linr4', nn.Linear(500, 300)),\n",
        "#             ('relu4', nn.LeakyReLU()),\n",
        "        ]))\n",
        "\n",
        "        self.encoder_audio = nn.Sequential(OrderedDict([\n",
        "            ('linr1', nn.Linear(train_dataset.audio_embedding_size, 600)),\n",
        "            ('relu1', nn.LeakyReLU()),\n",
        "            ('linr4', nn.Linear(600, 300)),\n",
        "            ('relu4', nn.LeakyReLU()),\n",
        "        ]))\n",
        "\n",
        "        self.encoder_text = nn.Sequential(OrderedDict([\n",
        "            ('linr1', nn.Linear(train_dataset.text_embedding_size, 256)),\n",
        "            ('relu1', nn.LeakyReLU()),\n",
        "            ('linr2', nn.Linear(256, 300)),\n",
        "            ('relu2', nn.LeakyReLU()),\n",
        "        ]))\n",
        "\n",
        "        #self.encoder_meta = nn.Sequential(OrderedDict([\n",
        "        #   ('linr1', nn.Linear(train_dataset.meta_embedding_size, 1600)),\n",
        "        #    ('relu1', nn.LeakyReLU()),\n",
        "#             ('norm1', nn.BatchNorm1d(1600)),\n",
        "        #    ('linr2', nn.Linear(1600, 300)),\n",
        "        #    ('relu2', nn.LeakyReLU()),\n",
        "#             ('linr3', nn.Linear(1000, 500)),\n",
        "#             ('relu3', nn.LeakyReLU()),\n",
        "#             ('linr4', nn.Linear(500, 300)),\n",
        "#             ('relu4', nn.LeakyReLU()),\n",
        "        #]))\n",
        "\n",
        "        self.fusion = nn.Sequential(OrderedDict([\n",
        "            ('conv1', nn.Conv2d(1, 1, (20, 20), stride=(2, 2))),\n",
        "            ('relu1', nn.LeakyReLU()),\n",
        "            ('conv2', nn.Conv2d(1, 1, (5, 50), stride=(1, 1))),\n",
        "            ('relu2', nn.LeakyReLU()),\n",
        "        ]))\n",
        "\n",
        "        self.siamese = nn.Sequential(OrderedDict([\n",
        "            ('linr1', nn.Linear(channel, 200)),\n",
        "            ('relu1', nn.LeakyReLU()),\n",
        "            ('linr2', nn.Linear(200, 256)),\n",
        "            ('relu2', nn.LeakyReLU()),\n",
        "            ('linr3', nn.Linear(256, 100)),\n",
        "            ('relu3', nn.LeakyReLU()),\n",
        "        ]))\n",
        "\n",
        "        self.ffn = nn.Sequential(OrderedDict([\n",
        "            ('linr1', nn.Linear(300, 164)),\n",
        "            ('actv1', nn.ReLU()),\n",
        "            ('linr2', nn.Linear(164, 1)),\n",
        "#             ('actv2', nn.ReLU()),\n",
        "#             ('linr3', nn.Linear(50, 1)),\n",
        "        ]))\n",
        "\n",
        "        self.device = device\n",
        "        self.encoder_user.apply(self.init_weights)\n",
        "        self.encoder_item.apply(self.init_weights)\n",
        "        self.encoder_video.apply(self.init_weights)\n",
        "        self.encoder_audio.apply(self.init_weights)\n",
        "        self.encoder_text.apply(self.init_weights)\n",
        "        #self.encoder_meta.apply(self.init_weights)\n",
        "        self.siamese.apply(self.init_weights)\n",
        "        self.ffn.apply(self.init_weights)\n",
        "\n",
        "    def init_weights(self, m):\n",
        "        if isinstance(m, nn.Linear):\n",
        "            nn.init.kaiming_normal_(m.weight)\n",
        "            m.bias.data.fill_(0.01)\n",
        "\n",
        "    def exp(self, q, k, v):\n",
        "        z = torch.bmm(q, k.permute(0, 2, 1))\n",
        "        z = F.normalize(z, p = 10, dim = 1)\n",
        "        z = torch.softmax(z, 1)\n",
        "        z = torch.bmm(z, v)\n",
        "        return(z)\n",
        "\n",
        "    def forward(self, x1, x2):\n",
        "        # Modality-encoders\n",
        "        outu = self.encoder_user(x1)\n",
        "        outr = self.encoder_item(x2[3])\n",
        "        outv = torch.split(self.encoder_video(x2[0]), [100, 100, 100], 1)\n",
        "        outa = torch.split(self.encoder_audio(x2[1]), [100, 100, 100], 1)\n",
        "        outt = torch.split(self.encoder_text(x2[2]), 100, 1)\n",
        "        #outm = torch.split(self.encoder_meta(x2[4]), [100, 100, 100], 1)\n",
        "\n",
        "        # Attention\n",
        "        q_t = outt[0].unsqueeze(1).repeat(1, ROW, 1)\n",
        "        k_t = outt[1].unsqueeze(1).repeat(1, ROW, 1)\n",
        "        v_t = outt[2].unsqueeze(1).repeat(1, ROW, 1)\n",
        "\n",
        "        q_a = outa[0].unsqueeze(1).repeat(1, ROW, 1)\n",
        "        k_a = outa[1].unsqueeze(1).repeat(1, ROW, 1)\n",
        "        v_a = outa[2].unsqueeze(1).repeat(1, ROW, 1)\n",
        "\n",
        "        q_v = outv[0].unsqueeze(1).repeat(1, ROW, 1)\n",
        "        k_v = outv[1].unsqueeze(1).repeat(1, ROW, 1)\n",
        "        v_v = outv[2].unsqueeze(1).repeat(1, ROW, 1)\n",
        "\n",
        "        #q_m = outm[0].unsqueeze(1).repeat(1, ROW, 1)\n",
        "        #k_m = outm[1].unsqueeze(1).repeat(1, ROW, 1)\n",
        "        #v_m = outm[2].unsqueeze(1).repeat(1, ROW, 1)\n",
        "\n",
        "        # Self-Attention\n",
        "        st = self.exp(q_t, k_t, v_t)\n",
        "        #sm = self.exp(q_m, k_m, v_m)\n",
        "        sa = self.exp(q_a, k_a, v_a)\n",
        "        sv = self.exp(q_v, k_v, v_v)\n",
        "\n",
        "        # Inter-Modal Attention\n",
        "        ita = self.exp(q_a, k_t, v_a)\n",
        "        imv = self.exp(q_v, k_a, v_v)\n",
        "        #itm = self.exp(q_m, k_t, v_m)\n",
        "\n",
        "        # Forward\n",
        "        ma = torch.mean(torch.stack([sa, ita]), 0)\n",
        "        mv = torch.mean(torch.stack([sv, imv]), 0)\n",
        "        sda = ita\n",
        "        se = torch.mul(ma, mv)\n",
        "        outi = torch.cat((sda, se), axis = 2)#.reshape(-1, ROW * 1200)\n",
        "        outi = self.fusion(outi.unsqueeze(1))\n",
        "        out1 = self.siamese(outu)\n",
        "        out2 = self.siamese(outi.reshape(BATCH, -1))\n",
        "        diff = torch.cat((out1, out2, outt[2]), axis=1)\n",
        "        out = self.ffn(diff)\n",
        "        return(out, out1, out2)\n",
        "\n",
        "    def fit(self, trainloader = trainloader,\n",
        "            testloader = testloader, epochs = 20):\n",
        "        self.criterion_rate = weighted_mse_loss\n",
        "        self.criterion_embd = nn.CosineEmbeddingLoss()\n",
        "        self.optimizer = optim.Adam(self.parameters(), lr = 1e-4)\n",
        "\n",
        "        train_loss = []\n",
        "        train_f1 = []\n",
        "        test_loss = []\n",
        "        test_f1 = []\n",
        "        for epoch in range(epochs):\n",
        "            running_loss = 0.0\n",
        "            running_loss_1 = 0.0\n",
        "\n",
        "            for i, data in tqdm(enumerate(trainloader)):\n",
        "                self.train()\n",
        "                x1, x2, y = data\n",
        "                y_flt = y.type(torch.FloatTensor).to(device)\n",
        "                y_lng = torch.div(y, 4, rounding_mode=\"floor\").to(device)\n",
        "                self.optimizer.zero_grad()\n",
        "                reg, outu, outi = self.forward(x1, x2)\n",
        "                loss_1, loss_ = self.criterion_rate(reg.squeeze(), y_flt)\n",
        "                loss_2 = self.criterion_embd(outu, outi, y_lng * 2 - 1)\n",
        "                loss = loss_1 + loss_2\n",
        "                loss.backward()\n",
        "                self.optimizer.step()\n",
        "\n",
        "                running_loss_1 += torch.sqrt(loss_)\n",
        "                running_loss += loss\n",
        "            vl, vp, vr, vf, tp, tr, tf = self.evaluate()\n",
        "            print('Epoch-%d: Loss = %.3f\\nTrain RMSE = %.3f||Train Precision = %.3f||Train Recall = %.3f\\nTest RMSE = %.3f || Test Precision = %.3f|| Test Recall = %.3f'%\n",
        "                  (epoch + 1, running_loss / i, running_loss_1 / i,\n",
        "                   tp, tr, vl, vp, vr))\n",
        "            train_loss.append((running_loss_1 / i).cpu().detach().numpy())\n",
        "            test_loss.append(vl.cpu().detach().numpy())\n",
        "            train_f1.append(tf)\n",
        "            test_f1.append(vf)\n",
        "        return(train_loss, test_loss, train_f1, test_f1)\n",
        "\n",
        "    def evaluate(self, k = 3.5):\n",
        "        self.eval()\n",
        "        with torch.no_grad():\n",
        "            valdata = next(iter(testloader))\n",
        "            x1, x2, y = valdata\n",
        "            y_flt = y.type(torch.FloatTensor).to(device)\n",
        "            y_lng = torch.div(y, 4, rounding_mode=\"floor\").to(device)\n",
        "            otpt = self.forward(x1, x2)\n",
        "            pred = (otpt[0] > k).float()\n",
        "            vl = torch.sqrt(self.criterion_rate(otpt[0].squeeze(), y_flt)[1])\n",
        "            vp = precision_score(y_lng.cpu(), pred.cpu(), zero_division = 0)\n",
        "            vr = recall_score(y_lng.cpu(), pred.cpu(), zero_division = 0)\n",
        "            vf = f1_score(y_lng.cpu(), pred.cpu(), zero_division = 0)\n",
        "            print(classification_report(y_lng.cpu(), pred.cpu(),\n",
        "                    target_names = [\"0\", \"1\"], zero_division = 0))\n",
        "\n",
        "            traindata = next(iter(trainloader))\n",
        "            x1, x2, y = traindata\n",
        "            y_flt = y.type(torch.FloatTensor).to(device)\n",
        "            y_lng = torch.div(y, 4, rounding_mode=\"floor\").to(device)\n",
        "            otpt = self.forward(x1, x2)\n",
        "            pred = (otpt[0] > k).float()\n",
        "            tp = precision_score(y_lng.cpu(), pred.cpu(), zero_division = 0)\n",
        "            tr = recall_score(y_lng.cpu(), pred.cpu(), zero_division = 0)\n",
        "            tf = f1_score(y_lng.cpu(), pred.cpu(), zero_division = 0)\n",
        "        return(vl, vp*100, vr*100, vf*100, tp*100, tr*100, tf*100)"
      ]
    },
    {
      "cell_type": "code",
      "execution_count": null,
      "metadata": {
        "id": "0JpUBZ2YwtSy"
      },
      "outputs": [],
      "source": [
        "sm_net = SiameseNet8()\n",
        "sm_net.to(device)"
      ]
    },
    {
      "cell_type": "code",
      "execution_count": null,
      "metadata": {
        "id": "EROYBe2kw3lG"
      },
      "outputs": [],
      "source": [
        "train_loss, test_loss, train_f1, test_f1 = sm_net.fit()"
      ]
    },
    {
      "cell_type": "code",
      "execution_count": null,
      "metadata": {
        "id": "XkQ8bpDbw5FO"
      },
      "outputs": [],
      "source": [
        "sm_net.evaluate(k=3.5)"
      ]
    },
    {
      "cell_type": "code",
      "execution_count": null,
      "metadata": {
        "colab": {
          "base_uri": "https://localhost:8080/",
          "height": 516
        },
        "id": "AMHgWkHpw5WO",
        "outputId": "27fe9236-a6d9-4e30-fd3c-82f1c9f9a6e9"
      },
      "outputs": [
        {
          "name": "stderr",
          "output_type": "stream",
          "text": [
            "<ipython-input-61-abf663b56279>:7: UserWarning: You have mixed positional and keyword arguments, some input may be discarded.\n",
            "  fig.legend([ax, ax2], labels = [\"Train Loss\", \"Test Loss\"], loc = \"upper right\")\n"
          ]
        },
        {
          "data": {
            "image/png": "[encoded data removed]",
            "text/plain": [
              "<Figure size 640x480 with 2 Axes>"
            ]
          },
          "metadata": {},
          "output_type": "display_data"
        }
      ],
      "source": [
        "import matplotlib.pyplot as plt\n",
        "\n",
        "fig, ax = plt.subplots()\n",
        "ax2 = ax.twinx()\n",
        "ax.plot(train_loss[20:], label = \"Train Loss\", color = \"orange\")\n",
        "ax2.plot(test_loss[20:], label = \"Test Loss\")\n",
        "fig.legend([ax, ax2], labels = [\"Train Loss\", \"Test Loss\"], loc = \"upper right\")\n",
        "plt.show()"
      ]
    },
    {
      "cell_type": "code",
      "execution_count": null,
      "metadata": {
        "colab": {
          "base_uri": "https://localhost:8080/",
          "height": 1000
        },
        "id": "5HiTg6MJxBz-",
        "outputId": "71d2efb0-be03-4d29-9f95-c370b06e903a"
      },
      "outputs": [
        {
          "name": "stdout",
          "output_type": "stream",
          "text": [
            "              precision    recall  f1-score   support\n",
            "\n",
            "           0       0.66      0.53      0.59       865\n",
            "           1       0.69      0.80      0.74      1135\n",
            "\n",
            "    accuracy                           0.68      2000\n",
            "   macro avg       0.68      0.66      0.66      2000\n",
            "weighted avg       0.68      0.68      0.67      2000\n",
            "\n",
            "              precision    recall  f1-score   support\n",
            "\n",
            "           0       0.63      0.59      0.61       865\n",
            "           1       0.70      0.74      0.72      1135\n",
            "\n",
            "    accuracy                           0.68      2000\n",
            "   macro avg       0.67      0.66      0.67      2000\n",
            "weighted avg       0.67      0.68      0.67      2000\n",
            "\n",
            "              precision    recall  f1-score   support\n",
            "\n",
            "           0       0.62      0.65      0.64       865\n",
            "           1       0.72      0.69      0.71      1135\n",
            "\n",
            "    accuracy                           0.68      2000\n",
            "   macro avg       0.67      0.67      0.67      2000\n",
            "weighted avg       0.68      0.68      0.68      2000\n",
            "\n",
            "              precision    recall  f1-score   support\n",
            "\n",
            "           0       0.59      0.71      0.64       865\n",
            "           1       0.74      0.62      0.67      1135\n",
            "\n",
            "    accuracy                           0.66      2000\n",
            "   macro avg       0.66      0.66      0.66      2000\n",
            "weighted avg       0.67      0.66      0.66      2000\n",
            "\n",
            "              precision    recall  f1-score   support\n",
            "\n",
            "           0       0.56      0.76      0.64       865\n",
            "           1       0.75      0.55      0.63      1135\n",
            "\n",
            "    accuracy                           0.64      2000\n",
            "   macro avg       0.65      0.65      0.64      2000\n",
            "weighted avg       0.67      0.64      0.64      2000\n",
            "\n",
            "              precision    recall  f1-score   support\n",
            "\n",
            "           0       0.54      0.81      0.65       865\n",
            "           1       0.76      0.48      0.59      1135\n",
            "\n",
            "    accuracy                           0.62      2000\n",
            "   macro avg       0.65      0.64      0.62      2000\n",
            "weighted avg       0.67      0.62      0.61      2000\n",
            "\n",
            "              precision    recall  f1-score   support\n",
            "\n",
            "           0       0.52      0.84      0.64       865\n",
            "           1       0.77      0.41      0.53      1135\n",
            "\n",
            "    accuracy                           0.59      2000\n",
            "   macro avg       0.65      0.62      0.59      2000\n",
            "weighted avg       0.66      0.59      0.58      2000\n",
            "\n",
            "              precision    recall  f1-score   support\n",
            "\n",
            "           0       0.50      0.88      0.64       865\n",
            "           1       0.78      0.32      0.45      1135\n",
            "\n",
            "    accuracy                           0.56      2000\n",
            "   macro avg       0.64      0.60      0.54      2000\n",
            "weighted avg       0.66      0.56      0.53      2000\n",
            "\n",
            "              precision    recall  f1-score   support\n",
            "\n",
            "           0       0.49      0.91      0.63       865\n",
            "           1       0.79      0.27      0.40      1135\n",
            "\n",
            "    accuracy                           0.54      2000\n",
            "   macro avg       0.64      0.59      0.52      2000\n",
            "weighted avg       0.66      0.54      0.50      2000\n",
            "\n",
            "              precision    recall  f1-score   support\n",
            "\n",
            "           0       0.47      0.93      0.63       865\n",
            "           1       0.79      0.21      0.33      1135\n",
            "\n",
            "    accuracy                           0.52      2000\n",
            "   macro avg       0.63      0.57      0.48      2000\n",
            "weighted avg       0.65      0.52      0.46      2000\n",
            "\n"
          ]
        },
        {
          "data": {
            "image/png": "[encoded data removed]",
            "text/plain": [
              "<Figure size 640x480 with 1 Axes>"
            ]
          },
          "metadata": {},
          "output_type": "display_data"
        }
      ],
      "source": [
        "prs = []\n",
        "rec = []\n",
        "f1 = []\n",
        "loss = []\n",
        "\n",
        "for i in np.arange(3, 4, 0.1):\n",
        "    l, p, r, f, _, _, _ = sm_net.evaluate(i)\n",
        "    prs.append(p)\n",
        "    rec.append(r)\n",
        "    f1.append(f)\n",
        "    loss.append(l)\n",
        "\n",
        "plt.plot(prs, label = \"Test Precision\")\n",
        "plt.plot(rec, label = \"Test Recall\")\n",
        "plt.plot(f1, label = \"Test F1\")\n",
        "\n",
        "plt.legend()\n",
        "plt.show()"
      ]
    },
    {
      "cell_type": "markdown",
      "metadata": {
        "id": "RpyAuSTM2aI8"
      },
      "source": [
        "# **(Meta + Text + Video)**"
      ]
    },
    {
      "cell_type": "code",
      "execution_count": null,
      "metadata": {
        "id": "Cwt16zpJxCqT"
      },
      "outputs": [],
      "source": [
        "class SiameseNet9(nn.Module):\n",
        "    def __init__(self, device = device, channel = 84):\n",
        "        super(SiameseNet9, self).__init__()\n",
        "        self.encoder_user = nn.Sequential(OrderedDict([\n",
        "            ('linr1', nn.Linear(train_dataset.user_embedding_size, 1024)),\n",
        "            ('relu1', nn.LeakyReLU()),\n",
        "            ('linr2', nn.Linear(1024, channel)),\n",
        "            ('relu2', nn.LeakyReLU()),\n",
        "        ]))\n",
        "\n",
        "        self.encoder_item = nn.Sequential(OrderedDict([\n",
        "            ('linr1', nn.Linear(train_dataset.item_embedding_size, 256)),\n",
        "            ('relu1', nn.LeakyReLU()),\n",
        "            ('linr2', nn.Linear(256, 300)),\n",
        "            ('relu2', nn.LeakyReLU()),\n",
        "        ]))\n",
        "\n",
        "        self.encoder_video = nn.Sequential(OrderedDict([\n",
        "            ('linr1', nn.Linear(train_dataset.video_embedding_size, 1600)),\n",
        "            ('relu1', nn.LeakyReLU()),\n",
        "            ('linr2', nn.Linear(1600, 300)),\n",
        "            ('relu2', nn.LeakyReLU()),\n",
        "#             ('linr3', nn.Linear(1000, 500)),\n",
        "#             ('relu3', nn.LeakyReLU()),\n",
        "# #             ('norm2', nn.BatchNorm1d(500)),\n",
        "#             ('linr4', nn.Linear(500, 300)),\n",
        "#             ('relu4', nn.LeakyReLU()),\n",
        "        ]))\n",
        "\n",
        "        #self.encoder_audio = nn.Sequential(OrderedDict([\n",
        "        #    ('linr1', nn.Linear(train_dataset.audio_embedding_size, 600)),\n",
        "        #    ('relu1', nn.LeakyReLU()),\n",
        "        #    ('linr4', nn.Linear(600, 300)),\n",
        "        #    ('relu4', nn.LeakyReLU()),\n",
        "        #]))\n",
        "\n",
        "        self.encoder_text = nn.Sequential(OrderedDict([\n",
        "            ('linr1', nn.Linear(train_dataset.text_embedding_size, 256)),\n",
        "            ('relu1', nn.LeakyReLU()),\n",
        "            ('linr2', nn.Linear(256, 300)),\n",
        "            ('relu2', nn.LeakyReLU()),\n",
        "        ]))\n",
        "\n",
        "        self.encoder_meta = nn.Sequential(OrderedDict([\n",
        "            ('linr1', nn.Linear(train_dataset.meta_embedding_size, 1600)),\n",
        "            ('relu1', nn.LeakyReLU()),\n",
        "#             ('norm1', nn.BatchNorm1d(1600)),\n",
        "            ('linr2', nn.Linear(1600, 300)),\n",
        "            ('relu2', nn.LeakyReLU()),\n",
        "#             ('linr3', nn.Linear(1000, 500)),\n",
        "#             ('relu3', nn.LeakyReLU()),\n",
        "#             ('linr4', nn.Linear(500, 300)),\n",
        "#             ('relu4', nn.LeakyReLU()),\n",
        "        ]))\n",
        "\n",
        "        self.fusion = nn.Sequential(OrderedDict([\n",
        "            ('conv1', nn.Conv2d(1, 1, (20, 20), stride=(2, 2))),\n",
        "            ('relu1', nn.LeakyReLU()),\n",
        "            ('conv2', nn.Conv2d(1, 1, (5, 50), stride=(1, 1))),\n",
        "            ('relu2', nn.LeakyReLU()),\n",
        "        ]))\n",
        "\n",
        "        self.siamese = nn.Sequential(OrderedDict([\n",
        "            ('linr1', nn.Linear(channel, 200)),\n",
        "            ('relu1', nn.LeakyReLU()),\n",
        "            ('linr2', nn.Linear(200, 256)),\n",
        "            ('relu2', nn.LeakyReLU()),\n",
        "            ('linr3', nn.Linear(256, 100)),\n",
        "            ('relu3', nn.LeakyReLU()),\n",
        "        ]))\n",
        "\n",
        "        self.ffn = nn.Sequential(OrderedDict([\n",
        "            ('linr1', nn.Linear(300, 164)),\n",
        "            ('actv1', nn.ReLU()),\n",
        "            ('linr2', nn.Linear(164, 1)),\n",
        "#             ('actv2', nn.ReLU()),\n",
        "#             ('linr3', nn.Linear(50, 1)),\n",
        "        ]))\n",
        "\n",
        "        self.device = device\n",
        "        self.encoder_user.apply(self.init_weights)\n",
        "        self.encoder_item.apply(self.init_weights)\n",
        "        self.encoder_video.apply(self.init_weights)\n",
        "        #self.encoder_audio.apply(self.init_weights)\n",
        "        self.encoder_text.apply(self.init_weights)\n",
        "        self.encoder_meta.apply(self.init_weights)\n",
        "        self.siamese.apply(self.init_weights)\n",
        "        self.ffn.apply(self.init_weights)\n",
        "\n",
        "    def init_weights(self, m):\n",
        "        if isinstance(m, nn.Linear):\n",
        "            nn.init.kaiming_normal_(m.weight)\n",
        "            m.bias.data.fill_(0.01)\n",
        "\n",
        "    def exp(self, q, k, v):\n",
        "        z = torch.bmm(q, k.permute(0, 2, 1))\n",
        "        z = F.normalize(z, p = 10, dim = 1)\n",
        "        z = torch.softmax(z, 1)\n",
        "        z = torch.bmm(z, v)\n",
        "        return(z)\n",
        "\n",
        "    def forward(self, x1, x2):\n",
        "        # Modality-encoders\n",
        "        outu = self.encoder_user(x1)\n",
        "        outr = self.encoder_item(x2[3])\n",
        "        outv = torch.split(self.encoder_video(x2[0]), [100, 100, 100], 1)\n",
        "        #outa = torch.split(self.encoder_audio(x2[1]), [100, 100, 100], 1)\n",
        "        outt = torch.split(self.encoder_text(x2[2]), 100, 1)\n",
        "        outm = torch.split(self.encoder_meta(x2[4]), [100, 100, 100], 1)\n",
        "\n",
        "        # Attention\n",
        "        q_t = outt[0].unsqueeze(1).repeat(1, ROW, 1)\n",
        "        k_t = outt[1].unsqueeze(1).repeat(1, ROW, 1)\n",
        "        v_t = outt[2].unsqueeze(1).repeat(1, ROW, 1)\n",
        "\n",
        "        #q_a = outa[0].unsqueeze(1).repeat(1, ROW, 1)\n",
        "        #k_a = outa[1].unsqueeze(1).repeat(1, ROW, 1)\n",
        "        #v_a = outa[2].unsqueeze(1).repeat(1, ROW, 1)\n",
        "\n",
        "        q_v = outv[0].unsqueeze(1).repeat(1, ROW, 1)\n",
        "        k_v = outv[1].unsqueeze(1).repeat(1, ROW, 1)\n",
        "        v_v = outv[2].unsqueeze(1).repeat(1, ROW, 1)\n",
        "\n",
        "        q_m = outm[0].unsqueeze(1).repeat(1, ROW, 1)\n",
        "        k_m = outm[1].unsqueeze(1).repeat(1, ROW, 1)\n",
        "        v_m = outm[2].unsqueeze(1).repeat(1, ROW, 1)\n",
        "\n",
        "        # Self-Attention\n",
        "        st = self.exp(q_t, k_t, v_t)\n",
        "        sm = self.exp(q_m, k_m, v_m)\n",
        "        #sa = self.exp(q_a, k_a, v_a)\n",
        "        sv = self.exp(q_v, k_v, v_v)\n",
        "\n",
        "        # Inter-Modal Attention\n",
        "        #ita = self.exp(q_a, k_t, v_a)\n",
        "        itt = self.exp(q_t, k_t, v_t)\n",
        "        imv = self.exp(q_v, k_m, v_v)\n",
        "        itm = self.exp(q_m, k_t, v_m)\n",
        "\n",
        "        # Forward\n",
        "        ma = torch.mean(torch.stack([st, itt]), 0)\n",
        "        mv = torch.mean(torch.stack([sv, imv]), 0)\n",
        "        sda = itm\n",
        "        se = torch.mul(ma, mv)\n",
        "        outi = torch.cat((sda, se), axis = 2)#.reshape(-1, ROW * 1200)\n",
        "        outi = self.fusion(outi.unsqueeze(1))\n",
        "        out1 = self.siamese(outu)\n",
        "        out2 = self.siamese(outi.reshape(BATCH, -1))\n",
        "        diff = torch.cat((out1, out2, outm[2]), axis=1)\n",
        "        out = self.ffn(diff)\n",
        "        return(out, out1, out2)\n",
        "\n",
        "    def fit(self, trainloader = trainloader,\n",
        "            testloader = testloader, epochs = 20):\n",
        "        self.criterion_rate = weighted_mse_loss\n",
        "        self.criterion_embd = nn.CosineEmbeddingLoss()\n",
        "        self.optimizer = optim.Adam(self.parameters(), lr = 1e-4)\n",
        "\n",
        "        train_loss = []\n",
        "        train_f1 = []\n",
        "        test_loss = []\n",
        "        test_f1 = []\n",
        "        for epoch in range(epochs):\n",
        "            running_loss = 0.0\n",
        "            running_loss_1 = 0.0\n",
        "\n",
        "            for i, data in tqdm(enumerate(trainloader)):\n",
        "                self.train()\n",
        "                x1, x2, y = data\n",
        "                y_flt = y.type(torch.FloatTensor).to(device)\n",
        "                y_lng = torch.div(y, 4, rounding_mode=\"floor\").to(device)\n",
        "                self.optimizer.zero_grad()\n",
        "                reg, outu, outi = self.forward(x1, x2)\n",
        "                loss_1, loss_ = self.criterion_rate(reg.squeeze(), y_flt)\n",
        "                loss_2 = self.criterion_embd(outu, outi, y_lng * 2 - 1)\n",
        "                loss = loss_1 + loss_2\n",
        "                loss.backward()\n",
        "                self.optimizer.step()\n",
        "\n",
        "                running_loss_1 += torch.sqrt(loss_)\n",
        "                running_loss += loss\n",
        "            vl, vp, vr, vf, tp, tr, tf = self.evaluate()\n",
        "            print('Epoch-%d: Loss = %.3f\\nTrain RMSE = %.3f||Train Precision = %.3f||Train Recall = %.3f\\nTest RMSE = %.3f || Test Precision = %.3f|| Test Recall = %.3f'%\n",
        "                  (epoch + 1, running_loss / i, running_loss_1 / i,\n",
        "                   tp, tr, vl, vp, vr))\n",
        "            train_loss.append((running_loss_1 / i).cpu().detach().numpy())\n",
        "            test_loss.append(vl.cpu().detach().numpy())\n",
        "            train_f1.append(tf)\n",
        "            test_f1.append(vf)\n",
        "        return(train_loss, test_loss, train_f1, test_f1)\n",
        "\n",
        "    def evaluate(self, k = 3.5):\n",
        "        self.eval()\n",
        "        with torch.no_grad():\n",
        "            valdata = next(iter(testloader))\n",
        "            x1, x2, y = valdata\n",
        "            y_flt = y.type(torch.FloatTensor).to(device)\n",
        "            y_lng = torch.div(y, 4, rounding_mode=\"floor\").to(device)\n",
        "            otpt = self.forward(x1, x2)\n",
        "            pred = (otpt[0] > k).float()\n",
        "            vl = torch.sqrt(self.criterion_rate(otpt[0].squeeze(), y_flt)[1])\n",
        "            vp = precision_score(y_lng.cpu(), pred.cpu(), zero_division = 0)\n",
        "            vr = recall_score(y_lng.cpu(), pred.cpu(), zero_division = 0)\n",
        "            vf = f1_score(y_lng.cpu(), pred.cpu(), zero_division = 0)\n",
        "            print(classification_report(y_lng.cpu(), pred.cpu(),\n",
        "                    target_names = [\"0\", \"1\"], zero_division = 0))\n",
        "\n",
        "            traindata = next(iter(trainloader))\n",
        "            x1, x2, y = traindata\n",
        "            y_flt = y.type(torch.FloatTensor).to(device)\n",
        "            y_lng = torch.div(y, 4, rounding_mode=\"floor\").to(device)\n",
        "            otpt = self.forward(x1, x2)\n",
        "            pred = (otpt[0] > k).float()\n",
        "            tp = precision_score(y_lng.cpu(), pred.cpu(), zero_division = 0)\n",
        "            tr = recall_score(y_lng.cpu(), pred.cpu(), zero_division = 0)\n",
        "            tf = f1_score(y_lng.cpu(), pred.cpu(), zero_division = 0)\n",
        "        return(vl, vp*100, vr*100, vf*100, tp*100, tr*100, tf*100)"
      ]
    },
    {
      "cell_type": "code",
      "execution_count": null,
      "metadata": {
        "colab": {
          "base_uri": "https://localhost:8080/"
        },
        "id": "XQy68lRw2obf",
        "outputId": "bad853ee-23b6-4031-e304-865a037175e4"
      },
      "outputs": [
        {
          "data": {
            "text/plain": [
              "SiameseNet9(\n",
              "  (encoder_user): Sequential(\n",
              "    (linr1): Linear(in_features=1220, out_features=1024, bias=True)\n",
              "    (relu1): LeakyReLU(negative_slope=0.01)\n",
              "    (linr2): Linear(in_features=1024, out_features=84, bias=True)\n",
              "    (relu2): LeakyReLU(negative_slope=0.01)\n",
              "  )\n",
              "  (encoder_item): Sequential(\n",
              "    (linr1): Linear(in_features=943, out_features=256, bias=True)\n",
              "    (relu1): LeakyReLU(negative_slope=0.01)\n",
              "    (linr2): Linear(in_features=256, out_features=300, bias=True)\n",
              "    (relu2): LeakyReLU(negative_slope=0.01)\n",
              "  )\n",
              "  (encoder_video): Sequential(\n",
              "    (linr1): Linear(in_features=1024, out_features=1600, bias=True)\n",
              "    (relu1): LeakyReLU(negative_slope=0.01)\n",
              "    (linr2): Linear(in_features=1600, out_features=300, bias=True)\n",
              "    (relu2): LeakyReLU(negative_slope=0.01)\n",
              "  )\n",
              "  (encoder_text): Sequential(\n",
              "    (linr1): Linear(in_features=384, out_features=256, bias=True)\n",
              "    (relu1): LeakyReLU(negative_slope=0.01)\n",
              "    (linr2): Linear(in_features=256, out_features=300, bias=True)\n",
              "    (relu2): LeakyReLU(negative_slope=0.01)\n",
              "  )\n",
              "  (encoder_meta): Sequential(\n",
              "    (linr1): Linear(in_features=1220, out_features=1600, bias=True)\n",
              "    (relu1): LeakyReLU(negative_slope=0.01)\n",
              "    (linr2): Linear(in_features=1600, out_features=300, bias=True)\n",
              "    (relu2): LeakyReLU(negative_slope=0.01)\n",
              "  )\n",
              "  (fusion): Sequential(\n",
              "    (conv1): Conv2d(1, 1, kernel_size=(20, 20), stride=(2, 2))\n",
              "    (relu1): LeakyReLU(negative_slope=0.01)\n",
              "    (conv2): Conv2d(1, 1, kernel_size=(5, 50), stride=(1, 1))\n",
              "    (relu2): LeakyReLU(negative_slope=0.01)\n",
              "  )\n",
              "  (siamese): Sequential(\n",
              "    (linr1): Linear(in_features=84, out_features=200, bias=True)\n",
              "    (relu1): LeakyReLU(negative_slope=0.01)\n",
              "    (linr2): Linear(in_features=200, out_features=256, bias=True)\n",
              "    (relu2): LeakyReLU(negative_slope=0.01)\n",
              "    (linr3): Linear(in_features=256, out_features=100, bias=True)\n",
              "    (relu3): LeakyReLU(negative_slope=0.01)\n",
              "  )\n",
              "  (ffn): Sequential(\n",
              "    (linr1): Linear(in_features=300, out_features=164, bias=True)\n",
              "    (actv1): ReLU()\n",
              "    (linr2): Linear(in_features=164, out_features=1, bias=True)\n",
              "  )\n",
              ")"
            ]
          },
          "execution_count": 26,
          "metadata": {},
          "output_type": "execute_result"
        }
      ],
      "source": [
        "sm_net = SiameseNet9()\n",
        "sm_net.to(device)"
      ]
    },
    {
      "cell_type": "code",
      "execution_count": null,
      "metadata": {
        "colab": {
          "base_uri": "https://localhost:8080/"
        },
        "id": "l3wRWma12pnq",
        "outputId": "ef9e5765-192c-431a-fcf5-f79130b5584d"
      },
      "outputs": [
        {
          "name": "stderr",
          "output_type": "stream",
          "text": [
            "40it [03:58,  5.97s/it]\n"
          ]
        },
        {
          "name": "stdout",
          "output_type": "stream",
          "text": [
            "              precision    recall  f1-score   support\n",
            "\n",
            "           0       0.43      0.98      0.60       865\n",
            "           1       0.35      0.01      0.01      1135\n",
            "\n",
            "    accuracy                           0.43      2000\n",
            "   macro avg       0.39      0.50      0.31      2000\n",
            "weighted avg       0.38      0.43      0.27      2000\n",
            "\n",
            "Epoch-1: Loss = 7.280\n",
            "Train RMSE = 1.936||Train Precision = 50.000||Train Recall = 0.090\n",
            "Test RMSE = 1.512 || Test Precision = 35.000|| Test Recall = 0.617\n"
          ]
        },
        {
          "name": "stderr",
          "output_type": "stream",
          "text": [
            "40it [03:40,  5.51s/it]\n"
          ]
        },
        {
          "name": "stdout",
          "output_type": "stream",
          "text": [
            "              precision    recall  f1-score   support\n",
            "\n",
            "           0       0.44      0.90      0.59       865\n",
            "           1       0.63      0.13      0.21      1135\n",
            "\n",
            "    accuracy                           0.46      2000\n",
            "   macro avg       0.54      0.51      0.40      2000\n",
            "weighted avg       0.55      0.46      0.38      2000\n",
            "\n",
            "Epoch-2: Loss = 3.821\n",
            "Train RMSE = 1.255||Train Precision = 75.177||Train Recall = 9.389\n",
            "Test RMSE = 1.324 || Test Precision = 63.043|| Test Recall = 12.775\n"
          ]
        },
        {
          "name": "stderr",
          "output_type": "stream",
          "text": [
            "40it [03:27,  5.19s/it]\n"
          ]
        },
        {
          "name": "stdout",
          "output_type": "stream",
          "text": [
            "              precision    recall  f1-score   support\n",
            "\n",
            "           0       0.48      0.85      0.61       865\n",
            "           1       0.72      0.30      0.42      1135\n",
            "\n",
            "    accuracy                           0.54      2000\n",
            "   macro avg       0.60      0.57      0.52      2000\n",
            "weighted avg       0.62      0.54      0.50      2000\n",
            "\n",
            "Epoch-3: Loss = 3.475\n",
            "Train RMSE = 1.193||Train Precision = 75.921||Train Recall = 24.453\n",
            "Test RMSE = 1.250 || Test Precision = 71.975|| Test Recall = 29.868\n"
          ]
        },
        {
          "name": "stderr",
          "output_type": "stream",
          "text": [
            "40it [03:27,  5.19s/it]\n"
          ]
        },
        {
          "name": "stdout",
          "output_type": "stream",
          "text": [
            "              precision    recall  f1-score   support\n",
            "\n",
            "           0       0.50      0.85      0.63       865\n",
            "           1       0.75      0.34      0.47      1135\n",
            "\n",
            "    accuracy                           0.56      2000\n",
            "   macro avg       0.63      0.60      0.55      2000\n",
            "weighted avg       0.64      0.56      0.54      2000\n",
            "\n",
            "Epoch-4: Loss = 3.196\n",
            "Train RMSE = 1.142||Train Precision = 78.270||Train Recall = 32.832\n",
            "Test RMSE = 1.219 || Test Precision = 75.337|| Test Recall = 34.449\n"
          ]
        },
        {
          "name": "stderr",
          "output_type": "stream",
          "text": [
            "40it [03:35,  5.39s/it]\n"
          ]
        },
        {
          "name": "stdout",
          "output_type": "stream",
          "text": [
            "              precision    recall  f1-score   support\n",
            "\n",
            "           0       0.54      0.72      0.62       865\n",
            "           1       0.71      0.53      0.60      1135\n",
            "\n",
            "    accuracy                           0.61      2000\n",
            "   macro avg       0.62      0.62      0.61      2000\n",
            "weighted avg       0.64      0.61      0.61      2000\n",
            "\n",
            "Epoch-5: Loss = 2.971\n",
            "Train RMSE = 1.108||Train Precision = 75.857||Train Recall = 50.410\n",
            "Test RMSE = 1.169 || Test Precision = 71.156|| Test Recall = 52.599\n"
          ]
        },
        {
          "name": "stderr",
          "output_type": "stream",
          "text": [
            "40it [03:27,  5.18s/it]\n"
          ]
        },
        {
          "name": "stdout",
          "output_type": "stream",
          "text": [
            "              precision    recall  f1-score   support\n",
            "\n",
            "           0       0.55      0.71      0.62       865\n",
            "           1       0.72      0.56      0.63      1135\n",
            "\n",
            "    accuracy                           0.63      2000\n",
            "   macro avg       0.64      0.64      0.63      2000\n",
            "weighted avg       0.65      0.63      0.63      2000\n",
            "\n",
            "Epoch-6: Loss = 2.826\n",
            "Train RMSE = 1.082||Train Precision = 77.850||Train Recall = 53.327\n",
            "Test RMSE = 1.162 || Test Precision = 72.041|| Test Recall = 56.300\n"
          ]
        },
        {
          "name": "stderr",
          "output_type": "stream",
          "text": [
            "40it [03:28,  5.22s/it]\n"
          ]
        },
        {
          "name": "stdout",
          "output_type": "stream",
          "text": [
            "              precision    recall  f1-score   support\n",
            "\n",
            "           0       0.54      0.75      0.63       865\n",
            "           1       0.73      0.52      0.61      1135\n",
            "\n",
            "    accuracy                           0.62      2000\n",
            "   macro avg       0.64      0.64      0.62      2000\n",
            "weighted avg       0.65      0.62      0.62      2000\n",
            "\n",
            "Epoch-7: Loss = 2.717\n",
            "Train RMSE = 1.062||Train Precision = 77.253||Train Recall = 50.093\n",
            "Test RMSE = 1.172 || Test Precision = 73.300|| Test Recall = 52.247\n"
          ]
        },
        {
          "name": "stderr",
          "output_type": "stream",
          "text": [
            "40it [03:35,  5.38s/it]\n"
          ]
        },
        {
          "name": "stdout",
          "output_type": "stream",
          "text": [
            "              precision    recall  f1-score   support\n",
            "\n",
            "           0       0.57      0.72      0.63       865\n",
            "           1       0.73      0.58      0.65      1135\n",
            "\n",
            "    accuracy                           0.64      2000\n",
            "   macro avg       0.65      0.65      0.64      2000\n",
            "weighted avg       0.66      0.64      0.64      2000\n",
            "\n",
            "Epoch-8: Loss = 2.655\n",
            "Train RMSE = 1.057||Train Precision = 78.210||Train Recall = 53.269\n",
            "Test RMSE = 1.148 || Test Precision = 72.848|| Test Recall = 58.150\n"
          ]
        },
        {
          "name": "stderr",
          "output_type": "stream",
          "text": [
            "40it [03:27,  5.19s/it]\n"
          ]
        },
        {
          "name": "stdout",
          "output_type": "stream",
          "text": [
            "              precision    recall  f1-score   support\n",
            "\n",
            "           0       0.56      0.72      0.63       865\n",
            "           1       0.72      0.56      0.63      1135\n",
            "\n",
            "    accuracy                           0.63      2000\n",
            "   macro avg       0.64      0.64      0.63      2000\n",
            "weighted avg       0.65      0.63      0.63      2000\n",
            "\n",
            "Epoch-9: Loss = 2.584\n",
            "Train RMSE = 1.047||Train Precision = 78.900||Train Recall = 54.893\n",
            "Test RMSE = 1.154 || Test Precision = 72.398|| Test Recall = 56.388\n"
          ]
        },
        {
          "name": "stderr",
          "output_type": "stream",
          "text": [
            "40it [03:29,  5.23s/it]\n"
          ]
        },
        {
          "name": "stdout",
          "output_type": "stream",
          "text": [
            "              precision    recall  f1-score   support\n",
            "\n",
            "           0       0.56      0.77      0.65       865\n",
            "           1       0.75      0.53      0.62      1135\n",
            "\n",
            "    accuracy                           0.64      2000\n",
            "   macro avg       0.66      0.65      0.64      2000\n",
            "weighted avg       0.67      0.64      0.63      2000\n",
            "\n",
            "Epoch-10: Loss = 2.548\n",
            "Train RMSE = 1.044||Train Precision = 78.382||Train Recall = 48.587\n",
            "Test RMSE = 1.154 || Test Precision = 75.469|| Test Recall = 53.128\n"
          ]
        },
        {
          "name": "stderr",
          "output_type": "stream",
          "text": [
            "40it [03:33,  5.33s/it]\n"
          ]
        },
        {
          "name": "stdout",
          "output_type": "stream",
          "text": [
            "              precision    recall  f1-score   support\n",
            "\n",
            "           0       0.56      0.77      0.65       865\n",
            "           1       0.75      0.54      0.63      1135\n",
            "\n",
            "    accuracy                           0.64      2000\n",
            "   macro avg       0.65      0.65      0.64      2000\n",
            "weighted avg       0.67      0.64      0.64      2000\n",
            "\n",
            "Epoch-11: Loss = 2.504\n",
            "Train RMSE = 1.041||Train Precision = 79.885||Train Recall = 50.135\n",
            "Test RMSE = 1.152 || Test Precision = 75.061|| Test Recall = 53.833\n"
          ]
        },
        {
          "name": "stderr",
          "output_type": "stream",
          "text": [
            "40it [03:28,  5.20s/it]\n"
          ]
        },
        {
          "name": "stdout",
          "output_type": "stream",
          "text": [
            "              precision    recall  f1-score   support\n",
            "\n",
            "           0       0.58      0.69      0.63       865\n",
            "           1       0.72      0.63      0.67      1135\n",
            "\n",
            "    accuracy                           0.65      2000\n",
            "   macro avg       0.65      0.66      0.65      2000\n",
            "weighted avg       0.66      0.65      0.65      2000\n",
            "\n",
            "Epoch-12: Loss = 2.474\n",
            "Train RMSE = 1.037||Train Precision = 77.157||Train Recall = 57.938\n",
            "Test RMSE = 1.143 || Test Precision = 72.358|| Test Recall = 62.731\n"
          ]
        },
        {
          "name": "stderr",
          "output_type": "stream",
          "text": [
            "40it [03:32,  5.31s/it]\n"
          ]
        },
        {
          "name": "stdout",
          "output_type": "stream",
          "text": [
            "              precision    recall  f1-score   support\n",
            "\n",
            "           0       0.57      0.74      0.64       865\n",
            "           1       0.75      0.57      0.65      1135\n",
            "\n",
            "    accuracy                           0.65      2000\n",
            "   macro avg       0.66      0.66      0.65      2000\n",
            "weighted avg       0.67      0.65      0.65      2000\n",
            "\n",
            "Epoch-13: Loss = 2.454\n",
            "Train RMSE = 1.035||Train Precision = 79.195||Train Recall = 52.820\n",
            "Test RMSE = 1.143 || Test Precision = 74.512|| Test Recall = 57.181\n"
          ]
        },
        {
          "name": "stderr",
          "output_type": "stream",
          "text": [
            "40it [03:30,  5.27s/it]\n"
          ]
        },
        {
          "name": "stdout",
          "output_type": "stream",
          "text": [
            "              precision    recall  f1-score   support\n",
            "\n",
            "           0       0.60      0.67      0.63       865\n",
            "           1       0.72      0.65      0.69      1135\n",
            "\n",
            "    accuracy                           0.66      2000\n",
            "   macro avg       0.66      0.66      0.66      2000\n",
            "weighted avg       0.67      0.66      0.66      2000\n",
            "\n",
            "Epoch-14: Loss = 2.441\n",
            "Train RMSE = 1.034||Train Precision = 79.429||Train Recall = 61.888\n",
            "Test RMSE = 1.131 || Test Precision = 72.461|| Test Recall = 65.374\n"
          ]
        },
        {
          "name": "stderr",
          "output_type": "stream",
          "text": [
            "40it [03:30,  5.25s/it]\n"
          ]
        },
        {
          "name": "stdout",
          "output_type": "stream",
          "text": [
            "              precision    recall  f1-score   support\n",
            "\n",
            "           0       0.59      0.68      0.63       865\n",
            "           1       0.73      0.64      0.68      1135\n",
            "\n",
            "    accuracy                           0.66      2000\n",
            "   macro avg       0.66      0.66      0.66      2000\n",
            "weighted avg       0.67      0.66      0.66      2000\n",
            "\n",
            "Epoch-15: Loss = 2.425\n",
            "Train RMSE = 1.032||Train Precision = 76.995||Train Recall = 59.963\n",
            "Test RMSE = 1.135 || Test Precision = 72.563|| Test Recall = 63.612\n"
          ]
        },
        {
          "name": "stderr",
          "output_type": "stream",
          "text": [
            "40it [03:30,  5.25s/it]\n"
          ]
        },
        {
          "name": "stdout",
          "output_type": "stream",
          "text": [
            "              precision    recall  f1-score   support\n",
            "\n",
            "           0       0.57      0.77      0.65       865\n",
            "           1       0.76      0.56      0.64      1135\n",
            "\n",
            "    accuracy                           0.65      2000\n",
            "   macro avg       0.66      0.66      0.65      2000\n",
            "weighted avg       0.68      0.65      0.65      2000\n",
            "\n",
            "Epoch-16: Loss = 2.418\n",
            "Train RMSE = 1.030||Train Precision = 79.207||Train Recall = 51.375\n",
            "Test RMSE = 1.143 || Test Precision = 75.837|| Test Recall = 55.859\n"
          ]
        },
        {
          "name": "stderr",
          "output_type": "stream",
          "text": [
            "40it [03:28,  5.21s/it]\n"
          ]
        },
        {
          "name": "stdout",
          "output_type": "stream",
          "text": [
            "              precision    recall  f1-score   support\n",
            "\n",
            "           0       0.59      0.73      0.65       865\n",
            "           1       0.75      0.61      0.67      1135\n",
            "\n",
            "    accuracy                           0.66      2000\n",
            "   macro avg       0.67      0.67      0.66      2000\n",
            "weighted avg       0.68      0.66      0.66      2000\n",
            "\n",
            "Epoch-17: Loss = 2.404\n",
            "Train RMSE = 1.030||Train Precision = 80.856||Train Recall = 57.270\n",
            "Test RMSE = 1.128 || Test Precision = 74.620|| Test Recall = 60.617\n"
          ]
        },
        {
          "name": "stderr",
          "output_type": "stream",
          "text": [
            "40it [03:33,  5.33s/it]\n"
          ]
        },
        {
          "name": "stdout",
          "output_type": "stream",
          "text": [
            "              precision    recall  f1-score   support\n",
            "\n",
            "           0       0.58      0.74      0.65       865\n",
            "           1       0.75      0.59      0.66      1135\n",
            "\n",
            "    accuracy                           0.65      2000\n",
            "   macro avg       0.66      0.67      0.65      2000\n",
            "weighted avg       0.68      0.65      0.65      2000\n",
            "\n",
            "Epoch-18: Loss = 2.398\n",
            "Train RMSE = 1.027||Train Precision = 77.951||Train Recall = 54.537\n",
            "Test RMSE = 1.139 || Test Precision = 75.056|| Test Recall = 58.590\n"
          ]
        },
        {
          "name": "stderr",
          "output_type": "stream",
          "text": [
            "40it [03:28,  5.21s/it]\n"
          ]
        },
        {
          "name": "stdout",
          "output_type": "stream",
          "text": [
            "              precision    recall  f1-score   support\n",
            "\n",
            "           0       0.57      0.76      0.65       865\n",
            "           1       0.76      0.57      0.65      1135\n",
            "\n",
            "    accuracy                           0.65      2000\n",
            "   macro avg       0.66      0.66      0.65      2000\n",
            "weighted avg       0.68      0.65      0.65      2000\n",
            "\n",
            "Epoch-19: Loss = 2.391\n",
            "Train RMSE = 1.028||Train Precision = 79.536||Train Recall = 50.321\n",
            "Test RMSE = 1.143 || Test Precision = 75.558|| Test Recall = 56.652\n"
          ]
        },
        {
          "name": "stderr",
          "output_type": "stream",
          "text": [
            "40it [03:28,  5.21s/it]\n"
          ]
        },
        {
          "name": "stdout",
          "output_type": "stream",
          "text": [
            "              precision    recall  f1-score   support\n",
            "\n",
            "           0       0.58      0.72      0.65       865\n",
            "           1       0.74      0.60      0.66      1135\n",
            "\n",
            "    accuracy                           0.66      2000\n",
            "   macro avg       0.66      0.66      0.65      2000\n",
            "weighted avg       0.67      0.66      0.66      2000\n",
            "\n",
            "Epoch-20: Loss = 2.394\n",
            "Train RMSE = 1.027||Train Precision = 78.689||Train Recall = 57.091\n",
            "Test RMSE = 1.130 || Test Precision = 74.159|| Test Recall = 60.176\n"
          ]
        }
      ],
      "source": [
        "train_loss, test_loss, train_f1, test_f1 = sm_net.fit()"
      ]
    },
    {
      "cell_type": "code",
      "execution_count": null,
      "metadata": {
        "colab": {
          "base_uri": "https://localhost:8080/"
        },
        "id": "XFNWEvuN2rmN",
        "outputId": "bc9f08bb-d163-412e-df80-b932ee9eee3a"
      },
      "outputs": [
        {
          "name": "stdout",
          "output_type": "stream",
          "text": [
            "              precision    recall  f1-score   support\n",
            "\n",
            "           0       0.58      0.72      0.65       865\n",
            "           1       0.74      0.60      0.66      1135\n",
            "\n",
            "    accuracy                           0.66      2000\n",
            "   macro avg       0.66      0.66      0.65      2000\n",
            "weighted avg       0.67      0.66      0.66      2000\n",
            "\n"
          ]
        },
        {
          "data": {
            "text/plain": [
              "(tensor(1.1296),\n",
              " 74.1585233441911,\n",
              " 60.176211453744486,\n",
              " 66.43968871595331,\n",
              " 80.62418725617685,\n",
              " 56.56934306569343,\n",
              " 66.48793565683646)"
            ]
          },
          "execution_count": 28,
          "metadata": {},
          "output_type": "execute_result"
        }
      ],
      "source": [
        "sm_net.evaluate(k=3.5)"
      ]
    },
    {
      "cell_type": "code",
      "execution_count": null,
      "metadata": {
        "id": "euEt0BJa3LWw"
      },
      "outputs": [],
      "source": []
    }
  ],
  "metadata": {
    "accelerator": "GPU",
    "colab": {
      "gpuType": "T4",
      "provenance": []
    },
    "kernelspec": {
      "display_name": "Python 3",
      "name": "python3"
    },
    "language_info": {
      "name": "python"
    }
  },
  "nbformat": 4,
  "nbformat_minor": 0
}
